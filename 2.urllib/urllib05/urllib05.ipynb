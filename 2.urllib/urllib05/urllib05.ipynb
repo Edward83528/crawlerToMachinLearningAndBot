{
 "cells": [
  {
   "cell_type": "markdown",
   "metadata": {},
   "source": [
    "# urllib - split - Mobile01 區分置頂文與內文 - 輸出JSON檔案"
   ]
  },
  {
   "cell_type": "code",
   "execution_count": 1,
   "metadata": {},
   "outputs": [
    {
     "name": "stdout",
     "output_type": "stream",
     "text": [
      "Done\n"
     ]
    }
   ],
   "source": [
    "#65001\n",
    "import urllib.request\n",
    "import json\n",
    "import codecs\n",
    "\n",
    "def start_requests():\n",
    "    urls = [\n",
    "        'https://www.mobile01.com/forumtopic.php?c=16&p=1',\n",
    "    ]\n",
    "    for url in urls:\n",
    "        parseMobile01(url)\n",
    "\n",
    "def parseMobile01(uri):\n",
    "    req = urllib.request.Request(\n",
    "        uri, \n",
    "        data=None, \n",
    "        headers={\n",
    "            'User-Agent': 'Mozilla/5.0 (Macintosh; Intel Mac OS X 10_9_3) AppleWebKit/537.36 (KHTML, like Gecko) Chrome/35.0.1916.47 Safari/537.36'\n",
    "        }\n",
    "    )\n",
    "    handle = urllib.request.urlopen(req)\n",
    "    encoding = handle.headers.get_content_charset()\n",
    "    html_data =  handle.read().decode(encoding)\n",
    "    title = ''\n",
    "    link = ''\n",
    "    items = []   #to do 移到程式主進入點 以免覆蓋檔案\n",
    "    for a in html_data.split('l-listTable__td\">')[1:]:\n",
    "        if 'o-hashtag is-mini is-default' in a:\n",
    "            # 公告\n",
    "            link = 'https://www.mobile01.com/'+a.split('href=\"')[1].split('\"')[0]\n",
    "            title = a.split('c-link u-ellipsis\" >')[1].split('</')[0]\n",
    "        if 'o-hashtag is-mini is-heightLight' in a:\n",
    "            # 置頂文\n",
    "            link = 'https://www.mobile01.com/'+a.split('href=\"')[1].split('\"')[0]\n",
    "            title = a.split('c-link u-ellipsis\" >')[1].split('</')[0]\n",
    "        elif 'l-listTable__tbody' not in a:\n",
    "            # 非置頂文, 中間有發現標頭的部分不處理\n",
    "            link = 'https://www.mobile01.com/'+a.split('href=\"')[1].split('\"')[0]\n",
    "            title = a.split('c-link u-ellipsis\" >')[1].split('</')[0]\n",
    "        if len(title)>0 and len(link)>0:\n",
    "            items.append([title, link])\n",
    "    row_json = json.dumps(dict(items), ensure_ascii=False)\n",
    "    #print(row_json)\n",
    "    row_json = json.dumps(dict(items), ensure_ascii=False)\n",
    "    file = codecs.open('out.json', 'w', encoding='utf-8')\n",
    "    file.write(row_json)\n",
    "    file.close()\n",
    "\n",
    "if __name__ == '__main__':\n",
    "    start_requests();\n",
    "    print(\"Done\")"
   ]
  },
  {
   "cell_type": "code",
   "execution_count": 2,
   "metadata": {},
   "outputs": [
    {
     "name": "stdout",
     "output_type": "stream",
     "text": [
      "[公告] 智慧型與傳統手機各版面發文公告規則 (2017年09月14日更新)\n",
      "https://www.mobile01.com/topicdetail.php?f=61&amp;t=3036682\n",
      "網速低於42M能叫做4G嗎？\n",
      "https://www.mobile01.com/topicdetail.php?f=18&amp;t=6102233\n",
      "Sony Xperia 1 II終於要上市了！ 台灣6/4發表 明起粉絲可報名體驗活動\n",
      "https://www.mobile01.com/topicdetail.php?f=569&amp;t=6101996\n",
      "華為運動穿戴持續推出  HUAWEI WATCH GT 2e、Band 4 Pro升級新品6月初上市\n",
      "https://www.mobile01.com/topicdetail.php?f=629&amp;t=6102624\n",
      "5G 評價依然慘烈！兩項原因讓多數用戶繼續用 4G\n",
      "https://www.mobile01.com/topicdetail.php?f=18&amp;t=6102087\n",
      "20200526 CN~ Redmi 10X/Pro 系列 / 電視 , 筆電~ 直播線上發佈會(PM 14:00) ...\n",
      "https://www.mobile01.com/topicdetail.php?f=634&amp;t=6101932\n",
      "亞太11用戶專屬特案延長到月底\n",
      "https://www.mobile01.com/topicdetail.php?f=18&amp;t=6102458\n",
      "智慧家庭實際使用心得: Google Nest Mini 2, Chromecast v3, BroadLink RM mini3 /RM Pro+, Sonoff RF雙控版 智能雲端電源開關\n",
      "https://www.mobile01.com/topicdetail.php?f=565&amp;t=5995106\n",
      "送男友生日禮物 推薦小米那隻手機？\n",
      "https://www.mobile01.com/topicdetail.php?f=634&amp;t=6101839\n",
      "realme海量產品來襲！新電競旗艦X50 Pro玩家版、耳機也有設計大師加持\n",
      "https://www.mobile01.com/topicdetail.php?f=689&amp;t=6101349\n",
      "台星U25直播99不限速吃到飽開箱！！\n",
      "https://www.mobile01.com/topicdetail.php?f=18&amp;t=6102073\n",
      "請問 中華電信 有沒有 輕速上網吃到飽 可辦?\n",
      "https://www.mobile01.com/topicdetail.php?f=18&amp;t=6102162\n",
      "更新米家多功能網關後無法連線智能插座\n",
      "https://www.mobile01.com/topicdetail.php?f=634&amp;t=6094477\n",
      "S20+ 更新\n",
      "https://www.mobile01.com/topicdetail.php?f=568&amp;t=6101146\n",
      "Xperia 1 II原來也不支援mmwave……\n",
      "https://www.mobile01.com/topicdetail.php?f=569&amp;t=6102003\n",
      "現在買XZ3 OK嗎\n",
      "https://www.mobile01.com/topicdetail.php?f=569&amp;t=6102687\n",
      "安卓10.0不能用華為運動健康不能用\n",
      "https://www.mobile01.com/topicdetail.php?f=738&amp;t=6100414\n",
      "SONY XPERIA 1 II 90HZ MEMC技術展示與效能\n",
      "https://www.mobile01.com/topicdetail.php?f=569&amp;t=6102590\n",
      "小米9現在要去哪裡買?\n",
      "https://www.mobile01.com/topicdetail.php?f=634&amp;t=6102619\n",
      "請問有人小愛同學/小米音箱也沉默了嗎？\n",
      "https://www.mobile01.com/topicdetail.php?f=634&amp;t=6077215\n",
      "Samsung Galaxy SII 更高規雙核心 順暢感受新體驗（新增看土豆網）\n",
      "https://www.mobile01.com/topicdetail.php?f=568&amp;t=2162143\n",
      "詢問Pixel 4 真偽如何判斷？\n",
      "https://www.mobile01.com/topicdetail.php?f=565&amp;t=6102393\n",
      "ZenFone 6 vs Zenfone5Z vs ROG Phone 1\n",
      "https://www.mobile01.com/topicdetail.php?f=588&amp;t=6101966\n",
      "V60大約何時上市\n",
      "https://www.mobile01.com/topicdetail.php?f=581&amp;t=6074305\n",
      "Xperia 1 II即將辦體驗會\n",
      "https://www.mobile01.com/topicdetail.php?f=569&amp;t=6101979\n",
      "台灣大哥大 優惠方案(攜碼)\n",
      "https://www.mobile01.com/topicdetail.php?f=18&amp;t=5799167\n",
      "vivo Y50 6/1台灣上市？官方粉絲專頁現蹤！\n",
      "https://www.mobile01.com/topicdetail.php?f=754&amp;t=6101417\n",
      "亞太電信魔術方塊2代\n",
      "https://www.mobile01.com/topicdetail.php?f=18&amp;t=6097667\n",
      "準備預備機~ 求推荐\n",
      "https://www.mobile01.com/topicdetail.php?f=393&amp;t=6100695\n",
      "Sony Xperia 10 II 台北八德店拍照測試\n",
      "https://www.mobile01.com/topicdetail.php?f=569&amp;t=6102618\n",
      "遠傳吃到飽319不降速電銷方案\n",
      "https://www.mobile01.com/topicdetail.php?f=18&amp;t=6008764\n"
     ]
    }
   ],
   "source": [
    "import json\n",
    "with open('out.json', encoding='utf-8') as data_file:\n",
    "    data = json.loads(data_file.read())\n",
    "\n",
    "for x in data:\n",
    "    print(x)\n",
    "    print(data[x])"
   ]
  },
  {
   "cell_type": "code",
   "execution_count": null,
   "metadata": {},
   "outputs": [],
   "source": []
  }
 ],
 "metadata": {
  "anaconda-cloud": {},
  "kernelspec": {
   "display_name": "Python 3",
   "language": "python",
   "name": "python3"
  },
  "language_info": {
   "codemirror_mode": {
    "name": "ipython",
    "version": 3
   },
   "file_extension": ".py",
   "mimetype": "text/x-python",
   "name": "python",
   "nbconvert_exporter": "python",
   "pygments_lexer": "ipython3",
   "version": "3.7.3"
  }
 },
 "nbformat": 4,
 "nbformat_minor": 2
}
