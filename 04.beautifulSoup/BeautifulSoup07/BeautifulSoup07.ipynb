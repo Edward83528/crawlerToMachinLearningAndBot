{
 "cells": [
  {
   "cell_type": "markdown",
   "metadata": {},
   "source": [
    "# 利用 BeautifulSoup 拆解法 - LD+JSON"
   ]
  },
  {
   "cell_type": "code",
   "execution_count": 2,
   "metadata": {},
   "outputs": [
    {
     "name": "stdout",
     "output_type": "stream",
     "text": [
      "{\"@context\": \"https://schema.org\", \"@type\": \"NewsArticle\", \"mainEntityOfPage\": \"https://www.ettoday.net/news/20200415/1692140.htm\", \"headline\": \"最新2確診足跡曝光　「明知故犯條款」網全困惑：海龜沒事兒我們費用都包？\", \"url\": \"https://www.ettoday.net/news/20200415/1692140.htm\", \"thumbnailUrl\": \"https://cdn2.ettoday.net/images/4818/d4818126.jpg\", \"articleSection\": \"生活\", \"creator\": [\"535-黃君瀚\", \"535\"], \"image\": {\"@type\": \"ImageObject\", \"url\": \"https://cdn2.ettoday.net/images/4818/d4818126.jpg\"}, \"dateCreated\": \"2020-04-15T15:07:00+08:00\", \"datePublished\": \"2020-04-15T15:07:00+08:00\", \"dateModified\": \"2020-04-15T15:08:43+08:00\", \"publisher\": {\"@type\": \"Organization\", \"name\": \" ETtoday新聞雲\", \"logo\": {\"@type\": \"ImageObject\", \"url\": \"https://static.ettoday.net/style/ettoday2017/images/push.jpg\"}}, \"author\": {\"@type\": \"Organization\", \"name\": \"ETtoday新聞雲\"}, \"speakable\": {\"@type\": \"SpeakableSpecification\", \"xpath\": [\"/html/head/meta[@property='og:title']/@content\", \"/html/head/meta[@property='og:description']/@content\"]}, \"keywords\": [\"新冠肺炎\", \"境外移入\", \"武漢肺炎\", \"明知故犯\"], \"description\": \"中央流行疫情指揮中心今（15）日宣布，台灣新冠肺炎（COVID-19）新增2例確診，均是境外移入病例。目前全國累積感染人數達395例，非本土達340例、占比86.0%，另有6人不幸死亡，137人解除隔離，其餘持續住院治療中。(新冠肺炎,境外移入,武漢肺炎,明知故犯)\"}\n",
      "Done\n"
     ]
    }
   ],
   "source": [
    "import json\n",
    "import requests\n",
    "import codecs\n",
    "from bs4 import BeautifulSoup\n",
    "\n",
    "rs = requests.session()\n",
    "\n",
    "def start_requests(uri):\n",
    "    html_data = request_get(uri)\n",
    "    soup = BeautifulSoup(html_data, \"html.parser\")\n",
    "    p = soup.find('script', {'type':'application/ld+json'})\n",
    "    j = json.dumps(json.loads(str(p).replace('<script type=\"application/ld+json\">','').replace('</script>','')), ensure_ascii=False)\n",
    "    return j\n",
    "\n",
    "def request_get(uri):\n",
    "    header = {'User-Agent': 'Mozilla/5.0 (Windows NT 10.0; WOW64; rv:53.0) Gecko/20100101 Firefox/53.0'}\n",
    "    res = rs.get(uri, headers=header)\n",
    "    html_data =  res.text\n",
    "    return html_data\n",
    "\n",
    "if __name__ == '__main__':\n",
    "    items = []\n",
    "    uri = 'https://tw.news.appledaily.com/headline/daily/20190416/38310684'\n",
    "    uri = 'https://www.ettoday.net/news/20200415/1692140.htm'\n",
    "    row_json = start_requests(uri)\n",
    "    print(row_json)\n",
    "    file = codecs.open('ldjson.json', 'w', encoding='utf-8')\n",
    "    file.write(row_json)\n",
    "    file.close()\n",
    "    r = requests.get(url=uri, headers={'Connection':'close'})\n",
    "\n",
    "    print(\"Done\")"
   ]
  }
 ],
 "metadata": {
  "anaconda-cloud": {},
  "kernelspec": {
   "display_name": "Python 3",
   "language": "python",
   "name": "python3"
  },
  "language_info": {
   "codemirror_mode": {
    "name": "ipython",
    "version": 3
   },
   "file_extension": ".py",
   "mimetype": "text/x-python",
   "name": "python",
   "nbconvert_exporter": "python",
   "pygments_lexer": "ipython3",
   "version": "3.6.7"
  }
 },
 "nbformat": 4,
 "nbformat_minor": 1
}
