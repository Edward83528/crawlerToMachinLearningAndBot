{
 "cells": [
  {
   "cell_type": "code",
   "execution_count": 5,
   "metadata": {},
   "outputs": [
    {
     "name": "stdout",
     "output_type": "stream",
     "text": [
      "0\n"
     ]
    }
   ],
   "source": [
    "\n",
    "import pymongo as mg\n",
    "import datetime\n",
    "\n",
    "start = '2018-04-01'\n",
    "end = '2018-04-26'\n",
    "keyword1 = '新聞'\n",
    "keyword2 = '新聞'\n",
    "\n",
    "client = mg.MongoClient('127.0.0.1:27017')\n",
    "db = client['appledailytw']\n",
    "result = db['post'].find( {'status_published': {'$gte': start, '$lt': end}, '$and': [ {'status_message':{'$regex':keyword1}},{'status_message':{'$regex':keyword2}}  ]   } ).sort(\"_id\", -1)\n",
    "\n",
    "\n",
    "#AppleDaily\n",
    "#--------------\n",
    "import pymongo as mg\n",
    "import datetime\n",
    "\n",
    "client = mg.MongoClient('127.0.0.1:27017')\n",
    "db = client['applenews']\n",
    "result = db['urllib'].find(  {'body':{'$regex':keyword1}  }     ).sort(\"_id\", -1)\n",
    "\n",
    "#PTT\n",
    "#------\n",
    "import pymongo as mg\n",
    "import datetime\n",
    "\n",
    "keyword1 = '現在'\n",
    "keyword2 = '問卦'\n",
    "client = mg.MongoClient('127.0.0.1:27017')\n",
    "db = client['ptt']\n",
    "start = '2018-08-06'\n",
    "end = '2018-08-08'\n",
    "s = start.split('-')\n",
    "start_ptt = datetime.datetime(int(s[0]),int(s[1]),int(s[2]))\n",
    "s = end.split('-')\n",
    "end_ptt = datetime.datetime(int(s[0]), int(s[1]), int(s[2]))\n",
    "\n",
    "result = db['Gossiping'].find( {  'date':{'$gt': start_ptt,'$lt': end_ptt}, '$or': [ {'content':{'$regex':keyword1}}, {'title':{'$regex':keyword2}}  ]   } ).sort(\"_id\", -1)\n",
    "lst = list(result)\n",
    "print(len(lst))\n",
    "\n",
    "for x in lst[:10]:\n",
    "    print(x)\n"
   ]
  },
  {
   "cell_type": "code",
   "execution_count": null,
   "metadata": {},
   "outputs": [],
   "source": []
  }
 ],
 "metadata": {
  "kernelspec": {
   "display_name": "Python 3",
   "language": "python",
   "name": "python3"
  },
  "language_info": {
   "codemirror_mode": {
    "name": "ipython",
    "version": 3
   },
   "file_extension": ".py",
   "mimetype": "text/x-python",
   "name": "python",
   "nbconvert_exporter": "python",
   "pygments_lexer": "ipython3",
   "version": "3.7.3"
  }
 },
 "nbformat": 4,
 "nbformat_minor": 2
}
