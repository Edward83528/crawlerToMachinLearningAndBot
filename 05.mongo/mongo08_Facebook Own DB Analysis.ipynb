{
 "cells": [
  {
   "cell_type": "markdown",
   "metadata": {
    "collapsed": true
   },
   "source": [
    "# 連線Facebook爬蟲MongoDB資料庫，分析互動"
   ]
  },
  {
   "cell_type": "code",
   "execution_count": 1,
   "metadata": {
    "collapsed": true
   },
   "outputs": [],
   "source": [
    "import pymongo as mg\n",
    "import datetime\n",
    "import json\n",
    "import plotly\n",
    "\n",
    "from urllib.parse import quote\n",
    "from plotly.graph_objs import *"
   ]
  },
  {
   "cell_type": "code",
   "execution_count": 2,
   "metadata": {},
   "outputs": [
    {
     "data": {
      "text/plain": [
       "'2.0.15'"
      ]
     },
     "execution_count": 2,
     "metadata": {},
     "output_type": "execute_result"
    }
   ],
   "source": [
    "plotly.__version__"
   ]
  },
  {
   "cell_type": "markdown",
   "metadata": {},
   "source": [
    "# 每日發文數統計"
   ]
  },
  {
   "cell_type": "code",
   "execution_count": 3,
   "metadata": {},
   "outputs": [
    {
     "name": "stdout",
     "output_type": "stream",
     "text": [
      "Querying in database: appledailytw\n",
      "total: 584 records found.\n",
      "distinct 584 records found.\n",
      "['2018-03-01', '2018-03-02', '2018-03-03', '2018-03-04', '2018-03-05', '2018-03-06', '2018-03-07', '2018-03-08']\n",
      "[35, 41, 22, 83, 125, 126, 121, 31]\n",
      "Done\n"
     ]
    }
   ],
   "source": [
    "keyword = ''\n",
    "client = mg.MongoClient('mongodb://127.0.0.1:27017')\n",
    "db_name = 'appledailytw'\n",
    "db = client[db_name]\n",
    "\n",
    "try:\n",
    "    start_time = '2018-03-01 00:00:00'\n",
    "    end_time = '2018-03-08 23:59:59'\n",
    "    #query result\n",
    "    #db.getCollection('post').find({status_published:{$gt: \"2018-03-01 00:00:00\",$lt: \"2018-03-08 23:59:59\"},status_message:{'$regex':''}})\n",
    "    result = db['post'].find( { 'status_message': { '$regex': keyword },'status_published': {'$gt': start_time, '$lt': end_time}    }).sort(\"_id\", -1)\n",
    "    print (\"Querying in database: %s\" %(db_name))\n",
    "    print (\"total: %s records found.\" % result.count())\n",
    "\n",
    "    result = list(result)\n",
    "    temp_dict = {}\n",
    "    date_dict = {}\n",
    "    for x in result:\n",
    "        temp_dict[ x['status_id'] ] = x\n",
    "    print (\"distinct %s records found.\" % (len(temp_dict) ) )\n",
    "\n",
    "    post_dict = {}\n",
    "    post_counter = 0\n",
    "    last_sum = 0\n",
    "    \n",
    "    '''\n",
    "    t_dic = {}\n",
    "    for x in temp_dict:\n",
    "        if temp_dict[x][\"status_published\"][:10] not in t_dic:\n",
    "            t_dic[temp_dict[x][\"status_published\"][:10]] = 1\n",
    "        else:\n",
    "            t_dic[temp_dict[x][\"status_published\"][:10]] = t_dic[temp_dict[x][\"status_published\"][:10]]+1\n",
    "    \n",
    "    x_axis1 = []\n",
    "    y_axis1 = []\n",
    "    for x in t_dic:\n",
    "        x_axis1.append(x)\n",
    "        y_axis1.append(t_dic[x])\n",
    "    zipped = zip(x_axis1, y_axis1)\n",
    "    x_axis1 = []\n",
    "    y_axis1 = []\n",
    "    zipped = sorted(zipped, key=lambda x: x[0])\n",
    "    for x in zipped:\n",
    "        x_axis1.append(x[0])\n",
    "        y_axis1.append(x[1])\n",
    "    '''\n",
    "    for x in temp_dict:\n",
    "        last_sum = 0\n",
    "        post_counter = 0\n",
    "        #dt = temp_dict[x][\"status_published\"].strftime(\"%Y-%m-%d\")\n",
    "        dt = temp_dict[x][\"status_published\"][:10]\n",
    "        try:\n",
    "            last_sum = post_dict[dt]['counter']\n",
    "            post_dict[dt]={'counter':last_sum+1}\n",
    "        except Exception as e:\n",
    "            post_counter = post_counter+1\n",
    "            post_dict[dt]={'counter':post_counter}\n",
    "            pass\n",
    "    x_axis1 = []\n",
    "    y_axis1 = []\n",
    "    for x in post_dict:\n",
    "        x_axis1.append(x)\n",
    "        y_axis1.append(post_dict[x]['counter'])\n",
    "    zipped = zip(x_axis1, y_axis1)\n",
    "    x_axis1 = []\n",
    "    y_axis1 = []\n",
    "    zipped = sorted(zipped, key=lambda x: x[0])\n",
    "    for x in zipped:\n",
    "        x_axis1.append(x[0])\n",
    "        y_axis1.append(x[1])\n",
    "    #印出x軸List\n",
    "    print(x_axis1)\n",
    "    #印出y軸List\n",
    "    print(y_axis1)\n",
    "except Exception as e:\n",
    "    print('Exception:'+str(e))\n",
    "    pass\n",
    "\n",
    "print('Done')"
   ]
  },
  {
   "cell_type": "markdown",
   "metadata": {},
   "source": [
    "# 每日發文數統計視覺化"
   ]
  },
  {
   "cell_type": "code",
   "execution_count": 4,
   "metadata": {},
   "outputs": [
    {
     "data": {
      "text/html": [
       "<script>requirejs.config({paths: { 'plotly': ['https://cdn.plot.ly/plotly-latest.min']},});if(!window.Plotly) {{require(['plotly'],function(plotly) {window.Plotly=plotly;});}}</script>"
      ],
      "text/vnd.plotly.v1+html": [
       "<script>requirejs.config({paths: { 'plotly': ['https://cdn.plot.ly/plotly-latest.min']},});if(!window.Plotly) {{require(['plotly'],function(plotly) {window.Plotly=plotly;});}}</script>"
      ]
     },
     "metadata": {},
     "output_type": "display_data"
    },
    {
     "data": {
      "application/vnd.plotly.v1+json": {
       "data": [
        {
         "x": [
          "2018-03-01",
          "2018-03-02",
          "2018-03-03",
          "2018-03-04",
          "2018-03-05",
          "2018-03-06",
          "2018-03-07",
          "2018-03-08"
         ],
         "y": [
          35,
          41,
          22,
          83,
          125,
          126,
          121,
          31
         ]
        }
       ],
       "layout": {
        "title": "David 蘋果日報FB 每日發文數統計"
       }
      },
      "text/html": [
       "<div id=\"52a9b11e-b074-4982-8f73-de0e84464a30\" style=\"height: 525px; width: 100%;\" class=\"plotly-graph-div\"></div><script type=\"text/javascript\">require([\"plotly\"], function(Plotly) { window.PLOTLYENV=window.PLOTLYENV || {};window.PLOTLYENV.BASE_URL=\"https://plot.ly\";Plotly.newPlot(\"52a9b11e-b074-4982-8f73-de0e84464a30\", [{\"x\": [\"2018-03-01\", \"2018-03-02\", \"2018-03-03\", \"2018-03-04\", \"2018-03-05\", \"2018-03-06\", \"2018-03-07\", \"2018-03-08\"], \"y\": [35, 41, 22, 83, 125, 126, 121, 31]}], {\"title\": \"David \\u860b\\u679c\\u65e5\\u5831FB \\u6bcf\\u65e5\\u767c\\u6587\\u6578\\u7d71\\u8a08\"}, {\"linkText\": \"Export to plot.ly\", \"showLink\": true})});</script>"
      ],
      "text/vnd.plotly.v1+html": [
       "<div id=\"52a9b11e-b074-4982-8f73-de0e84464a30\" style=\"height: 525px; width: 100%;\" class=\"plotly-graph-div\"></div><script type=\"text/javascript\">require([\"plotly\"], function(Plotly) { window.PLOTLYENV=window.PLOTLYENV || {};window.PLOTLYENV.BASE_URL=\"https://plot.ly\";Plotly.newPlot(\"52a9b11e-b074-4982-8f73-de0e84464a30\", [{\"x\": [\"2018-03-01\", \"2018-03-02\", \"2018-03-03\", \"2018-03-04\", \"2018-03-05\", \"2018-03-06\", \"2018-03-07\", \"2018-03-08\"], \"y\": [35, 41, 22, 83, 125, 126, 121, 31]}], {\"title\": \"David \\u860b\\u679c\\u65e5\\u5831FB \\u6bcf\\u65e5\\u767c\\u6587\\u6578\\u7d71\\u8a08\"}, {\"linkText\": \"Export to plot.ly\", \"showLink\": true})});</script>"
      ]
     },
     "metadata": {},
     "output_type": "display_data"
    }
   ],
   "source": [
    "plotly.offline.init_notebook_mode(connected=True)\n",
    "plotly.offline.iplot({\n",
    "        \"data\": [{\n",
    "                \"x\": x_axis1,\n",
    "                \"y\": y_axis1\n",
    "            }],\n",
    "        \"layout\": {\n",
    "            \"title\": \"David 蘋果日報FB 每日發文數統計\"\n",
    "        }\n",
    "    })"
   ]
  },
  {
   "cell_type": "markdown",
   "metadata": {},
   "source": [
    "# 每日按讚統計"
   ]
  },
  {
   "cell_type": "code",
   "execution_count": 5,
   "metadata": {},
   "outputs": [
    {
     "name": "stdout",
     "output_type": "stream",
     "text": [
      "['2018-03-01', '2018-03-02', '2018-03-03', '2018-03-04', '2018-03-05', '2018-03-06', '2018-03-07', '2018-03-08']\n",
      "[39495, 60854, 43611, 172471, 210163, 251948, 286566, 32092]\n"
     ]
    }
   ],
   "source": [
    "for x in temp_dict:\n",
    "    last_sum = 0\n",
    "    post_counter = 0\n",
    "    #dt = temp_dict[x][\"status_published\"].strftime(\"%Y-%m-%d\")\n",
    "    dt = temp_dict[x][\"status_published\"][:10]\n",
    "    try:\n",
    "        last_sum = post_dict[dt]['num_reactions']\n",
    "        post_dict[dt]={'num_reactions':last_sum+temp_dict[x]['num_reactions']}\n",
    "    except Exception as e:\n",
    "        post_counter = post_counter+1\n",
    "        post_dict[dt]={'num_reactions':post_counter}\n",
    "        pass\n",
    "#print(date_dict)\n",
    "x_axis = []\n",
    "y_axis = []\n",
    "for x in post_dict:\n",
    "    x_axis.append(x)\n",
    "    y_axis.append(post_dict[x]['num_reactions'])\n",
    "\n",
    "zipped = zip(x_axis, y_axis)\n",
    "x_axis2 = []\n",
    "y_axis2 = []\n",
    "zipped = sorted(zipped, key=lambda x: x[0])\n",
    "for x in zipped:\n",
    "    x_axis2.append(x[0])\n",
    "    y_axis2.append(x[1])\n",
    "\n",
    "#印出x軸、y軸\n",
    "print(x_axis2)\n",
    "print(y_axis2)"
   ]
  },
  {
   "cell_type": "markdown",
   "metadata": {},
   "source": [
    "# 每日按讚統計視覺化"
   ]
  },
  {
   "cell_type": "code",
   "execution_count": 6,
   "metadata": {},
   "outputs": [
    {
     "data": {
      "text/html": [
       "<script>requirejs.config({paths: { 'plotly': ['https://cdn.plot.ly/plotly-latest.min']},});if(!window.Plotly) {{require(['plotly'],function(plotly) {window.Plotly=plotly;});}}</script>"
      ],
      "text/vnd.plotly.v1+html": [
       "<script>requirejs.config({paths: { 'plotly': ['https://cdn.plot.ly/plotly-latest.min']},});if(!window.Plotly) {{require(['plotly'],function(plotly) {window.Plotly=plotly;});}}</script>"
      ]
     },
     "metadata": {},
     "output_type": "display_data"
    },
    {
     "data": {
      "application/vnd.plotly.v1+json": {
       "data": [
        {
         "x": [
          "2018-03-01",
          "2018-03-02",
          "2018-03-03",
          "2018-03-04",
          "2018-03-05",
          "2018-03-06",
          "2018-03-07",
          "2018-03-08"
         ],
         "y": [
          39495,
          60854,
          43611,
          172471,
          210163,
          251948,
          286566,
          32092
         ]
        }
       ],
       "layout": {
        "title": "David 蘋果日報FB 每日按讚數統計"
       }
      },
      "text/html": [
       "<div id=\"681ee197-bda3-488e-8e0a-bb7c489b55e0\" style=\"height: 525px; width: 100%;\" class=\"plotly-graph-div\"></div><script type=\"text/javascript\">require([\"plotly\"], function(Plotly) { window.PLOTLYENV=window.PLOTLYENV || {};window.PLOTLYENV.BASE_URL=\"https://plot.ly\";Plotly.newPlot(\"681ee197-bda3-488e-8e0a-bb7c489b55e0\", [{\"x\": [\"2018-03-01\", \"2018-03-02\", \"2018-03-03\", \"2018-03-04\", \"2018-03-05\", \"2018-03-06\", \"2018-03-07\", \"2018-03-08\"], \"y\": [39495, 60854, 43611, 172471, 210163, 251948, 286566, 32092]}], {\"title\": \"David \\u860b\\u679c\\u65e5\\u5831FB \\u6bcf\\u65e5\\u6309\\u8b9a\\u6578\\u7d71\\u8a08\"}, {\"linkText\": \"Export to plot.ly\", \"showLink\": true})});</script>"
      ],
      "text/vnd.plotly.v1+html": [
       "<div id=\"681ee197-bda3-488e-8e0a-bb7c489b55e0\" style=\"height: 525px; width: 100%;\" class=\"plotly-graph-div\"></div><script type=\"text/javascript\">require([\"plotly\"], function(Plotly) { window.PLOTLYENV=window.PLOTLYENV || {};window.PLOTLYENV.BASE_URL=\"https://plot.ly\";Plotly.newPlot(\"681ee197-bda3-488e-8e0a-bb7c489b55e0\", [{\"x\": [\"2018-03-01\", \"2018-03-02\", \"2018-03-03\", \"2018-03-04\", \"2018-03-05\", \"2018-03-06\", \"2018-03-07\", \"2018-03-08\"], \"y\": [39495, 60854, 43611, 172471, 210163, 251948, 286566, 32092]}], {\"title\": \"David \\u860b\\u679c\\u65e5\\u5831FB \\u6bcf\\u65e5\\u6309\\u8b9a\\u6578\\u7d71\\u8a08\"}, {\"linkText\": \"Export to plot.ly\", \"showLink\": true})});</script>"
      ]
     },
     "metadata": {},
     "output_type": "display_data"
    }
   ],
   "source": [
    "plotly.offline.init_notebook_mode(connected=True)\n",
    "plotly.offline.iplot({\n",
    "        \"data\": [{\n",
    "                \"x\": x_axis2,\n",
    "                \"y\": y_axis2\n",
    "            }],\n",
    "        \"layout\": {\n",
    "            \"title\": \"David 蘋果日報FB 每日按讚數統計\"\n",
    "        }\n",
    "    })"
   ]
  },
  {
   "cell_type": "markdown",
   "metadata": {},
   "source": [
    "# 每日按讚數 / 發文數統計視覺化"
   ]
  },
  {
   "cell_type": "code",
   "execution_count": 7,
   "metadata": {},
   "outputs": [
    {
     "data": {
      "text/html": [
       "<script>requirejs.config({paths: { 'plotly': ['https://cdn.plot.ly/plotly-latest.min']},});if(!window.Plotly) {{require(['plotly'],function(plotly) {window.Plotly=plotly;});}}</script>"
      ],
      "text/vnd.plotly.v1+html": [
       "<script>requirejs.config({paths: { 'plotly': ['https://cdn.plot.ly/plotly-latest.min']},});if(!window.Plotly) {{require(['plotly'],function(plotly) {window.Plotly=plotly;});}}</script>"
      ]
     },
     "metadata": {},
     "output_type": "display_data"
    },
    {
     "data": {
      "application/vnd.plotly.v1+json": {
       "data": [
        {
         "line": {
          "color": "rgb(244, 67, 54)",
          "width": 4
         },
         "name": "每日發文篇數",
         "type": "scatter",
         "x": [
          "2018-03-01",
          "2018-03-02",
          "2018-03-03",
          "2018-03-04",
          "2018-03-05",
          "2018-03-06",
          "2018-03-07",
          "2018-03-08"
         ],
         "y": [
          35,
          41,
          22,
          83,
          125,
          126,
          121,
          31
         ]
        },
        {
         "line": {
          "color": "rgb(33, 150, 243)",
          "width": 4
         },
         "name": "每日按讚數",
         "type": "scatter",
         "x": [
          "2018-03-01",
          "2018-03-02",
          "2018-03-03",
          "2018-03-04",
          "2018-03-05",
          "2018-03-06",
          "2018-03-07",
          "2018-03-08"
         ],
         "y": [
          39495,
          60854,
          43611,
          172471,
          210163,
          251948,
          286566,
          32092
         ]
        }
       ],
       "layout": {
        "title": "David 蘋果日報FB 每日發文/按讚數統計"
       }
      },
      "text/html": [
       "<div id=\"aa726b6d-ac35-4618-9869-db3b4af8babc\" style=\"height: 525px; width: 100%;\" class=\"plotly-graph-div\"></div><script type=\"text/javascript\">require([\"plotly\"], function(Plotly) { window.PLOTLYENV=window.PLOTLYENV || {};window.PLOTLYENV.BASE_URL=\"https://plot.ly\";Plotly.newPlot(\"aa726b6d-ac35-4618-9869-db3b4af8babc\", [{\"type\": \"scatter\", \"name\": \"\\u6bcf\\u65e5\\u767c\\u6587\\u7bc7\\u6578\", \"x\": [\"2018-03-01\", \"2018-03-02\", \"2018-03-03\", \"2018-03-04\", \"2018-03-05\", \"2018-03-06\", \"2018-03-07\", \"2018-03-08\"], \"y\": [35, 41, 22, 83, 125, 126, 121, 31], \"line\": {\"color\": \"rgb(244, 67, 54)\", \"width\": 4}}, {\"type\": \"scatter\", \"name\": \"\\u6bcf\\u65e5\\u6309\\u8b9a\\u6578\", \"x\": [\"2018-03-01\", \"2018-03-02\", \"2018-03-03\", \"2018-03-04\", \"2018-03-05\", \"2018-03-06\", \"2018-03-07\", \"2018-03-08\"], \"y\": [39495, 60854, 43611, 172471, 210163, 251948, 286566, 32092], \"line\": {\"color\": \"rgb(33, 150, 243)\", \"width\": 4}}], {\"title\": \"David \\u860b\\u679c\\u65e5\\u5831FB \\u6bcf\\u65e5\\u767c\\u6587/\\u6309\\u8b9a\\u6578\\u7d71\\u8a08\"}, {\"linkText\": \"Export to plot.ly\", \"showLink\": true})});</script>"
      ],
      "text/vnd.plotly.v1+html": [
       "<div id=\"aa726b6d-ac35-4618-9869-db3b4af8babc\" style=\"height: 525px; width: 100%;\" class=\"plotly-graph-div\"></div><script type=\"text/javascript\">require([\"plotly\"], function(Plotly) { window.PLOTLYENV=window.PLOTLYENV || {};window.PLOTLYENV.BASE_URL=\"https://plot.ly\";Plotly.newPlot(\"aa726b6d-ac35-4618-9869-db3b4af8babc\", [{\"type\": \"scatter\", \"name\": \"\\u6bcf\\u65e5\\u767c\\u6587\\u7bc7\\u6578\", \"x\": [\"2018-03-01\", \"2018-03-02\", \"2018-03-03\", \"2018-03-04\", \"2018-03-05\", \"2018-03-06\", \"2018-03-07\", \"2018-03-08\"], \"y\": [35, 41, 22, 83, 125, 126, 121, 31], \"line\": {\"color\": \"rgb(244, 67, 54)\", \"width\": 4}}, {\"type\": \"scatter\", \"name\": \"\\u6bcf\\u65e5\\u6309\\u8b9a\\u6578\", \"x\": [\"2018-03-01\", \"2018-03-02\", \"2018-03-03\", \"2018-03-04\", \"2018-03-05\", \"2018-03-06\", \"2018-03-07\", \"2018-03-08\"], \"y\": [39495, 60854, 43611, 172471, 210163, 251948, 286566, 32092], \"line\": {\"color\": \"rgb(33, 150, 243)\", \"width\": 4}}], {\"title\": \"David \\u860b\\u679c\\u65e5\\u5831FB \\u6bcf\\u65e5\\u767c\\u6587/\\u6309\\u8b9a\\u6578\\u7d71\\u8a08\"}, {\"linkText\": \"Export to plot.ly\", \"showLink\": true})});</script>"
      ]
     },
     "metadata": {},
     "output_type": "display_data"
    }
   ],
   "source": [
    "plotly.offline.init_notebook_mode(connected=True)\n",
    "trace0 = Scatter(\n",
    "    x=x_axis1,\n",
    "    y=y_axis1,\n",
    "    name = '每日發文篇數',\n",
    "    line = dict(\n",
    "        color = ('rgb(244, 67, 54)'),\n",
    "        width = 4)\n",
    ")\n",
    "trace1 = Scatter(\n",
    "    x=x_axis2,\n",
    "    y=y_axis2,\n",
    "    name = '每日按讚數',\n",
    "    line = dict(\n",
    "        color = ('rgb(33, 150, 243)'),\n",
    "        width = 4)\n",
    ")\n",
    "data = Data([trace0, trace1])\n",
    "plotly.offline.iplot({\n",
    "        \"data\": data,\n",
    "        \"layout\": {\n",
    "            \"title\": \"David 蘋果日報FB 每日發文/按讚數統計\"\n",
    "        }\n",
    "    })"
   ]
  },
  {
   "cell_type": "markdown",
   "metadata": {},
   "source": [
    "# 每日分享(share)統計"
   ]
  },
  {
   "cell_type": "code",
   "execution_count": 8,
   "metadata": {},
   "outputs": [
    {
     "name": "stdout",
     "output_type": "stream",
     "text": [
      "['2018-03-01', '2018-03-02', '2018-03-03', '2018-03-04', '2018-03-05', '2018-03-06', '2018-03-07', '2018-03-08']\n",
      "[660, 4412, 2704, 4778, 4452, 5897, 7021, 618]\n"
     ]
    }
   ],
   "source": [
    "#分享\n",
    "for x in temp_dict:\n",
    "    last_sum = 0\n",
    "    post_counter = 0\n",
    "    #dt = temp_dict[x][\"status_published\"].strftime(\"%Y-%m-%d\")\n",
    "    dt = temp_dict[x][\"status_published\"][:10]\n",
    "    try:\n",
    "        last_sum = post_dict[dt]['num_shares']\n",
    "        post_dict[dt]={'num_shares':last_sum+temp_dict[x]['num_shares']}\n",
    "    except Exception as e:\n",
    "        post_counter = post_counter+1\n",
    "        post_dict[dt]={'num_shares':post_counter}\n",
    "        pass\n",
    "#print(date_dict)\n",
    "x_axis = []\n",
    "y_axis = []\n",
    "for x in post_dict:\n",
    "    x_axis.append(x)\n",
    "    y_axis.append(post_dict[x]['num_shares'])\n",
    "\n",
    "zipped = zip(x_axis, y_axis)\n",
    "x_axis3 = []\n",
    "y_axis3 = []\n",
    "zipped = sorted(zipped, key=lambda x: x[0])\n",
    "for x in zipped:\n",
    "    x_axis3.append(x[0])\n",
    "    y_axis3.append(x[1])\n",
    "print(x_axis3)\n",
    "print(y_axis3)"
   ]
  },
  {
   "cell_type": "markdown",
   "metadata": {},
   "source": [
    "# 每日留言(comment)統計"
   ]
  },
  {
   "cell_type": "code",
   "execution_count": 9,
   "metadata": {},
   "outputs": [
    {
     "name": "stdout",
     "output_type": "stream",
     "text": [
      "['2018-03-01', '2018-03-02', '2018-03-03', '2018-03-04', '2018-03-05', '2018-03-06', '2018-03-07', '2018-03-08']\n",
      "[3382, 3723, 3592, 7092, 9913, 10692, 12684, 1091]\n"
     ]
    }
   ],
   "source": [
    "#留言\n",
    "for x in temp_dict:\n",
    "    last_sum = 0\n",
    "    post_counter = 0\n",
    "    #dt = temp_dict[x][\"status_published\"].strftime(\"%Y-%m-%d\")\n",
    "    dt = temp_dict[x][\"status_published\"][:10]\n",
    "    try:\n",
    "        last_sum = post_dict[dt]['num_comments']\n",
    "        post_dict[dt]={'num_comments':last_sum+temp_dict[x]['num_comments']}\n",
    "    except Exception as e:\n",
    "        post_counter = post_counter+1\n",
    "        post_dict[dt]={'num_comments':post_counter}\n",
    "        pass\n",
    "#print(date_dict)\n",
    "x_axis = []\n",
    "y_axis = []\n",
    "for x in post_dict:\n",
    "    x_axis.append(x)\n",
    "    y_axis.append(post_dict[x]['num_comments'])\n",
    "\n",
    "zipped = zip(x_axis, y_axis)\n",
    "x_axis4 = []\n",
    "y_axis4 = []\n",
    "zipped = sorted(zipped, key=lambda x: x[0])\n",
    "for x in zipped:\n",
    "    x_axis4.append(x[0])\n",
    "    y_axis4.append(x[1])\n",
    "print(x_axis4)\n",
    "print(y_axis4)"
   ]
  },
  {
   "cell_type": "markdown",
   "metadata": {},
   "source": [
    "# 每日分享(share) / 每日分享(留言) 比較視覺化"
   ]
  },
  {
   "cell_type": "code",
   "execution_count": 10,
   "metadata": {},
   "outputs": [
    {
     "data": {
      "text/html": [
       "<script>requirejs.config({paths: { 'plotly': ['https://cdn.plot.ly/plotly-latest.min']},});if(!window.Plotly) {{require(['plotly'],function(plotly) {window.Plotly=plotly;});}}</script>"
      ],
      "text/vnd.plotly.v1+html": [
       "<script>requirejs.config({paths: { 'plotly': ['https://cdn.plot.ly/plotly-latest.min']},});if(!window.Plotly) {{require(['plotly'],function(plotly) {window.Plotly=plotly;});}}</script>"
      ]
     },
     "metadata": {},
     "output_type": "display_data"
    },
    {
     "data": {
      "application/vnd.plotly.v1+json": {
       "data": [
        {
         "line": {
          "color": "rgb(76, 175, 80)",
          "width": 4
         },
         "name": "每日分享數",
         "type": "scatter",
         "x": [
          "2018-03-01",
          "2018-03-02",
          "2018-03-03",
          "2018-03-04",
          "2018-03-05",
          "2018-03-06",
          "2018-03-07",
          "2018-03-08"
         ],
         "y": [
          660,
          4412,
          2704,
          4778,
          4452,
          5897,
          7021,
          618
         ]
        },
        {
         "line": {
          "color": "rgb(255, 87, 34)",
          "width": 4
         },
         "name": "每日留言數",
         "type": "scatter",
         "x": [
          "2018-03-01",
          "2018-03-02",
          "2018-03-03",
          "2018-03-04",
          "2018-03-05",
          "2018-03-06",
          "2018-03-07",
          "2018-03-08"
         ],
         "y": [
          3382,
          3723,
          3592,
          7092,
          9913,
          10692,
          12684,
          1091
         ]
        }
       ],
       "layout": {
        "title": "David 蘋果日報FB 每日分享/留言數統計"
       }
      },
      "text/html": [
       "<div id=\"fdb3d3e9-82d1-4f0a-910e-c1465c20b82d\" style=\"height: 525px; width: 100%;\" class=\"plotly-graph-div\"></div><script type=\"text/javascript\">require([\"plotly\"], function(Plotly) { window.PLOTLYENV=window.PLOTLYENV || {};window.PLOTLYENV.BASE_URL=\"https://plot.ly\";Plotly.newPlot(\"fdb3d3e9-82d1-4f0a-910e-c1465c20b82d\", [{\"type\": \"scatter\", \"name\": \"\\u6bcf\\u65e5\\u5206\\u4eab\\u6578\", \"x\": [\"2018-03-01\", \"2018-03-02\", \"2018-03-03\", \"2018-03-04\", \"2018-03-05\", \"2018-03-06\", \"2018-03-07\", \"2018-03-08\"], \"y\": [660, 4412, 2704, 4778, 4452, 5897, 7021, 618], \"line\": {\"color\": \"rgb(76, 175, 80)\", \"width\": 4}}, {\"type\": \"scatter\", \"name\": \"\\u6bcf\\u65e5\\u7559\\u8a00\\u6578\", \"x\": [\"2018-03-01\", \"2018-03-02\", \"2018-03-03\", \"2018-03-04\", \"2018-03-05\", \"2018-03-06\", \"2018-03-07\", \"2018-03-08\"], \"y\": [3382, 3723, 3592, 7092, 9913, 10692, 12684, 1091], \"line\": {\"color\": \"rgb(255, 87, 34)\", \"width\": 4}}], {\"title\": \"David \\u860b\\u679c\\u65e5\\u5831FB \\u6bcf\\u65e5\\u5206\\u4eab/\\u7559\\u8a00\\u6578\\u7d71\\u8a08\"}, {\"linkText\": \"Export to plot.ly\", \"showLink\": true})});</script>"
      ],
      "text/vnd.plotly.v1+html": [
       "<div id=\"fdb3d3e9-82d1-4f0a-910e-c1465c20b82d\" style=\"height: 525px; width: 100%;\" class=\"plotly-graph-div\"></div><script type=\"text/javascript\">require([\"plotly\"], function(Plotly) { window.PLOTLYENV=window.PLOTLYENV || {};window.PLOTLYENV.BASE_URL=\"https://plot.ly\";Plotly.newPlot(\"fdb3d3e9-82d1-4f0a-910e-c1465c20b82d\", [{\"type\": \"scatter\", \"name\": \"\\u6bcf\\u65e5\\u5206\\u4eab\\u6578\", \"x\": [\"2018-03-01\", \"2018-03-02\", \"2018-03-03\", \"2018-03-04\", \"2018-03-05\", \"2018-03-06\", \"2018-03-07\", \"2018-03-08\"], \"y\": [660, 4412, 2704, 4778, 4452, 5897, 7021, 618], \"line\": {\"color\": \"rgb(76, 175, 80)\", \"width\": 4}}, {\"type\": \"scatter\", \"name\": \"\\u6bcf\\u65e5\\u7559\\u8a00\\u6578\", \"x\": [\"2018-03-01\", \"2018-03-02\", \"2018-03-03\", \"2018-03-04\", \"2018-03-05\", \"2018-03-06\", \"2018-03-07\", \"2018-03-08\"], \"y\": [3382, 3723, 3592, 7092, 9913, 10692, 12684, 1091], \"line\": {\"color\": \"rgb(255, 87, 34)\", \"width\": 4}}], {\"title\": \"David \\u860b\\u679c\\u65e5\\u5831FB \\u6bcf\\u65e5\\u5206\\u4eab/\\u7559\\u8a00\\u6578\\u7d71\\u8a08\"}, {\"linkText\": \"Export to plot.ly\", \"showLink\": true})});</script>"
      ]
     },
     "metadata": {},
     "output_type": "display_data"
    }
   ],
   "source": [
    "plotly.offline.init_notebook_mode(connected=True)\n",
    "trace0 = Scatter(\n",
    "    x=x_axis3,\n",
    "    y=y_axis3,\n",
    "    name = '每日分享數',\n",
    "    line = dict(\n",
    "        color = ('rgb(76, 175, 80)'),\n",
    "        width = 4)\n",
    ")\n",
    "trace1 = Scatter(\n",
    "    x=x_axis4,\n",
    "    y=y_axis4,\n",
    "    name = '每日留言數',\n",
    "    line = dict(\n",
    "        color = ('rgb(255, 87, 34)'),\n",
    "        width = 4)\n",
    ")\n",
    "data = Data([trace0, trace1])\n",
    "plotly.offline.iplot({\n",
    "        \"data\": data,\n",
    "        \"layout\": {\n",
    "            \"title\": \"David 蘋果日報FB 每日分享/留言數統計\"\n",
    "        }\n",
    "    })"
   ]
  },
  {
   "cell_type": "code",
   "execution_count": null,
   "metadata": {
    "collapsed": true
   },
   "outputs": [],
   "source": [
    "# 回家作業：\n",
    "# 按讚、留言、分享分析\n",
    "# 粉絲頁：自己尋找\n",
    "# 日期區間：自己定義\n",
    "# 你的insight?"
   ]
  }
 ],
 "metadata": {
  "anaconda-cloud": {},
  "kernelspec": {
   "display_name": "Python 3",
   "language": "python",
   "name": "python3"
  },
  "language_info": {
   "codemirror_mode": {
    "name": "ipython",
    "version": 3
   },
   "file_extension": ".py",
   "mimetype": "text/x-python",
   "name": "python",
   "nbconvert_exporter": "python",
   "pygments_lexer": "ipython3",
   "version": "3.6.4"
  }
 },
 "nbformat": 4,
 "nbformat_minor": 2
}
