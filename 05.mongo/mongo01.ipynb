{
 "cells": [
  {
   "cell_type": "markdown",
   "metadata": {},
   "source": [
    "# 連線MongoDB查看開啟服務日誌"
   ]
  },
  {
   "cell_type": "code",
   "execution_count": 1,
   "metadata": {},
   "outputs": [
    {
     "name": "stdout",
     "output_type": "stream",
     "text": [
      "2018-03-01 06:32:11\n",
      "2018-03-01 08:28:04\n",
      "2018-03-08 02:45:01\n",
      "2018-03-23 04:02:58\n",
      "2018-03-23 08:26:58\n",
      "2018-05-08 04:22:35\n",
      "2018-05-17 08:54:49\n",
      "2018-05-24 03:17:27\n",
      "2018-05-30 02:27:39\n",
      "2018-05-30 03:43:44\n",
      "2018-05-30 08:22:01\n",
      "2018-06-04 02:03:18\n",
      "2018-06-11 07:44:25\n",
      "2018-06-11 08:17:38\n",
      "2018-07-19 03:28:07\n",
      "2018-07-19 07:00:42\n",
      "2018-07-19 09:16:59\n"
     ]
    }
   ],
   "source": [
    "# -*- coding: utf-8 -*-\n",
    "import pymongo as mg\n",
    "\n",
    "client = mg.MongoClient('127.0.0.1:27017')\n",
    "db = client['local']\n",
    "result = db['startup_log'].find({})\n",
    "lst  =  list(result)\n",
    "\n",
    "for x in lst:\n",
    "    print(x['startTime'])\n"
   ]
  }
 ],
 "metadata": {
  "anaconda-cloud": {},
  "kernelspec": {
   "display_name": "Python 3",
   "language": "python",
   "name": "python3"
  },
  "language_info": {
   "codemirror_mode": {
    "name": "ipython",
    "version": 3
   },
   "file_extension": ".py",
   "mimetype": "text/x-python",
   "name": "python",
   "nbconvert_exporter": "python",
   "pygments_lexer": "ipython3",
   "version": "3.6.4"
  }
 },
 "nbformat": 4,
 "nbformat_minor": 1
}
