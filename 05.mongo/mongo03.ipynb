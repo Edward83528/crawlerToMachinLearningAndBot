{
 "cells": [
  {
   "cell_type": "markdown",
   "metadata": {},
   "source": [
    "# 擷取Mobile01資料存入MongoDB"
   ]
  },
  {
   "cell_type": "code",
   "execution_count": 5,
   "metadata": {
    "collapsed": false
   },
   "outputs": [
    {
     "name": "stdout",
     "output_type": "stream",
     "text": [
      "https://www.mobile01.com/forumtopic.php?c=27&p=1\n",
      "俗女？母胎單身30年 原來我也有脫單的一天\n",
      "https://www.mobile01.com/topicdetail.php?f=215&t=5923688\n"
     ]
    },
    {
     "ename": "NameError",
     "evalue": "name 'items' is not defined",
     "output_type": "error",
     "traceback": [
      "\u001b[0;31m---------------------------------------------------------------------------\u001b[0m",
      "\u001b[0;31mNameError\u001b[0m                                 Traceback (most recent call last)",
      "\u001b[0;32m<ipython-input-5-b9555b10cdb4>\u001b[0m in \u001b[0;36m<module>\u001b[0;34m()\u001b[0m\n\u001b[1;32m     81\u001b[0m \u001b[1;33m\u001b[0m\u001b[0m\n\u001b[1;32m     82\u001b[0m \u001b[1;32mif\u001b[0m \u001b[0m__name__\u001b[0m \u001b[1;33m==\u001b[0m \u001b[1;34m'__main__'\u001b[0m\u001b[1;33m:\u001b[0m\u001b[1;33m\u001b[0m\u001b[0m\n\u001b[0;32m---> 83\u001b[0;31m     \u001b[0mstart_requests\u001b[0m\u001b[1;33m(\u001b[0m\u001b[1;33m)\u001b[0m\u001b[1;33m;\u001b[0m\u001b[1;33m\u001b[0m\u001b[0m\n\u001b[0m\u001b[1;32m     84\u001b[0m     \u001b[0mprint\u001b[0m\u001b[1;33m(\u001b[0m\u001b[1;34m\"Done\"\u001b[0m\u001b[1;33m)\u001b[0m\u001b[1;33m\u001b[0m\u001b[0m\n",
      "\u001b[0;32m<ipython-input-5-b9555b10cdb4>\u001b[0m in \u001b[0;36mstart_requests\u001b[0;34m()\u001b[0m\n\u001b[1;32m     36\u001b[0m     \u001b[1;32mfor\u001b[0m \u001b[0murl\u001b[0m \u001b[1;32min\u001b[0m \u001b[0murls\u001b[0m\u001b[1;33m:\u001b[0m\u001b[1;33m\u001b[0m\u001b[0m\n\u001b[1;32m     37\u001b[0m         \u001b[0mprint\u001b[0m \u001b[1;33m(\u001b[0m\u001b[0murl\u001b[0m\u001b[1;33m)\u001b[0m\u001b[1;33m\u001b[0m\u001b[0m\n\u001b[0;32m---> 38\u001b[0;31m         \u001b[0mparseMobile01\u001b[0m\u001b[1;33m(\u001b[0m\u001b[0murl\u001b[0m\u001b[1;33m)\u001b[0m\u001b[1;33m\u001b[0m\u001b[0m\n\u001b[0m\u001b[1;32m     39\u001b[0m         \u001b[0mtime\u001b[0m\u001b[1;33m.\u001b[0m\u001b[0msleep\u001b[0m\u001b[1;33m(\u001b[0m\u001b[1;36m0.5\u001b[0m\u001b[1;33m)\u001b[0m\u001b[1;33m\u001b[0m\u001b[0m\n\u001b[1;32m     40\u001b[0m \u001b[1;33m\u001b[0m\u001b[0m\n",
      "\u001b[0;32m<ipython-input-5-b9555b10cdb4>\u001b[0m in \u001b[0;36mparseMobile01\u001b[0;34m(uri)\u001b[0m\n\u001b[1;32m     78\u001b[0m               \u001b[1;34m\"datetime\"\u001b[0m\u001b[1;33m:\u001b[0m\u001b[0mdatetime\u001b[0m\u001b[1;33m.\u001b[0m\u001b[0mdatetime\u001b[0m\u001b[1;33m.\u001b[0m\u001b[0mnow\u001b[0m\u001b[1;33m(\u001b[0m\u001b[1;33m)\u001b[0m\u001b[1;33m\u001b[0m\u001b[0m\n\u001b[1;32m     79\u001b[0m           })\n\u001b[0;32m---> 80\u001b[0;31m         \u001b[0mitems\u001b[0m\u001b[1;33m.\u001b[0m\u001b[0mappend\u001b[0m\u001b[1;33m(\u001b[0m\u001b[1;33m[\u001b[0m\u001b[0mtitle\u001b[0m\u001b[1;33m,\u001b[0m \u001b[0mlink\u001b[0m\u001b[1;33m]\u001b[0m\u001b[1;33m)\u001b[0m\u001b[1;33m\u001b[0m\u001b[0m\n\u001b[0m\u001b[1;32m     81\u001b[0m \u001b[1;33m\u001b[0m\u001b[0m\n\u001b[1;32m     82\u001b[0m \u001b[1;32mif\u001b[0m \u001b[0m__name__\u001b[0m \u001b[1;33m==\u001b[0m \u001b[1;34m'__main__'\u001b[0m\u001b[1;33m:\u001b[0m\u001b[1;33m\u001b[0m\u001b[0m\n",
      "\u001b[0;31mNameError\u001b[0m: name 'items' is not defined"
     ]
    }
   ],
   "source": [
    "#coding:utf-8\n",
    "#65001\n",
    "import requests\n",
    "import json\n",
    "import codecs\n",
    "import sys\n",
    "import argparse as ap\n",
    "import time\n",
    "import pymongo as mg\n",
    "import datetime\n",
    "import lxml.html\n",
    "\n",
    "# def argParse():\n",
    "#     parser=ap.ArgumentParser(description='Mobile01 Crawler')\n",
    "#     parser.add_argument(\"cid\", help=\"Mobile01 Category ID\")\n",
    "#     parser.add_argument(\"pages\", help=\"Pages\")\n",
    "#     return parser.parse_args()\n",
    "\n",
    "# args=argParse()\n",
    "# cid = args.cid\n",
    "# pages = args.pages\n",
    "\n",
    "cid = \"27\"\n",
    "pages = \"1\"\n",
    "\n",
    "rs = requests.session()\n",
    "client = mg.MongoClient('127.0.0.1:27017')\n",
    "db = client['mobile01']\n",
    "\n",
    "def start_requests():\n",
    "    urls = []\n",
    "    for i in range(1,int(pages)+1):\n",
    "        str_idx = ''+('%s' % i)\n",
    "        urls.append('https://www.mobile01.com/forumtopic.php?c='+cid+'&p='+str_idx+'')\n",
    "\n",
    "    for url in urls:\n",
    "        print (url)\n",
    "        parseMobile01(url)\n",
    "        time.sleep(0.5)\n",
    "\n",
    "def request_uri(uri):\n",
    "    header = {\"User-Agent\": 'Mozilla/5.0 (Windows NT 10.0; WOW64; rv:51.0)'}\n",
    "    res = rs.get(uri, headers=header)\n",
    "    html_data =  res.text\n",
    "    return html_data\n",
    "\n",
    "def parseMobile01(uri):\n",
    "    html_data =  request_uri(uri)\n",
    "    title = ''\n",
    "    link = ''\n",
    "    \n",
    "    selector = lxml.html.document_fromstring(html_data)\n",
    "    newslist = selector.xpath('/html/body/div/main/div[1]/div/div/div/div[1]/div[7]/div/div[2]/div/div[2]/div')\n",
    "    for i in range(len(newslist)):\n",
    "        str_idx = str(i+1)\n",
    "        # 公告/置頂\n",
    "        title_path = '/html/body/div/main/div[1]/div/div/div/div[1]/div[7]/div/div[2]/div/div[2]/div['+str_idx+']/div[1]/div/div[2]/a//text()'\n",
    "        title = selector.xpath(title_path)\n",
    "        title = ''.join(title)\n",
    "        if len(title.strip())==0:\n",
    "            title_path = '/html/body/div/main/div[1]/div/div/div/div[1]/div[7]/div/div[2]/div/div[2]/div['+str_idx+']/div[1]/div/div/a//text()'\n",
    "            title = selector.xpath(title_path)\n",
    "            title = ''.join(title)\n",
    "        link_path = '/html/body/div/main/div[1]/div/div/div/div[1]/div[7]/div/div[2]/div/div[2]/div['+str_idx+']/div[1]/div/div[2]/a//@href'\n",
    "        link = selector.xpath(link_path)\n",
    "        link = ''.join(link)\n",
    "        if len(link.strip())==0:\n",
    "            link_path = '/html/body/div/main/div[1]/div/div/div/div[1]/div[7]/div/div[2]/div/div[2]/div['+str_idx+']/div[1]/div/div/a//@href'\n",
    "            link = selector.xpath(link_path)\n",
    "            link = ''.join(link)\n",
    "        link = 'https://www.mobile01.com/'+link\n",
    "        print(title)\n",
    "        print(link)\n",
    "        result = db.urllib.insert_one(\n",
    "          {\n",
    "              \"title\": title,\n",
    "              \"link\":link,\n",
    "              \"datetime\":datetime.datetime.now()\n",
    "          })\n",
    "        items.append([title, link])\n",
    "\n",
    "if __name__ == '__main__':\n",
    "    start_requests();\n",
    "    print(\"Done\")"
   ]
  }
 ],
 "metadata": {
  "anaconda-cloud": {},
  "kernelspec": {
   "display_name": "Python [default]",
   "language": "python",
   "name": "python3"
  },
  "language_info": {
   "codemirror_mode": {
    "name": "ipython",
    "version": 3
   },
   "file_extension": ".py",
   "mimetype": "text/x-python",
   "name": "python",
   "nbconvert_exporter": "python",
   "pygments_lexer": "ipython3",
   "version": "3.5.6"
  }
 },
 "nbformat": 4,
 "nbformat_minor": 1
}
