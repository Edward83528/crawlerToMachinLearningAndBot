{
 "cells": [
  {
   "cell_type": "code",
   "execution_count": null,
   "metadata": {
    "collapsed": true
   },
   "outputs": [],
   "source": [
    "# 統計PTT每日"
   ]
  },
  {
   "cell_type": "code",
   "execution_count": 1,
   "metadata": {},
   "outputs": [
    {
     "name": "stdout",
     "output_type": "stream",
     "text": [
      "distinct 10571 records found.\n",
      "['2017-10-27', '2017-10-28', '2017-10-29', '2017-10-30']\n",
      "[256, 690, 5571, 4054]\n"
     ]
    }
   ],
   "source": [
    "# -*- coding: utf-8 -*-\n",
    "#https://plot.ly/python/ipython-notebook-tutorial/\n",
    "# pip install plotly\n",
    "# conda install -c anaconda nbformat\n",
    "# conda install -c conda-forge nbformat\n",
    "\n",
    "import pymongo as mg\n",
    "import datetime\n",
    "import plotly\n",
    "from datetime import datetime, timedelta\n",
    "\n",
    "%config IPCompleter.greedy=True\n",
    "\n",
    "#ECHO ptt Start ====================================\n",
    "fetchdays = 1\n",
    "yesterday_temp = datetime.now() - timedelta(days = fetchdays)\n",
    "yesterday_date = yesterday_temp.strftime(\"%Y-%m-%d\")\n",
    "today_date = datetime.now().strftime(\"%Y-%m-%d\")\n",
    "ary1 = str(yesterday_date).split(\"-\")\n",
    "start = datetime(int(ary1[0]),int(ary1[1]),int(ary1[2]), 0, 0, 0)\n",
    "ary1 = str(today_date).split(\"-\")\n",
    "end =  datetime(int(ary1[0]),int(ary1[1]),int(ary1[2]), 23, 59, 59)\n",
    "#debug\n",
    "start = datetime(2017, 10, 27, 0, 0, 0)\n",
    "end = datetime(2017, 10, 30, 23, 59, 59)\n",
    "client = mg.MongoClient('aws.jumpin.cc:27017')\n",
    "db = client[\"Echo_Ptt\"]\n",
    "col = db[today_date]\n",
    "sort = [(\"date\", -1)]\n",
    "result = col.find({\"date\":{'$gte': start, '$lte': end}})\n",
    "#result = col.find({\"date\":{'$gte': start, '$lte': end}}).limit(100)\n",
    "#result = col.find({\"date\":{'$gte': start, '$lte': end}}).sort(sort).limit(100)\n",
    "# result = col.find({\"date\":{'$gte': start, '$lte': end}})\n",
    "# result = col.find({\"url\":\"https://www.ptt.cc/bbs/Gossiping/M.1507319547.A.8CF.html\",\"date\":{'$gte': start, '$lte': end} })\n",
    "result  =  list(result)\n",
    "#ECHO ptt End ====================================\n",
    "\n",
    "\n",
    "#Own ptt Start ====================================\n",
    "# client = mg.MongoClient('127.0.0.1:27017')\n",
    "# db = client['ptt'] #DBName: ptt\n",
    "# start = datetime(2017, 9, 14, 0, 0, 0)\n",
    "# end = datetime(2017, 9, 19, 23, 59, 59)\n",
    "# result = db['Gossiping'].find({ 'date':{'$gte':start,'$lte':end } })\n",
    "# result  =  list(result)\n",
    "#Own ptt End ====================================\n",
    "\n",
    "temp_dict = {}\n",
    "date_dict = {}\n",
    "for x in result:\n",
    "    temp_dict[ x['url'] ] = x\n",
    "\n",
    "print (\"distinct %s records found.\" % (len(temp_dict) ) )\n",
    "\n",
    "post_dict = {}\n",
    "post_counter = 0\n",
    "last_sum = 0\n",
    "for x in temp_dict:\n",
    "    last_sum = 0\n",
    "    post_counter = 0\n",
    "    dt = temp_dict[x][\"date\"].strftime(\"%Y-%m-%d\")\n",
    "    try:\n",
    "        last_sum = post_dict[dt]['counter']\n",
    "        post_dict[dt]={'counter':last_sum+1}\n",
    "    except Exception as e:\n",
    "        post_counter = post_counter+1\n",
    "        post_dict[dt]={'counter':post_counter}\n",
    "        pass\n",
    "\n",
    "x_axis = []\n",
    "y_axis = []\n",
    "for x in post_dict:\n",
    "    x_axis.append(x)\n",
    "    y_axis.append(post_dict[x]['counter'])\n",
    "\n",
    "zipped = zip(x_axis, y_axis)\n",
    "x_axis = []\n",
    "y_axis = []\n",
    "zipped = sorted(zipped, key=lambda x: x[0])\n",
    "for x in zipped:\n",
    "    x_axis.append(x[0])\n",
    "    y_axis.append(x[1])\n",
    "print(x_axis)\n",
    "print(y_axis)"
   ]
  },
  {
   "cell_type": "code",
   "execution_count": 2,
   "metadata": {},
   "outputs": [
    {
     "data": {
      "text/html": [
       "<script>requirejs.config({paths: { 'plotly': ['https://cdn.plot.ly/plotly-latest.min']},});if(!window.Plotly) {{require(['plotly'],function(plotly) {window.Plotly=plotly;});}}</script>"
      ],
      "text/vnd.plotly.v1+html": [
       "<script>requirejs.config({paths: { 'plotly': ['https://cdn.plot.ly/plotly-latest.min']},});if(!window.Plotly) {{require(['plotly'],function(plotly) {window.Plotly=plotly;});}}</script>"
      ]
     },
     "metadata": {},
     "output_type": "display_data"
    },
    {
     "data": {
      "application/vnd.plotly.v1+json": {
       "data": [
        {
         "x": [
          "2017-10-27",
          "2017-10-28",
          "2017-10-29",
          "2017-10-30"
         ],
         "y": [
          256,
          690,
          5571,
          4054
         ]
        }
       ],
       "layout": {
        "title": "David PTT 八卦版每日發文數統計"
       }
      },
      "text/html": [
       "<div id=\"c26f4e31-e9fa-42d9-af78-90c9b2d1a9fb\" style=\"height: 525px; width: 100%;\" class=\"plotly-graph-div\"></div><script type=\"text/javascript\">require([\"plotly\"], function(Plotly) { window.PLOTLYENV=window.PLOTLYENV || {};window.PLOTLYENV.BASE_URL=\"https://plot.ly\";Plotly.newPlot(\"c26f4e31-e9fa-42d9-af78-90c9b2d1a9fb\", [{\"y\": [256, 690, 5571, 4054], \"x\": [\"2017-10-27\", \"2017-10-28\", \"2017-10-29\", \"2017-10-30\"]}], {\"title\": \"David PTT \\u516b\\u5366\\u7248\\u6bcf\\u65e5\\u767c\\u6587\\u6578\\u7d71\\u8a08\"}, {\"linkText\": \"Export to plot.ly\", \"showLink\": true})});</script>"
      ],
      "text/vnd.plotly.v1+html": [
       "<div id=\"c26f4e31-e9fa-42d9-af78-90c9b2d1a9fb\" style=\"height: 525px; width: 100%;\" class=\"plotly-graph-div\"></div><script type=\"text/javascript\">require([\"plotly\"], function(Plotly) { window.PLOTLYENV=window.PLOTLYENV || {};window.PLOTLYENV.BASE_URL=\"https://plot.ly\";Plotly.newPlot(\"c26f4e31-e9fa-42d9-af78-90c9b2d1a9fb\", [{\"y\": [256, 690, 5571, 4054], \"x\": [\"2017-10-27\", \"2017-10-28\", \"2017-10-29\", \"2017-10-30\"]}], {\"title\": \"David PTT \\u516b\\u5366\\u7248\\u6bcf\\u65e5\\u767c\\u6587\\u6578\\u7d71\\u8a08\"}, {\"linkText\": \"Export to plot.ly\", \"showLink\": true})});</script>"
      ]
     },
     "metadata": {},
     "output_type": "display_data"
    }
   ],
   "source": [
    "plotly.offline.init_notebook_mode(connected=True)\n",
    "plotly.offline.iplot({\n",
    "        \"data\": [{\n",
    "                \"x\": x_axis,\n",
    "                \"y\": y_axis\n",
    "            }],\n",
    "        \"layout\": {\n",
    "            \"title\": \"David PTT 八卦版每日發文數統計\"\n",
    "        }\n",
    "    })"
   ]
  },
  {
   "cell_type": "code",
   "execution_count": 3,
   "metadata": {},
   "outputs": [
    {
     "name": "stdout",
     "output_type": "stream",
     "text": [
      "['2017-10-27', '2017-10-28', '2017-10-29', '2017-10-30']\n",
      "[5719, 11084, 51962, 28315]\n"
     ]
    }
   ],
   "source": [
    "tmp_score = 0\n",
    "lastSumScore = 0\n",
    "for x in temp_dict:\n",
    "    dt = temp_dict[x][\"date\"].strftime(\"%Y-%m-%d\")\n",
    "    #print(dt)\n",
    "    try:\n",
    "        #print(temp_dict[x]['comments'])\n",
    "        score = 0\n",
    "        for y in list(temp_dict[x]['comments']):\n",
    "            try:\n",
    "                lastSumScore = date_dict[dt]['score']\n",
    "                score = lastSumScore+y['score']\n",
    "                date_dict[dt]={'date':dt,'score':score}\n",
    "            except Exception as e:\n",
    "                score = y['score']\n",
    "                date_dict[dt]={'date':dt,'score':score}\n",
    "                pass\n",
    "    except Exception as e:\n",
    "        #print('Exception:'+str(e))\n",
    "        pass\n",
    "#print(date_dict)\n",
    "x_axis = []\n",
    "y_axis = []\n",
    "for x in date_dict:\n",
    "    x_axis.append(x)\n",
    "    y_axis.append(date_dict[x]['score'])\n",
    "\n",
    "zipped = zip(x_axis, y_axis)\n",
    "x_axis = []\n",
    "y_axis = []\n",
    "zipped = sorted(zipped, key=lambda x: x[0])\n",
    "for x in zipped:\n",
    "    x_axis.append(x[0])\n",
    "    y_axis.append(x[1])\n",
    "print(x_axis)\n",
    "print(y_axis)"
   ]
  },
  {
   "cell_type": "code",
   "execution_count": 4,
   "metadata": {},
   "outputs": [
    {
     "data": {
      "text/html": [
       "<script>requirejs.config({paths: { 'plotly': ['https://cdn.plot.ly/plotly-latest.min']},});if(!window.Plotly) {{require(['plotly'],function(plotly) {window.Plotly=plotly;});}}</script>"
      ],
      "text/vnd.plotly.v1+html": [
       "<script>requirejs.config({paths: { 'plotly': ['https://cdn.plot.ly/plotly-latest.min']},});if(!window.Plotly) {{require(['plotly'],function(plotly) {window.Plotly=plotly;});}}</script>"
      ]
     },
     "metadata": {},
     "output_type": "display_data"
    },
    {
     "data": {
      "application/vnd.plotly.v1+json": {
       "data": [
        {
         "x": [
          "2017-10-27",
          "2017-10-28",
          "2017-10-29",
          "2017-10-30"
         ],
         "y": [
          5719,
          11084,
          51962,
          28315
         ]
        }
       ],
       "layout": {
        "title": "David PTT 八卦版每日互動(推-噓)觀察"
       }
      },
      "text/html": [
       "<div id=\"35ce6bc2-bcbc-4714-9be6-7443e76b7d1b\" style=\"height: 525px; width: 100%;\" class=\"plotly-graph-div\"></div><script type=\"text/javascript\">require([\"plotly\"], function(Plotly) { window.PLOTLYENV=window.PLOTLYENV || {};window.PLOTLYENV.BASE_URL=\"https://plot.ly\";Plotly.newPlot(\"35ce6bc2-bcbc-4714-9be6-7443e76b7d1b\", [{\"y\": [5719, 11084, 51962, 28315], \"x\": [\"2017-10-27\", \"2017-10-28\", \"2017-10-29\", \"2017-10-30\"]}], {\"title\": \"David PTT \\u516b\\u5366\\u7248\\u6bcf\\u65e5\\u4e92\\u52d5(\\u63a8-\\u5653)\\u89c0\\u5bdf\"}, {\"linkText\": \"Export to plot.ly\", \"showLink\": true})});</script>"
      ],
      "text/vnd.plotly.v1+html": [
       "<div id=\"35ce6bc2-bcbc-4714-9be6-7443e76b7d1b\" style=\"height: 525px; width: 100%;\" class=\"plotly-graph-div\"></div><script type=\"text/javascript\">require([\"plotly\"], function(Plotly) { window.PLOTLYENV=window.PLOTLYENV || {};window.PLOTLYENV.BASE_URL=\"https://plot.ly\";Plotly.newPlot(\"35ce6bc2-bcbc-4714-9be6-7443e76b7d1b\", [{\"y\": [5719, 11084, 51962, 28315], \"x\": [\"2017-10-27\", \"2017-10-28\", \"2017-10-29\", \"2017-10-30\"]}], {\"title\": \"David PTT \\u516b\\u5366\\u7248\\u6bcf\\u65e5\\u4e92\\u52d5(\\u63a8-\\u5653)\\u89c0\\u5bdf\"}, {\"linkText\": \"Export to plot.ly\", \"showLink\": true})});</script>"
      ]
     },
     "metadata": {},
     "output_type": "display_data"
    }
   ],
   "source": [
    "plotly.offline.init_notebook_mode(connected=True)\n",
    "plotly.offline.iplot({\n",
    "        \"data\": [{\n",
    "                \"x\": x_axis,\n",
    "                \"y\": y_axis\n",
    "            }],\n",
    "        \"layout\": {\n",
    "            \"title\": \"David PTT 八卦版每日互動(推-噓)觀察\"\n",
    "        }\n",
    "    })\n"
   ]
  }
 ],
 "metadata": {
  "anaconda-cloud": {},
  "kernelspec": {
   "display_name": "Python 3",
   "language": "python",
   "name": "python3"
  },
  "language_info": {
   "codemirror_mode": {
    "name": "ipython",
    "version": 3
   },
   "file_extension": ".py",
   "mimetype": "text/x-python",
   "name": "python",
   "nbconvert_exporter": "python",
   "pygments_lexer": "ipython3",
   "version": "3.6.4"
  }
 },
 "nbformat": 4,
 "nbformat_minor": 1
}
