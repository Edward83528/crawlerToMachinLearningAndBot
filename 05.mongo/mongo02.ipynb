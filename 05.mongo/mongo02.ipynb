{
 "cells": [
  {
   "cell_type": "markdown",
   "metadata": {},
   "source": [
    "# 新增資料進MongoDB / 查詢Collection資料"
   ]
  },
  {
   "cell_type": "code",
   "execution_count": 3,
   "metadata": {},
   "outputs": [
    {
     "name": "stdout",
     "output_type": "stream",
     "text": [
      "Headline of the day\n",
      "blah blah blah...\n",
      "2018-07-19 17:24:51.530000\n",
      "Headline of the day\n",
      "blah blah blah...\n",
      "2018-07-19 17:24:52.905000\n",
      "Headline of the day\n",
      "blah blah blah...\n",
      "2018-07-19 17:24:53.482000\n"
     ]
    }
   ],
   "source": [
    "# -*- coding: utf-8 -*-\n",
    "import pymongo as mg\n",
    "import datetime\n",
    "\n",
    "client = mg.MongoClient('127.0.0.1:27017')\n",
    "db = client['uuutest'] #DBName: uuutest\n",
    "\n",
    "#post is collection name\n",
    "result = db.post.insert_one(\n",
    "{\n",
    "    \"title\": 'Headline of the day',\n",
    "    \"body\":'blah blah blah...',\n",
    "    \"datetime\":datetime.datetime.now()\n",
    "} )\n",
    "\n",
    "result = db['post'].find({})\n",
    "lst  =  list(result)\n",
    "\n",
    "for x in lst:\n",
    "    print(x['title'])\n",
    "    print(x['body'])\n",
    "    print(str(x['datetime']))"
   ]
  }
 ],
 "metadata": {
  "anaconda-cloud": {},
  "kernelspec": {
   "display_name": "Python 3",
   "language": "python",
   "name": "python3"
  },
  "language_info": {
   "codemirror_mode": {
    "name": "ipython",
    "version": 3
   },
   "file_extension": ".py",
   "mimetype": "text/x-python",
   "name": "python",
   "nbconvert_exporter": "python",
   "pygments_lexer": "ipython3",
   "version": "3.6.4"
  }
 },
 "nbformat": 4,
 "nbformat_minor": 1
}
