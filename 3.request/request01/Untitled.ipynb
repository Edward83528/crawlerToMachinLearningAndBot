{
 "cells": [
  {
   "cell_type": "markdown",
   "metadata": {},
   "source": [
    "## request 爬蟲雛形"
   ]
  },
  {
   "cell_type": "code",
   "execution_count": 1,
   "metadata": {},
   "outputs": [
    {
     "name": "stdout",
     "output_type": "stream",
     "text": [
      "Invalid URL 'http://': No host supplied\n",
      "\n",
      "Done\n"
     ]
    }
   ],
   "source": [
    "\n",
    "#!/usr/bin/env python\n",
    "# -*- coding: utf-8 -*-\n",
    "#65001\n",
    "import requests\n",
    "\n",
    "def request_uri(uri):\n",
    "    html_data = ''\n",
    "    try:\n",
    "        header = {\"User-Agent\": 'Mozilla/5.0 (Windows NT 10.0; WOW64; rv:51.0) Gecko/20100101 Firefox/51.0'}\n",
    "        res = requests.get(uri, headers=header)\n",
    "        html_data =  res.text\n",
    "    except Exception as e:\n",
    "        print(str(e))\n",
    "        pass\n",
    "    return html_data\n",
    "\n",
    "\n",
    "def start_requests(uri):\n",
    "    html_data =  request_uri(uri)\n",
    "    print(html_data)\n",
    "\n",
    "\n",
    "if __name__ == '__main__':\n",
    "    start_requests('http://');\n",
    "    print(\"Done\")\n"
   ]
  },
  {
   "cell_type": "code",
   "execution_count": null,
   "metadata": {},
   "outputs": [],
   "source": []
  }
 ],
 "metadata": {
  "kernelspec": {
   "display_name": "Python 3",
   "language": "python",
   "name": "python3"
  },
  "language_info": {
   "codemirror_mode": {
    "name": "ipython",
    "version": 3
   },
   "file_extension": ".py",
   "mimetype": "text/x-python",
   "name": "python",
   "nbconvert_exporter": "python",
   "pygments_lexer": "ipython3",
   "version": "3.7.3"
  }
 },
 "nbformat": 4,
 "nbformat_minor": 2
}
