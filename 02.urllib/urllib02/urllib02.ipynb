{
 "cells": [
  {
   "cell_type": "markdown",
   "metadata": {},
   "source": [
    "# urllib.request - split - mobile01為例"
   ]
  },
  {
   "cell_type": "code",
   "execution_count": 1,
   "metadata": {},
   "outputs": [
    {
     "name": "stdout",
     "output_type": "stream",
     "text": [
      "[公告] 智慧型與傳統手機各版面發文公告規則 (2017年09月14日更新)\n",
      "【史上最6旗艦機】性能全新再進化開拓星感受！即刻報名搶先體驗Galaxy S20 5G系列\n",
      "有買台版Watch GT2的，建議連上對岸運動健康伺服器\n",
      "小米的效率實在太差\n",
      "華為P40系列發表 相機新亮點：手機已經可以做到10倍光學變焦了啊...（還可以拍野生動物紀錄片）\n",
      "S20全系列賣不動,驚傳三星砍單三成\n",
      "中華續約438吃到飽，門市介紹最低還有388\n",
      "其實Acer手機CP值很高，但台灣好像比較小人在用\n",
      "google相簿分類\n",
      "只要一個門號收簡訊\n",
      "Mix2s 藍芽耳機通話時，其他APP會沒聲音\n",
      "遠傳吃到飽319不降速電銷方案\n",
      "【 開箱 】小米 10 Pro 5G 旗艦手機 – 2020年高 CP 值手機推薦、優缺點大公開\n",
      "請問我的zenfone selife就在開機畫面轉個不停該怎麼辦？？\n",
      "Xperia 1螢幕耐用性？\n",
      "三星 手機過熱警告 無法開機\n",
      "whoscall推薦序號分享\n",
      "whoscall序號分享\n",
      "請問有人能分享紅米 Note 8 Pro EU ROM 9.11.21嗎？\n",
      "請問各位S20系列的 會透過螢幕看到指紋辨識器的黑框嗎?\n",
      "（開箱文）Amazfit T-Rex 智能手錶-通過12項軍事認證專為戶外運動人士打造\n",
      "S20系列網路延遲改善方式(經過多人測試確實有感)\n",
      "台版p30更新 EMUI 10\n",
      "Samsung Pay &amp; 悠遊紀念卡\n",
      "延長手機電池續航，4招\n",
      "2020 Whoscall 推薦序號分享\n",
      "用過華為的網友 如果一定要轉會 選哪家\n",
      "台灣大哥大的4G對小米10pro網速影響？\n",
      "Oneplus 8 series 售價分享\n",
      "米家多功能網關搭配的疑問?\n",
      "等V60還是買G8X\n",
      "關於小米max，如何破除設備鎖定呢？\n"
     ]
    }
   ],
   "source": [
    "#coding:utf-8\n",
    "\n",
    "import urllib.request\n",
    "\n",
    "if __name__ == '__main__':\n",
    "    uri = \"https://www.mobile01.com/forumtopic.php?c=16&p=1\"\n",
    "    req = urllib.request.Request(\n",
    "        uri, \n",
    "        data=None, \n",
    "        headers={\n",
    "            'User-Agent': 'Mozilla/5.0 (Macintosh; Intel Mac OS X 10_9_3) AppleWebKit/537.36 (KHTML, like Gecko) Chrome/35.0.1916.47 Safari/537.36'\n",
    "        }\n",
    "    )\n",
    "    handle = urllib.request.urlopen(req)\n",
    "    encoding = handle.headers.get_content_charset()\n",
    "    html_data =  handle.read().decode(encoding)\n",
    "    for a in html_data.split('c-listTableTd__title\">')[1:]:\n",
    "        b = a.split('c-link u-ellipsis\">')[1].split('</a>')[0]\n",
    "        print(b)"
   ]
  }
 ],
 "metadata": {
  "anaconda-cloud": {},
  "kernelspec": {
   "display_name": "Python 3",
   "language": "python",
   "name": "python3"
  },
  "language_info": {
   "codemirror_mode": {
    "name": "ipython",
    "version": 3
   },
   "file_extension": ".py",
   "mimetype": "text/x-python",
   "name": "python",
   "nbconvert_exporter": "python",
   "pygments_lexer": "ipython3",
   "version": "3.6.7"
  }
 },
 "nbformat": 4,
 "nbformat_minor": 1
}
