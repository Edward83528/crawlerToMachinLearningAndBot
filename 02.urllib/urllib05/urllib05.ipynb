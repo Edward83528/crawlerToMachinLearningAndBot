{
 "cells": [
  {
   "cell_type": "markdown",
   "metadata": {},
   "source": [
    "# urllib - split - Mobile01 區分置頂文與內文 - 輸出JSON檔案"
   ]
  },
  {
   "cell_type": "code",
   "execution_count": 1,
   "metadata": {},
   "outputs": [
    {
     "name": "stdout",
     "output_type": "stream",
     "text": [
      "Done\n"
     ]
    }
   ],
   "source": [
    "#65001\n",
    "import urllib.request\n",
    "import json\n",
    "import codecs\n",
    "\n",
    "def start_requests():\n",
    "    urls = [\n",
    "        'https://www.mobile01.com/forumtopic.php?c=16&p=1',\n",
    "    ]\n",
    "    for url in urls:\n",
    "        parseMobile01(url)\n",
    "\n",
    "def parseMobile01(uri):\n",
    "    req = urllib.request.Request(\n",
    "        uri, \n",
    "        data=None, \n",
    "        headers={\n",
    "            'User-Agent': 'Mozilla/5.0 (Macintosh; Intel Mac OS X 10_9_3) AppleWebKit/537.36 (KHTML, like Gecko) Chrome/35.0.1916.47 Safari/537.36'\n",
    "        }\n",
    "    )\n",
    "    handle = urllib.request.urlopen(req)\n",
    "    # response得到的是網頁的内容，bytes類型的數據，需要用utf-8轉為字符串格式\n",
    "    encoding = handle.headers.get_content_charset()\n",
    "    html_data =  handle.read().decode(encoding)\n",
    "    title = ''\n",
    "    link = ''\n",
    "    items = []   #to do 移到程式主進入點 以免覆蓋檔案\n",
    "    for a in html_data.split('l-listTable__td\">')[1:]:\n",
    "        if 'o-hashtag is-mini is-default' in a:\n",
    "            # 公告\n",
    "            link = 'https://www.mobile01.com/'+a.split('href=\"')[1].split('\"')[0]\n",
    "            title = a.split('c-link u-ellipsis\" >')[1].split('</')[0]\n",
    "        if 'o-hashtag is-mini is-heightLight' in a:\n",
    "            # 置頂文\n",
    "            link = 'https://www.mobile01.com/'+a.split('href=\"')[1].split('\"')[0]\n",
    "            title = a.split('c-link u-ellipsis\" >')[1].split('</')[0]\n",
    "        elif 'l-listTable__tbody' not in a:\n",
    "            # 非置頂文, 中間有發現標頭的部分不處理\n",
    "            link = 'https://www.mobile01.com/'+a.split('href=\"')[1].split('\"')[0]\n",
    "            title = a.split('c-link u-ellipsis\" >')[1].split('</')[0]\n",
    "        if len(title)>0 and len(link)>0:\n",
    "            items.append([title, link])\n",
    "    row_json = json.dumps(dict(items), ensure_ascii=False) #json.dumps將 Python 對象編碼成 JSON 字符串\n",
    "    #print(row_json)\n",
    "    file = codecs.open('out.json', 'w', encoding='utf-8') # 用 codecs.open 寫入檔案\n",
    "    file.write(row_json)\n",
    "    file.close()\n",
    "\n",
    "if __name__ == '__main__':\n",
    "    start_requests();\n",
    "    print(\"Done\")"
   ]
  },
  {
   "cell_type": "code",
   "execution_count": 2,
   "metadata": {},
   "outputs": [
    {
     "name": "stdout",
     "output_type": "stream",
     "text": [
      "[公告] 智慧型與傳統手機各版面發文公告規則 (2017年09月14日更新)\n",
      "https://www.mobile01.com/topicdetail.php?f=61&amp;t=3036682\n",
      "【7月】01會員獨享活動 快手點擊抽Nokia 5.3\n",
      "https://www.mobile01.com/topicdetail.php?f=742&amp;t=6130674\n",
      "【6月】01會員獨享活動 送你SONY防水手機 Xperia 10 II\n",
      "https://www.mobile01.com/topicdetail.php?f=569&amp;t=6105741\n",
      "s20+遠拍色準問題\n",
      "https://www.mobile01.com/topicdetail.php?f=568&amp;t=6133514\n",
      "5G預付卡\n",
      "https://www.mobile01.com/topicdetail.php?f=18&amp;t=6132234\n",
      "5G大戰 還是悄悄開打了\n",
      "https://www.mobile01.com/topicdetail.php?f=18&amp;t=6133532\n",
      "關於5G熱點分享限流量問題...\n",
      "https://www.mobile01.com/topicdetail.php?f=18&amp;t=6133453\n",
      "四欸開賣了耶\n",
      "https://www.mobile01.com/topicdetail.php?f=565&amp;t=6133711\n",
      "Nokia尾插設計不良只有特定機型嗎？\n",
      "https://www.mobile01.com/topicdetail.php?f=742&amp;t=6083024\n",
      "SHARP也推出5G手機 AQUOS R5將在遠傳門市開賣\n",
      "https://www.mobile01.com/topicdetail.php?f=748&amp;t=6132675\n",
      "ASUS Zenfone 3 ZU680KL 求解\n",
      "https://www.mobile01.com/topicdetail.php?f=588&amp;t=6120838\n",
      "求紅米k30 5g 極速版 一鍵刷入twrp載點\n",
      "https://www.mobile01.com/topicdetail.php?f=634&amp;t=6132264\n",
      "SAMSUNG 會挑充電器!?\n",
      "https://www.mobile01.com/topicdetail.php?f=568&amp;t=6133504\n",
      "都2020年5G開通的年代 還在限制流量 商人話術真的很會洗腦\n",
      "https://www.mobile01.com/topicdetail.php?f=18&amp;t=6133675\n",
      "小米9如果ROOT之後，悠遊卡功能會失效嗎？\n",
      "https://www.mobile01.com/topicdetail.php?f=634&amp;t=6132695\n",
      "《簡易開箱》Redmi Note 8T 4G/64G版\n",
      "https://www.mobile01.com/topicdetail.php?f=634&amp;t=6133049\n",
      "5G 手機選擇\n",
      "https://www.mobile01.com/topicdetail.php?f=61&amp;t=6133396\n",
      "請問HTC Desire 20 Pro與Sunsumg A31s這兩個的優缺比較??\n",
      "https://www.mobile01.com/topicdetail.php?f=566&amp;t=6133483\n",
      "對於手機王和比價王都不評測低價手機大家有什麼看法？\n",
      "https://www.mobile01.com/topicdetail.php?f=393&amp;t=6023999\n",
      "U12+  google map卡頓有解嗎？\n",
      "https://www.mobile01.com/topicdetail.php?f=566&amp;t=6121268\n",
      "關於Xperia 1 II的熱點分享一直無法連線成功的問題\n",
      "https://www.mobile01.com/topicdetail.php?f=569&amp;t=6133631\n",
      "如何關閉APP付費功能試用提醒？\n",
      "https://www.mobile01.com/topicdetail.php?f=423&amp;t=6128077\n",
      "關於今天開台的遠傳5G\n",
      "https://www.mobile01.com/topicdetail.php?f=569&amp;t=6133286\n",
      "HTC Desire 20 pro 問題\n",
      "https://www.mobile01.com/topicdetail.php?f=566&amp;t=6130442\n",
      "台灣之星5G基地台數會多少呢？\n",
      "https://www.mobile01.com/topicdetail.php?f=18&amp;t=6133296\n",
      "【收藏迷報到】我的3c產品演變收藏-相信可以勾起4.5.6年級生的回憶(已補了一些圖)\n",
      "https://www.mobile01.com/topicdetail.php?f=393&amp;t=6111960\n",
      "請問新辦中華非吃到飽的專案\n",
      "https://www.mobile01.com/topicdetail.php?f=18&amp;t=6133677\n",
      "［已解決］有關xperia 1 II的NFC\n",
      "https://www.mobile01.com/topicdetail.php?f=569&amp;t=6127342\n",
      "[ 開箱 ] OnePlus 8 Pro – 旗艦手機殺手、精緻的螢幕、流暢的系統\n",
      "https://www.mobile01.com/topicdetail.php?f=586&amp;t=6089854\n",
      "關於５Ｇ上網\n",
      "https://www.mobile01.com/topicdetail.php?f=18&amp;t=6133615\n",
      "請問zenfone 6的相關使用問題??\n",
      "https://www.mobile01.com/topicdetail.php?f=588&amp;t=6133582\n",
      "目前支付綁定三倍卷是最好的選擇?\n",
      "https://www.mobile01.com/topicdetail.php?f=18&amp;t=6131669\n",
      "紅米 Redmi Note 9 Pro 6G/128G 入手\n",
      "https://www.mobile01.com/topicdetail.php?f=634&amp;t=6110167\n"
     ]
    }
   ],
   "source": [
    "import json\n",
    "with open('out.json', encoding='utf-8') as data_file:\n",
    "    data = json.loads(data_file.read())\n",
    "\n",
    "for x in data:\n",
    "    print(x)\n",
    "    print(data[x])"
   ]
  }
 ],
 "metadata": {
  "anaconda-cloud": {},
  "kernelspec": {
   "display_name": "Python 3",
   "language": "python",
   "name": "python3"
  },
  "language_info": {
   "codemirror_mode": {
    "name": "ipython",
    "version": 3
   },
   "file_extension": ".py",
   "mimetype": "text/x-python",
   "name": "python",
   "nbconvert_exporter": "python",
   "pygments_lexer": "ipython3",
   "version": "3.7.3"
  }
 },
 "nbformat": 4,
 "nbformat_minor": 2
}
