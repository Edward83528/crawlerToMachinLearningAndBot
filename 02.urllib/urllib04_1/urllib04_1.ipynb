{
 "cells": [
  {
   "cell_type": "markdown",
   "metadata": {},
   "source": [
    "# urllib - split - Mobile01 區分置頂文與內文 - 輸出JSON array"
   ]
  },
  {
   "cell_type": "code",
   "execution_count": 1,
   "metadata": {},
   "outputs": [
    {
     "name": "stdout",
     "output_type": "stream",
     "text": [
      "[[\"[\\u516c\\u544a] \\u667a\\u6167\\u578b\\u8207\\u50b3\\u7d71\\u624b\\u6a5f\\u5404\\u7248\\u9762\\u767c\\u6587\\u516c\\u544a\\u898f\\u5247 (2017\\u5e7409\\u670814\\u65e5\\u66f4\\u65b0)\", \"https://www.mobile01.com/topicdetail.php?f=61&t=3036682\"], [\"\\u53f0\\u661f\\u96d912\\u4e2d\\u534812\\u534a\\u9ede\\u958b\\u59cb\\u76f4\\u64ad\", \"https://www.mobile01.com/topicdetail.php?f=18&t=5974268\"], [\"\\u4e9e\\u592a\\u6708\\u79df11,\\u76ee\\u524d\\u7121\\u63d0\\u4f9b\\u84cb\\u865f\\u670d\\u52d9???\", \"https://www.mobile01.com/topicdetail.php?f=18&t=5974416\"], [\"\\u5c0f\\u7c739T PRO \\u66f4\\u65b011\\u5f8c\\u554f\\u984c\", \"https://www.mobile01.com/topicdetail.php?f=634&t=5974461\"], [\"\\u53f0\\u70635G\\u96e3\\u4ee5\\u767c\\u5c55\\u7684\\u539f\\u56e0\", \"https://www.mobile01.com/topicdetail.php?f=393&t=5974114\"], [\"\\u624b\\u6a5f\\u6709micro SD\\u8a18\\u61b6\\u5361\\u9084\\u662f\\u5f88\\u91cd\\u8981\\u7684\", \"https://www.mobile01.com/topicdetail.php?f=393&t=5974051\"], [\"\\u8acb\\u554f\\u6709\\u4eba\\u77e5\\u9053\\u4eca\\u59291212\\u53f0\\u7063\\u4e4b\\u661f\\u768488\\u8981\\u600e\\u9ebc\\u6436\\u55ce\\uff1f\", \"https://www.mobile01.com/topicdetail.php?f=18&t=5974183\"], [\"\\u7d05\\u7c73Note 8 Pro \\u548c Note 8T \\u5927\\u5bb6\\u63a8\\u85a6\\u8cb7\\u54ea\\u4e00\\u96bb?\", \"https://www.mobile01.com/topicdetail.php?f=634&t=5965534\"], [\"\\u9678\\u7248\\u7d05\\u7c73k20pro\\u5c0a\\u4eab\\u7248\\u8a2d\\u5b9a\\u5206\\u4eab\", \"https://www.mobile01.com/topicdetail.php?f=634&t=5951099\"], [\"\\u53f0\\u54e5\\u5927\\u96d912 299\\u5403\\u8d85\\u98fd\", \"https://www.mobile01.com/topicdetail.php?f=18&t=5974449\"], [\"\\u6709\\u6c92\\u6709\\u5c0f\\u7c73\\u7d05\\u7c731212\\u512a\\u60e0\\u7684\\u5366\\u5462\\uff1f\", \"https://www.mobile01.com/topicdetail.php?f=634&t=5971926\"], [\"NCC\\u9996\\u5ea65G\\u91cb\\u7167\\u7af6\\u6a19    \\u4e94\\u5927\\u96fb\\u4fe1\\u696d\\u8005\\u614b\\u5ea6\\u6d88\\u6975\\u5834\\u9762\\u300c\\u51b7\\u975c\\u300d\", \"https://www.mobile01.com/topicdetail.php?f=18&t=5973690\"], [\"\\u8cfc\\u5f97\\u53f0\\u661f799 iPhone 11 128G+Airpods 2\", \"https://www.mobile01.com/topicdetail.php?f=18&t=5974310\"], [\"USB \\u8eca\\u5145 \\u7121\\u6cd5\\u5145\\u5e73\\u677f\\u554f\\u984c\", \"https://www.mobile01.com/topicdetail.php?f=393&t=5974209\"], [\"\\u4e9e\\u592aX\\u840a\\u723e\\u5bcc \\u771f\\u7684\\u80fd\\u53d6\\u8ca8\\u55ce??1\\u5c0f\\u6642\", \"https://www.mobile01.com/topicdetail.php?f=18&t=5972284\"], [\"\\u6c42\\u89e3\\uff01LINE\\u96fb\\u8166\\u7248\\u7b2c\\u4e00\\u6b21\\u767b\\u5165\\u8a8d\\u8b49\\u6642\\uff0c\\u624b\\u6a5f\\u7248\\u4e0d\\u8df3\\u51fa\\u8a8d\\u8b49\\u78bc\\u8f38\\u5165\\u756b\\u9762\", \"https://www.mobile01.com/topicdetail.php?f=423&t=5945179\"], [\"\\u5f9e\\u96d911\\u7b49\\u5230\\u96d912\\uff01 \\u53f0\\u7063\\u4e4b\\u661f\\u300c\\u624b\\u6a5f\\u9072\\u4ea4\\u300d\\u60f9\\u6028\", \"https://www.mobile01.com/topicdetail.php?f=18&t=5972828\"], [\"LM111 LM211\\u8a0a\\u865f\\u4e0d\\u597d,\\u5f88\\u6162\\uff1f\", \"https://www.mobile01.com/topicdetail.php?f=18&t=5974350\"], [\"\\u4e9e\\u592a\\u96d912\\u6311\\u6230\\u6700\\u4f4e\\u50f9\", \"https://www.mobile01.com/topicdetail.php?f=18&t=5972610\"], [\"Xperia 5\\u7684\\u6307\\u7d0b\\u8fa8\\u8b58\\u80fd\\u529b\\uff1fXperia5\\u7684\\u6307\\u7d0b\\u8fa8\\u8b58\\u6e96\\u78ba\\u5ea6\", \"https://www.mobile01.com/topicdetail.php?f=569&t=5937757\"], [\"\\u4e9e\\u592a\\u6d41\\u91cf\\u7528\\u5b8c\\u964d\\u901f\\u5f8c\\uff0c\\u771f\\u7684\\u6709128KB/s\\u55ce\\uff1f\", \"https://www.mobile01.com/topicdetail.php?f=18&t=5970937\"], [\"\\u570b\\u969b\\u7248\\u5c0f\\u7c738\\u88ab\\u5b98\\u65b9\\u653e\\u751f\\u4e86\", \"https://www.mobile01.com/topicdetail.php?f=634&t=5974283\"], [\"\\u53f0\\u661f99\\u65b9\\u6848/1\\u52061\\u5143\\uff0c\\u6700\\u5f8c\\u7533\\u8fa6\\u65e5\\u70ba12\\u670815\\u65e5\\u524d\\uff0c\\u8981\\u8fa6\\u7684\\u4eba\\u52d5\\u4f5c\\u8acb\\u52a0\\u5feb~~~~~~\", \"https://www.mobile01.com/topicdetail.php?f=18&t=5965633\"], [\"\\u8acb\\u554fGA \\u6216 Nest Mini \\u8981\\u5982\\u4f55\\u505a\\u5230\\u9019\\u500b\\u529f\\u80fd\\u5462?\", \"https://www.mobile01.com/topicdetail.php?f=565&t=5974129\"], [\"HUAWEI Band 3 Pro\\u540c\\u6b65\\u7591\\u554f\", \"https://www.mobile01.com/topicdetail.php?f=738&t=5962819\"], [\"Mate 30 pro 5G 512G \\u9ed1\\u8272 \\u5fae\\u958b\\u7bb1\", \"https://www.mobile01.com/topicdetail.php?f=629&t=5974279\"], [\"\\u73fe\\u5728\\u90fd\\u6d41\\u884c\\u624b\\u6a5f\\u87a2\\u5e55\\u7684\\u56db\\u89d2\\u662f\\u5713\\u89d2\\u55ce\", \"https://www.mobile01.com/topicdetail.php?f=393&t=5974292\"], [\"[\\u554f\\u984c] \\u95dc\\u65bcG8X\\u87a2\\u5e55\", \"https://www.mobile01.com/topicdetail.php?f=581&t=5973558\"], [\"\\u81fa\\u7248 Huawei / Nova \\u88dd\\u7f6e\\u66f4\\u65b0 EMUI 10 \\u61f6\\u4eba\\u5305 + \\u7591\\u96e3\\u6392\\u89e3\\u96c6\\u5408\\u5e16\", \"https://www.mobile01.com/topicdetail.php?f=629&t=5972006\"], [\"mate 20\\u8ddfmate 20 pro\\u62cd\\u7167\\u6bd4\\u8f03\", \"https://www.mobile01.com/topicdetail.php?f=629&t=5973717\"], [\"\\u8acb\\u554f\\u53f0\\u7063\\u4e4b\\u661f\\u9ad4\\u9a57\\u5361\\u7dab\\u4e0a\\u7533\\u8acb\\u4e00\\u4e8b\", \"https://www.mobile01.com/topicdetail.php?f=18&t=5974207\"]]\n",
      "[[\"\\u53f0\\u7063\\u4e4b\\u661f99\\u6bcf\\u5206\\u94181\\u5143\\u5e8f\\u865f\\u8d08\\u9001\", \"https://www.mobile01.com/topicdetail.php?f=18&t=5967446\"], [\"(9.4.18) \\u5c0f\\u7c738 \\u5237EU\\u958b\\u767c\\u7248\\u66f4\\u65b0\\u8ffd\\u8e64.....\", \"https://www.mobile01.com/topicdetail.php?f=634&t=5614621\"], [\"\\u6709realme x2 pro\\u7684\\u6d88\\u606f\\u4e86\\u55ce\\uff1f\", \"https://www.mobile01.com/topicdetail.php?f=689&t=5971418\"], [\"\\u8a66\\u7528\\u5206\\u4eab/ OK Google\\uff5eNest mini\\u53ef\\u4ee5\\u8cb7\\u55ce?\", \"https://www.mobile01.com/topicdetail.php?f=565&t=5969222\"], [\"\\u6709\\u95dc\\u53f0\\u661f\\u96d911\\uff0c\\u6709\\u4eba\\u8ddf\\u6211\\u4e00\\u6a23sim\\u5361\\u9084\\u5728\\u5b87\\u5b99\\u65c5\\u884c\\u55ce\\uff1f\", \"https://www.mobile01.com/topicdetail.php?f=18&t=5960931\"], [\"\\u525b\\u525b\\u4e0d\\u77e5\\u9053\\u5438\\u4e86\\u4ec0\\u9ebc\\u7a81\\u7136\\u60f3\\u5230\\u4e00\\u500b\\u6709\\u8da3\\u7684\\u89e3\\u6cd5\", \"https://www.mobile01.com/topicdetail.php?f=634&t=5974324\"], [\"\\u7576\\u53f0\\u7063\\u7981\\u552e\\u83ef\\u70ba\\u3001\\u5c0f\\u7c73\\u3001OPPO\\u7b49\\u624b\\u6a5f\\uff0c\\u9019\\u6a23HTC \\u5c31\\u6709\\u91cd\\u751f\\u7684\\u6a5f\\u6703\", \"https://www.mobile01.com/topicdetail.php?f=566&t=5973585\"], [\"\\u8acb\\u554f\\u884c\\u52d5\\u7db2\\u8def\\u8eab\\u969c\\u8fa6\\u4e2d\\u83ef\\u662f\\u6700\\u512a\\u60e0\\u55ce,\\u554f\\u5ba2\\u670d\\u597d\\u50cf\\u4e0d\\u662f\\u6700\\u512a\\u60e0\\u4e5f?\", \"https://www.mobile01.com/topicdetail.php?f=18&t=5974190\"], [\"\\u8acb\\u554fY17\\u652f\\u63f4\\u53f0\\u7063\\u7684CA\\uff08\\u8f09\\u6ce2\\u805a\\u5408\\uff09\\u983b\\u6bb5\\u7d44\\u5408\\u70ba\\u4f55\\u5462\\uff1f\", \"https://www.mobile01.com/topicdetail.php?f=754&t=5936398\"], [\"note 8 pro\\u6709\\u7121\\u53ef\\u4ee5\\u66ff\\u4ee3\\u624b\\u6a5f\\u7ba1\\u5bb6\\u7684APP\", \"https://www.mobile01.com/topicdetail.php?f=634&t=5971311\"], [\"\\u53f0\\u7063\\u76ee\\u524d\\u8cb7\\u5f97\\u5230 4G \\u5206\\u4eab\\u5668\\u7c21\\u6613\\u898f\\u683c\\u6574\\u7406(11/20\\u66f4\\u65b0)\", \"https://www.mobile01.com/topicdetail.php?f=18&t=5922277\"], [\"\\u6c11108\\u5e74\\u7d42\\u6700\\u5f8c\\u4e00\\u6a94 ($99/21M+300\\u5206\\u9418)\", \"https://www.mobile01.com/topicdetail.php?f=18&t=5974077\"], [\"\\u4e2d\\u570b\\u4fe1\\u8a17\\u5ba2\\u670d\\u8981\\u9322\\u554a\\u554a\\u554a\\uff08020308988\\uff09\", \"https://www.mobile01.com/topicdetail.php?f=18&t=5802428\"], [\"\\u8a72\\u4e0d\\u6703\\u4ee5\\u5f8c\\u7d05\\u7c73\\u65b0\\u6a5f\\u518d\\u4e5f\\u4e0d\\u652f\\u63f4\\u901a\\u8a71\\u9304\\u97f3\\uff1f\", \"https://www.mobile01.com/topicdetail.php?f=634&t=5974067\"], [\"\\u95dc\\u65bc\\u53f0\\u661f\\u820a\\u5ba2\\u6236188\\u4e4b88\\u7533\\u8fa6\", \"https://www.mobile01.com/topicdetail.php?f=18&t=5953826\"], [\"\\u611f\\u8b1d\\u5404\\u4f4d\\u610f\\u898b\\uff0c\\u6211\\u9084\\u662f\\u8cb7\\u7d05\\u7c738T\\u3002\\u671f\\u5f85\\u6211\\u5abd\\u7528\\u7684\\u9ad8\\u8208\", \"https://www.mobile01.com/topicdetail.php?f=634&t=5972188\"], [\"U12+ Android 10?\", \"https://www.mobile01.com/topicdetail.php?f=566&t=5974034\"], [\"\\u8acb\\u554f\\u5404\\u4f4d \\u90fd\\u8cb7\\u54ea\\u5bb6\\u7684\\u4fdd\\u8b77\\u6bbc\\u914d\\u73bb\\u7483\\u8cbc?\", \"https://www.mobile01.com/topicdetail.php?f=565&t=5974044\"], [\"\\u53f0\\u7248 Mate 20 pro \\u66f4\\u65b0Emui 10\", \"https://www.mobile01.com/topicdetail.php?f=629&t=5971130\"], [\"Realme XT \\u554f\\u984c\\u53cd\\u61c9\\u5340\", \"https://www.mobile01.com/topicdetail.php?f=689&t=5934118\"], [\"\\u53f0\\u661f\\u4e0a\\u50b3\\u9f9c\\u901f\", \"https://www.mobile01.com/topicdetail.php?f=18&t=5973063\"], [\"\\u4e0b\\u4e00\\u652f\\u624b\\u6a5f\\u9084\\u6703\\u7528OPPO\\u55ce?\", \"https://www.mobile01.com/topicdetail.php?f=689&t=5924016\"], [\"S10+ \\u5c0f\\u529f\\u80fd\\u5206\\u4eab&amp; APP\\u66f4\\u65b0\\u554f\\u984c\", \"https://www.mobile01.com/topicdetail.php?f=568&t=5974294\"], [\"\\u4e2d\\u83ef\\u96fb\\u4fe1\\u9810\\u4ed8\\u5361App\", \"https://www.mobile01.com/topicdetail.php?f=18&t=5973617\"], [\"Xperia 5 \\u81fa\\u7063\\u958b\\u653e\\u66f4\\u65b0Android 10\\u56c9!!!\", \"https://www.mobile01.com/topicdetail.php?f=569&t=5973459\"], [\"Oneplus GCM\", \"https://www.mobile01.com/topicdetail.php?f=586&t=5963530\"], [\"NOTE10+\\u7684bixby\", \"https://www.mobile01.com/topicdetail.php?f=568&t=5973454\"], [\"\\u96d911\\u53f0\\u7063\\u4e4b\\u661f 599 799\\u8fa6I11 (pro) \\u914d\\u9001\\u9032\\u5ea6\\u5206\\u4eab\", \"https://www.mobile01.com/topicdetail.php?f=18&t=5950240\"], [\"\\u5982\\u679c\\u60c5\\u6cc1\\u6301\\u7e8c\\u4e0b\\u53bb(\\u60e1\\u5316),\\u83ef\\u70ba\\u6703\\u9000\\u51fa\\u53f0\\u7063\\u5e02\\u5834\\u55ce\\uff1f\", \"https://www.mobile01.com/topicdetail.php?f=629&t=5971781\"], [\"\\u7d05\\u7c73Note 8 Pro \\u5237\\u4e86\\u6b50\\u7248\\u5f8c, Google Pay\\u554f\\u984c\", \"https://www.mobile01.com/topicdetail.php?f=634&t=5962300\"]]\n",
      "Done\n"
     ]
    }
   ],
   "source": [
    "#coding:utf-8\n",
    "#65001\n",
    "import urllib.request\n",
    "import time\n",
    "import json\n",
    "\n",
    "def start_requests():\n",
    "    urls = [\n",
    "        'https://www.mobile01.com/forumtopic.php?c=16&p=1',\n",
    "        'https://www.mobile01.com/forumtopic.php?c=16&p=2',\n",
    "    ]\n",
    "    for url in urls:\n",
    "        time.sleep(0.5)\n",
    "        parseMobile01(url)\n",
    "\n",
    "def parseMobile01(uri):\n",
    "    req = urllib.request.Request(\n",
    "        uri, \n",
    "        data=None, \n",
    "        headers={\n",
    "            'User-Agent': 'Mozilla/5.0 (Macintosh; Intel Mac OS X 10_9_3) AppleWebKit/537.36 (KHTML, like Gecko) Chrome/35.0.1916.47 Safari/537.36'\n",
    "        }\n",
    "    )\n",
    "    handle = urllib.request.urlopen(req)\n",
    "    encoding = handle.headers.get_content_charset()\n",
    "    html_data =  handle.read().decode(encoding)\n",
    "    title = ''\n",
    "    link = ''\n",
    "    items = []\n",
    "    for a in html_data.split('c-listTableTd__title\">')[1:]:\n",
    "        link = 'https://www.mobile01.com/'+a.split('href=\"')[1].split('\"')[0]\n",
    "        title = a.split('c-link u-ellipsis\" >')[1].split('</')[0]\n",
    "        # print(title)\n",
    "        # print(link)\n",
    "        if len(title)>0 and len(link)>0:\n",
    "            items.append([title, link])\n",
    "    row_json = json.dumps(items)\n",
    "    print(row_json)\n",
    "\n",
    "if __name__ == '__main__':\n",
    "    start_requests()\n",
    "    print(\"Done\")"
   ]
  }
 ],
 "metadata": {
  "anaconda-cloud": {},
  "kernelspec": {
   "display_name": "Python 3",
   "language": "python",
   "name": "python3"
  },
  "language_info": {
   "codemirror_mode": {
    "name": "ipython",
    "version": 3
   },
   "file_extension": ".py",
   "mimetype": "text/x-python",
   "name": "python",
   "nbconvert_exporter": "python",
   "pygments_lexer": "ipython3",
   "version": "3.6.7"
  }
 },
 "nbformat": 4,
 "nbformat_minor": 1
}
