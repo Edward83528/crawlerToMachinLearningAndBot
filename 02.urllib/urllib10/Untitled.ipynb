{
 "cells": [
  {
   "cell_type": "code",
   "execution_count": 1,
   "metadata": {},
   "outputs": [
    {
     "name": "stdout",
     "output_type": "stream",
     "text": [
      "Active code page: 65001\n",
      "https://www.dcard.tw/f/food\n"
     ]
    },
    {
     "name": "stderr",
     "output_type": "stream",
     "text": [
      "Traceback (most recent call last):\n",
      "  File \"dcardCrawler.py\", line 87, in <module>\n",
      "    start_requests()\n",
      "  File \"dcardCrawler.py\", line 42, in start_requests\n",
      "    parseLtnDcard(url)\n",
      "  File \"dcardCrawler.py\", line 70, in parseLtnDcard\n",
      "    print(str_idx+\":\"+strTitle,end='\\n')\n",
      "UnicodeEncodeError: 'cp950' codec can't encode character '\\U0001f914' in position 28: illegal multibyte sequence\n"
     ]
    }
   ],
   "source": [
    "!chcp 65001\n",
    "! python dcardCrawler.py funny"
   ]
  },
  {
   "cell_type": "code",
   "execution_count": null,
   "metadata": {},
   "outputs": [],
   "source": []
  }
 ],
 "metadata": {
  "kernelspec": {
   "display_name": "Python 3",
   "language": "python",
   "name": "python3"
  },
  "language_info": {
   "codemirror_mode": {
    "name": "ipython",
    "version": 3
   },
   "file_extension": ".py",
   "mimetype": "text/x-python",
   "name": "python",
   "nbconvert_exporter": "python",
   "pygments_lexer": "ipython3",
   "version": "3.7.3"
  }
 },
 "nbformat": 4,
 "nbformat_minor": 2
}
