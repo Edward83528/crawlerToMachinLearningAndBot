{
 "cells": [
  {
   "cell_type": "markdown",
   "metadata": {},
   "source": [
    "# 建構爬蟲框架 urllib - split - Mobile01 區分置頂文與內文 - 輸出JSON array"
   ]
  },
  {
   "cell_type": "code",
   "execution_count": 1,
   "metadata": {},
   "outputs": [
    {
     "name": "stdout",
     "output_type": "stream",
     "text": [
      "[[\"[公告] 智慧型與傳統手機各版面發文公告規則 (2017年09月14日更新)\", \"https://www.mobile01.com/topicdetail.php?f=61&amp;t=3036682\"], [\"【7月】01會員獨享活動 快手點擊抽Nokia 5.3\", \"https://www.mobile01.com/topicdetail.php?f=742&amp;t=6130674\"], [\"【6月】01會員獨享活動 送你SONY防水手機 Xperia 10 II\", \"https://www.mobile01.com/topicdetail.php?f=569&amp;t=6105741\"], [\"關於5G熱點分享限流量問題...\", \"https://www.mobile01.com/topicdetail.php?f=18&amp;t=6133453\"], [\"四欸開賣了耶\", \"https://www.mobile01.com/topicdetail.php?f=565&amp;t=6133711\"], [\"5G大戰 還是悄悄開打了\", \"https://www.mobile01.com/topicdetail.php?f=18&amp;t=6133532\"], [\"Nokia尾插設計不良只有特定機型嗎？\", \"https://www.mobile01.com/topicdetail.php?f=742&amp;t=6083024\"], [\"SHARP也推出5G手機 AQUOS R5將在遠傳門市開賣\", \"https://www.mobile01.com/topicdetail.php?f=748&amp;t=6132675\"], [\"ASUS Zenfone 3 ZU680KL 求解\", \"https://www.mobile01.com/topicdetail.php?f=588&amp;t=6120838\"], [\"求紅米k30 5g 極速版 一鍵刷入twrp載點\", \"https://www.mobile01.com/topicdetail.php?f=634&amp;t=6132264\"], [\"SAMSUNG 會挑充電器!?\", \"https://www.mobile01.com/topicdetail.php?f=568&amp;t=6133504\"], [\"都2020年5G開通的年代 還在限制流量 商人話術真的很會洗腦\", \"https://www.mobile01.com/topicdetail.php?f=18&amp;t=6133675\"], [\"小米9如果ROOT之後，悠遊卡功能會失效嗎？\", \"https://www.mobile01.com/topicdetail.php?f=634&amp;t=6132695\"], [\"《簡易開箱》Redmi Note 8T 4G/64G版\", \"https://www.mobile01.com/topicdetail.php?f=634&amp;t=6133049\"], [\"5G 手機選擇\", \"https://www.mobile01.com/topicdetail.php?f=61&amp;t=6133396\"], [\"請問HTC Desire 20 Pro與Sunsumg A31s這兩個的優缺比較??\", \"https://www.mobile01.com/topicdetail.php?f=566&amp;t=6133483\"], [\"對於手機王和比價王都不評測低價手機大家有什麼看法？\", \"https://www.mobile01.com/topicdetail.php?f=393&amp;t=6023999\"], [\"U12+  google map卡頓有解嗎？\", \"https://www.mobile01.com/topicdetail.php?f=566&amp;t=6121268\"], [\"關於Xperia 1 II的熱點分享一直無法連線成功的問題\", \"https://www.mobile01.com/topicdetail.php?f=569&amp;t=6133631\"], [\"如何關閉APP付費功能試用提醒？\", \"https://www.mobile01.com/topicdetail.php?f=423&amp;t=6128077\"], [\"關於今天開台的遠傳5G\", \"https://www.mobile01.com/topicdetail.php?f=569&amp;t=6133286\"], [\"HTC Desire 20 pro 問題\", \"https://www.mobile01.com/topicdetail.php?f=566&amp;t=6130442\"], [\"台灣之星5G基地台數會多少呢？\", \"https://www.mobile01.com/topicdetail.php?f=18&amp;t=6133296\"], [\"【收藏迷報到】我的3c產品演變收藏-相信可以勾起4.5.6年級生的回憶(已補了一些圖)\", \"https://www.mobile01.com/topicdetail.php?f=393&amp;t=6111960\"], [\"請問新辦中華非吃到飽的專案\", \"https://www.mobile01.com/topicdetail.php?f=18&amp;t=6133677\"], [\"［已解決］有關xperia 1 II的NFC\", \"https://www.mobile01.com/topicdetail.php?f=569&amp;t=6127342\"], [\"[ 開箱 ] OnePlus 8 Pro – 旗艦手機殺手、精緻的螢幕、流暢的系統\", \"https://www.mobile01.com/topicdetail.php?f=586&amp;t=6089854\"], [\"s20+遠拍色準問題\", \"https://www.mobile01.com/topicdetail.php?f=568&amp;t=6133514\"], [\"關於５Ｇ上網\", \"https://www.mobile01.com/topicdetail.php?f=18&amp;t=6133615\"], [\"請問zenfone 6的相關使用問題??\", \"https://www.mobile01.com/topicdetail.php?f=588&amp;t=6133582\"], [\"目前支付綁定三倍卷是最好的選擇?\", \"https://www.mobile01.com/topicdetail.php?f=18&amp;t=6131669\"], [\"紅米 Redmi Note 9 Pro 6G/128G 入手\", \"https://www.mobile01.com/topicdetail.php?f=634&amp;t=6110167\"], [\"samsung pay悠遊卡與hami pay衝突\", \"https://www.mobile01.com/topicdetail.php?f=568&amp;t=6047290\"]]\n",
      "[[\"RENO Z也有coloros 7 的更新\", \"https://www.mobile01.com/topicdetail.php?f=689&amp;t=6131675\"], [\"遠傳老客戶升級5G問題\", \"https://www.mobile01.com/topicdetail.php?f=18&amp;t=6132829\"], [\"台哥大299不限速，自己送上門來\", \"https://www.mobile01.com/topicdetail.php?f=18&amp;t=5699456\"], [\"三大開台 台灣之星也先出手：預約登記5G 月租699就可吃到飽 開台不再復見\", \"https://www.mobile01.com/topicdetail.php?f=18&amp;t=6132984\"], [\"我買了前旗艦sony xperia 1\", \"https://www.mobile01.com/topicdetail.php?f=569&amp;t=6123778\"], [\"(抱怨)蘋果日報APP\", \"https://www.mobile01.com/topicdetail.php?f=423&amp;t=6121726\"], [\"為何 4G 沒有 熱點分享傳輸量 限制\", \"https://www.mobile01.com/topicdetail.php?f=18&amp;t=6133018\"], [\"小米9 Line訊息變空白氣泡\", \"https://www.mobile01.com/topicdetail.php?f=634&amp;t=6130736\"], [\"請問：mate20pro我不想點擊螢幕喚醒.....\", \"https://www.mobile01.com/topicdetail.php?f=629&amp;t=6133485\"], [\"中華電信7月早鳥優惠\", \"https://www.mobile01.com/topicdetail.php?f=18&amp;t=6133581\"], [\"iQOO Z1 天玑1000 初试水温\", \"https://www.mobile01.com/topicdetail.php?f=754&amp;t=6123256\"], [\"請問VIVO 的螢幕指紋辨識\", \"https://www.mobile01.com/topicdetail.php?f=754&amp;t=6133444\"], [\"ZenFone 6\", \"https://www.mobile01.com/topicdetail.php?f=588&amp;t=6132513\"], [\"手機滑鼠相關\", \"https://www.mobile01.com/topicdetail.php?f=588&amp;t=6133425\"], [\"中華續約438吃到飽，門市介紹最低還有388\", \"https://www.mobile01.com/topicdetail.php?f=18&amp;t=6036849\"], [\"遠傳網路不限速319吃到飽\", \"https://www.mobile01.com/topicdetail.php?f=393&amp;t=6133340\"], [\"關於Whoscall的一些問題\", \"https://www.mobile01.com/topicdetail.php?f=789&amp;t=6133593\"], [\"地標.向東.二呆通訊行能辦5G退佣折扣了嗎？\", \"https://www.mobile01.com/topicdetail.php?f=18&amp;t=6131326\"], [\"s20+更新！！（更：網路有感變順）\", \"https://www.mobile01.com/topicdetail.php?f=568&amp;t=6133087\"], [\"9T pro MIUI12\", \"https://www.mobile01.com/topicdetail.php?f=634&amp;t=6124781\"], [\"關於vivo Y50的全形標點符號\", \"https://www.mobile01.com/topicdetail.php?f=754&amp;t=6133513\"], [\"htc為什麼沒落，小白測評視角分享\", \"https://www.mobile01.com/topicdetail.php?f=566&amp;t=6127148\"], [\"準備5G了嗎？5G今天上路，五大迷思全破解\", \"https://www.mobile01.com/topicdetail.php?f=18&amp;t=6132438\"], [\"find x2 pro 升級Android 11分享\", \"https://www.mobile01.com/topicdetail.php?f=689&amp;t=6065815\"], [\"xzs 軟體修復失敗\", \"https://www.mobile01.com/topicdetail.php?f=569&amp;t=6133520\"], [\"三大5G到齊！  遠傳即刻起開台 8/2前不論資費高低都可吃到飽\", \"https://www.mobile01.com/topicdetail.php?f=18&amp;t=6132873\"], [\"[開箱]  Haylou Solar 智能手錶\", \"https://www.mobile01.com/topicdetail.php?f=738&amp;t=6107535\"], [\"看來ZENFONE7要發表了!\", \"https://www.mobile01.com/topicdetail.php?f=588&amp;t=6128858\"], [\"［新聞］預計在台灣、米蘭、紐約三地同步揭曉，華碩透露將於 7/22 揭曉 ROG Phone 3\", \"https://www.mobile01.com/topicdetail.php?f=588&amp;t=6133517\"], [\"ZENFONE 5Z 韌體更新WW＿100.10.107.87\", \"https://www.mobile01.com/topicdetail.php?f=588&amp;t=6133203\"]]\n",
      "Done\n"
     ]
    }
   ],
   "source": [
    "#coding:utf-8\n",
    "#65001\n",
    "import urllib.request\n",
    "import time\n",
    "import json\n",
    "\n",
    "def start_requests():\n",
    "    urls = [\n",
    "        'https://www.mobile01.com/forumtopic.php?c=16&p=1',\n",
    "        'https://www.mobile01.com/forumtopic.php?c=16&p=2',\n",
    "    ]\n",
    "    for url in urls:\n",
    "        time.sleep(0.5) # 給個時間間隔,模擬人\n",
    "        parseMobile01(url)\n",
    "\n",
    "def parseMobile01(uri):\n",
    "    req = urllib.request.Request(\n",
    "        uri, \n",
    "        data=None, \n",
    "        headers={\n",
    "            'User-Agent': 'Mozilla/5.0 (Macintosh; Intel Mac OS X 10_9_3) AppleWebKit/537.36 (KHTML, like Gecko) Chrome/35.0.1916.47 Safari/537.36'\n",
    "        }\n",
    "    )\n",
    "    handle = urllib.request.urlopen(req)\n",
    "    # response得到的是網頁的内容，bytes類型的數據，需要用utf-8轉為字符串格式\n",
    "    encoding = handle.headers.get_content_charset()\n",
    "    html_data =  handle.read().decode(encoding)\n",
    "    title = ''\n",
    "    link = ''\n",
    "    items = []\n",
    "    for a in html_data.split('c-listTableTd__title\">')[1:]:\n",
    "        link = 'https://www.mobile01.com/'+a.split('href=\"')[1].split('\"')[0]\n",
    "        title = a.split('c-link u-ellipsis\" >')[1].split('</')[0]\n",
    "        # print(title)\n",
    "        # print(link)\n",
    "        if len(title)>0 and len(link)>0:\n",
    "            items.append([title, link])\n",
    "    row_json = json.dumps(items, ensure_ascii=False) #json.dumps將 Python 對象編碼成 JSON 字符串\n",
    "    print(row_json)\n",
    "\n",
    "if __name__ == '__main__':\n",
    "    start_requests()\n",
    "    print(\"Done\")"
   ]
  }
 ],
 "metadata": {
  "anaconda-cloud": {},
  "kernelspec": {
   "display_name": "Python 3",
   "language": "python",
   "name": "python3"
  },
  "language_info": {
   "codemirror_mode": {
    "name": "ipython",
    "version": 3
   },
   "file_extension": ".py",
   "mimetype": "text/x-python",
   "name": "python",
   "nbconvert_exporter": "python",
   "pygments_lexer": "ipython3",
   "version": "3.7.3"
  }
 },
 "nbformat": 4,
 "nbformat_minor": 2
}
