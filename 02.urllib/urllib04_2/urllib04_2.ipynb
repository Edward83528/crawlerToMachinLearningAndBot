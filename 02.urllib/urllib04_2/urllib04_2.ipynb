{
 "cells": [
  {
   "cell_type": "markdown",
   "metadata": {},
   "source": [
    "# urllib - split - Mobile01 區分置頂文與內文 - 輸出JSON array"
   ]
  },
  {
   "cell_type": "code",
   "execution_count": 1,
   "metadata": {},
   "outputs": [
    {
     "name": "stdout",
     "output_type": "stream",
     "text": [
      "[[\"[公告] 智慧型與傳統手機各版面發文公告規則 (2017年09月14日更新)\", \"https://www.mobile01.com/topicdetail.php?f=61&t=3036682\"], [\"台星雙12中午12半點開始直播\", \"https://www.mobile01.com/topicdetail.php?f=18&t=5974268\"], [\"亞太月租11,目前無提供蓋號服務???\", \"https://www.mobile01.com/topicdetail.php?f=18&t=5974416\"], [\"小米9T PRO 更新11後問題\", \"https://www.mobile01.com/topicdetail.php?f=634&t=5974461\"], [\"台灣5G難以發展的原因\", \"https://www.mobile01.com/topicdetail.php?f=393&t=5974114\"], [\"手機有micro SD記憶卡還是很重要的\", \"https://www.mobile01.com/topicdetail.php?f=393&t=5974051\"], [\"請問有人知道今天1212台灣之星的88要怎麼搶嗎？\", \"https://www.mobile01.com/topicdetail.php?f=18&t=5974183\"], [\"紅米Note 8 Pro 和 Note 8T 大家推薦買哪一隻?\", \"https://www.mobile01.com/topicdetail.php?f=634&t=5965534\"], [\"陸版紅米k20pro尊享版設定分享\", \"https://www.mobile01.com/topicdetail.php?f=634&t=5951099\"], [\"台哥大雙12 299吃超飽\", \"https://www.mobile01.com/topicdetail.php?f=18&t=5974449\"], [\"有沒有小米紅米1212優惠的卦呢？\", \"https://www.mobile01.com/topicdetail.php?f=634&t=5971926\"], [\"NCC首度5G釋照競標    五大電信業者態度消極場面「冷靜」\", \"https://www.mobile01.com/topicdetail.php?f=18&t=5973690\"], [\"購得台星799 iPhone 11 128G+Airpods 2\", \"https://www.mobile01.com/topicdetail.php?f=18&t=5974310\"], [\"USB 車充 無法充平板問題\", \"https://www.mobile01.com/topicdetail.php?f=393&t=5974209\"], [\"亞太X萊爾富 真的能取貨嗎??1小時\", \"https://www.mobile01.com/topicdetail.php?f=18&t=5972284\"], [\"求解！LINE電腦版第一次登入認證時，手機版不跳出認證碼輸入畫面\", \"https://www.mobile01.com/topicdetail.php?f=423&t=5945179\"], [\"從雙11等到雙12！ 台灣之星「手機遲交」惹怨\", \"https://www.mobile01.com/topicdetail.php?f=18&t=5972828\"], [\"LM111 LM211訊號不好,很慢？\", \"https://www.mobile01.com/topicdetail.php?f=18&t=5974350\"], [\"亞太雙12挑戰最低價\", \"https://www.mobile01.com/topicdetail.php?f=18&t=5972610\"], [\"Xperia 5的指紋辨識能力？Xperia5的指紋辨識準確度\", \"https://www.mobile01.com/topicdetail.php?f=569&t=5937757\"], [\"亞太流量用完降速後，真的有128KB/s嗎？\", \"https://www.mobile01.com/topicdetail.php?f=18&t=5970937\"], [\"國際版小米8被官方放生了\", \"https://www.mobile01.com/topicdetail.php?f=634&t=5974283\"], [\"台星99方案/1分1元，最後申辦日為12月15日前，要辦的人動作請加快~~~~~~\", \"https://www.mobile01.com/topicdetail.php?f=18&t=5965633\"], [\"請問GA 或 Nest Mini 要如何做到這個功能呢?\", \"https://www.mobile01.com/topicdetail.php?f=565&t=5974129\"], [\"HUAWEI Band 3 Pro同步疑問\", \"https://www.mobile01.com/topicdetail.php?f=738&t=5962819\"], [\"Mate 30 pro 5G 512G 黑色 微開箱\", \"https://www.mobile01.com/topicdetail.php?f=629&t=5974279\"], [\"現在都流行手機螢幕的四角是圓角嗎\", \"https://www.mobile01.com/topicdetail.php?f=393&t=5974292\"], [\"[問題] 關於G8X螢幕\", \"https://www.mobile01.com/topicdetail.php?f=581&t=5973558\"], [\"臺版 Huawei / Nova 裝置更新 EMUI 10 懶人包 + 疑難排解集合帖\", \"https://www.mobile01.com/topicdetail.php?f=629&t=5972006\"], [\"mate 20跟mate 20 pro拍照比較\", \"https://www.mobile01.com/topicdetail.php?f=629&t=5973717\"], [\"請問台灣之星體驗卡綫上申請一事\", \"https://www.mobile01.com/topicdetail.php?f=18&t=5974207\"]]\n",
      "[[\"台灣之星99每分鐘1元序號贈送\", \"https://www.mobile01.com/topicdetail.php?f=18&t=5967446\"], [\"(9.4.18) 小米8 刷EU開發版更新追蹤.....\", \"https://www.mobile01.com/topicdetail.php?f=634&t=5614621\"], [\"有realme x2 pro的消息了嗎？\", \"https://www.mobile01.com/topicdetail.php?f=689&t=5971418\"], [\"試用分享/ OK Google～Nest mini可以買嗎?\", \"https://www.mobile01.com/topicdetail.php?f=565&t=5969222\"], [\"有關台星雙11，有人跟我一樣sim卡還在宇宙旅行嗎？\", \"https://www.mobile01.com/topicdetail.php?f=18&t=5960931\"], [\"剛剛不知道吸了什麼突然想到一個有趣的解法\", \"https://www.mobile01.com/topicdetail.php?f=634&t=5974324\"], [\"當台灣禁售華為、小米、OPPO等手機，這樣HTC 就有重生的機會\", \"https://www.mobile01.com/topicdetail.php?f=566&t=5973585\"], [\"請問行動網路身障辦中華是最優惠嗎,問客服好像不是最優惠也?\", \"https://www.mobile01.com/topicdetail.php?f=18&t=5974190\"], [\"請問Y17支援台灣的CA（載波聚合）頻段組合為何呢？\", \"https://www.mobile01.com/topicdetail.php?f=754&t=5936398\"], [\"note 8 pro有無可以替代手機管家的APP\", \"https://www.mobile01.com/topicdetail.php?f=634&t=5971311\"], [\"台灣目前買得到 4G 分享器簡易規格整理(11/20更新)\", \"https://www.mobile01.com/topicdetail.php?f=18&t=5922277\"], [\"民108年終最後一檔 ($99/21M+300分鐘)\", \"https://www.mobile01.com/topicdetail.php?f=18&t=5974077\"], [\"中國信託客服要錢啊啊啊（020308988）\", \"https://www.mobile01.com/topicdetail.php?f=18&t=5802428\"], [\"該不會以後紅米新機再也不支援通話錄音？\", \"https://www.mobile01.com/topicdetail.php?f=634&t=5974067\"], [\"關於台星舊客戶188之88申辦\", \"https://www.mobile01.com/topicdetail.php?f=18&t=5953826\"], [\"感謝各位意見，我還是買紅米8T。期待我媽用的高興\", \"https://www.mobile01.com/topicdetail.php?f=634&t=5972188\"], [\"U12+ Android 10?\", \"https://www.mobile01.com/topicdetail.php?f=566&t=5974034\"], [\"請問各位 都買哪家的保護殼配玻璃貼?\", \"https://www.mobile01.com/topicdetail.php?f=565&t=5974044\"], [\"台版 Mate 20 pro 更新Emui 10\", \"https://www.mobile01.com/topicdetail.php?f=629&t=5971130\"], [\"Realme XT 問題反應區\", \"https://www.mobile01.com/topicdetail.php?f=689&t=5934118\"], [\"台星上傳龜速\", \"https://www.mobile01.com/topicdetail.php?f=18&t=5973063\"], [\"下一支手機還會用OPPO嗎?\", \"https://www.mobile01.com/topicdetail.php?f=689&t=5924016\"], [\"S10+ 小功能分享&amp; APP更新問題\", \"https://www.mobile01.com/topicdetail.php?f=568&t=5974294\"], [\"中華電信預付卡App\", \"https://www.mobile01.com/topicdetail.php?f=18&t=5973617\"], [\"Xperia 5 臺灣開放更新Android 10囉!!!\", \"https://www.mobile01.com/topicdetail.php?f=569&t=5973459\"], [\"Oneplus GCM\", \"https://www.mobile01.com/topicdetail.php?f=586&t=5963530\"], [\"NOTE10+的bixby\", \"https://www.mobile01.com/topicdetail.php?f=568&t=5973454\"], [\"雙11台灣之星 599 799辦I11 (pro) 配送進度分享\", \"https://www.mobile01.com/topicdetail.php?f=18&t=5950240\"], [\"如果情況持續下去(惡化),華為會退出台灣市場嗎？\", \"https://www.mobile01.com/topicdetail.php?f=629&t=5971781\"], [\"紅米Note 8 Pro 刷了歐版後, Google Pay問題\", \"https://www.mobile01.com/topicdetail.php?f=634&t=5962300\"]]\n",
      "Done\n"
     ]
    }
   ],
   "source": [
    "#coding:utf-8\n",
    "#65001\n",
    "import urllib.request\n",
    "import time\n",
    "import json\n",
    "\n",
    "def start_requests():\n",
    "    urls = [\n",
    "        'https://www.mobile01.com/forumtopic.php?c=16&p=1',\n",
    "        'https://www.mobile01.com/forumtopic.php?c=16&p=2',\n",
    "    ]\n",
    "    for url in urls:\n",
    "        time.sleep(0.5)\n",
    "        parseMobile01(url)\n",
    "\n",
    "def parseMobile01(uri):\n",
    "    req = urllib.request.Request(\n",
    "        uri, \n",
    "        data=None, \n",
    "        headers={\n",
    "            'User-Agent': 'Mozilla/5.0 (Macintosh; Intel Mac OS X 10_9_3) AppleWebKit/537.36 (KHTML, like Gecko) Chrome/35.0.1916.47 Safari/537.36'\n",
    "        }\n",
    "    )\n",
    "    handle = urllib.request.urlopen(req)\n",
    "    encoding = handle.headers.get_content_charset()\n",
    "    html_data =  handle.read().decode(encoding)\n",
    "    title = ''\n",
    "    link = ''\n",
    "    items = []\n",
    "    for a in html_data.split('c-listTableTd__title\">')[1:]:\n",
    "        link = 'https://www.mobile01.com/'+a.split('href=\"')[1].split('\"')[0]\n",
    "        title = a.split('c-link u-ellipsis\" >')[1].split('</')[0]\n",
    "        # print(title)\n",
    "        # print(link)\n",
    "        if len(title)>0 and len(link)>0:\n",
    "            items.append([title, link])\n",
    "    row_json = json.dumps(items, ensure_ascii=False)\n",
    "    print(row_json)\n",
    "\n",
    "if __name__ == '__main__':\n",
    "    start_requests()\n",
    "    print(\"Done\")"
   ]
  }
 ],
 "metadata": {
  "anaconda-cloud": {},
  "kernelspec": {
   "display_name": "Python 3",
   "language": "python",
   "name": "python3"
  },
  "language_info": {
   "codemirror_mode": {
    "name": "ipython",
    "version": 3
   },
   "file_extension": ".py",
   "mimetype": "text/x-python",
   "name": "python",
   "nbconvert_exporter": "python",
   "pygments_lexer": "ipython3",
   "version": "3.6.7"
  }
 },
 "nbformat": 4,
 "nbformat_minor": 1
}
