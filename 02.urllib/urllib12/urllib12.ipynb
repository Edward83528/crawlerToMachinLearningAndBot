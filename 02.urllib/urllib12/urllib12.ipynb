{
 "cells": [
  {
   "cell_type": "markdown",
   "metadata": {},
   "source": [
    "# urllib - HTTP POST - 無登入後Session，無法取得內文"
   ]
  },
  {
   "cell_type": "code",
   "execution_count": 1,
   "metadata": {
    "collapsed": false
   },
   "outputs": [
    {
     "name": "stdout",
     "output_type": "stream",
     "text": [
      "Welcome, David!!<br><a href=\"content.php\">David's Paper.</a><br><a href=\"logout.php\">Logout</a><br>\n",
      "You need to login first.<br><a href=\"index.php\">Go back</a><br>\n"
     ]
    }
   ],
   "source": [
    "import urllib.request, urllib.parse\n",
    "\n",
    "data = {\n",
    "  'name' : 'David',\n",
    "  'password' : '1234'\n",
    "}\n",
    "data = bytes( urllib.parse.urlencode( data ).encode() )\n",
    "handler = urllib.request.urlopen( 'http://jumpin.cc/HelloForm/post.php', data );\n",
    "print( handler.read().decode( 'utf-8' ) );\n",
    "\n",
    "req2 = urllib.request.Request('http://jumpin.cc/HelloForm/content.php')\n",
    "handler = urllib.request.urlopen(req2);\n",
    "print(handler.read().decode('utf-8'))"
   ]
  },
  {
   "cell_type": "code",
   "execution_count": null,
   "metadata": {},
   "outputs": [],
   "source": []
  },
  {
   "cell_type": "code",
   "execution_count": null,
   "metadata": {},
   "outputs": [],
   "source": []
  }
 ],
 "metadata": {
  "anaconda-cloud": {},
  "kernelspec": {
   "display_name": "Python 3",
   "language": "python",
   "name": "python3"
  },
  "language_info": {
   "codemirror_mode": {
    "name": "ipython",
    "version": 3
   },
   "file_extension": ".py",
   "mimetype": "text/x-python",
   "name": "python",
   "nbconvert_exporter": "python",
   "pygments_lexer": "ipython3",
   "version": "3.7.3"
  }
 },
 "nbformat": 4,
 "nbformat_minor": 2
}
