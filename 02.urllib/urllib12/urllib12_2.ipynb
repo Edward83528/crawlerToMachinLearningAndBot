{
 "cells": [
  {
   "cell_type": "markdown",
   "metadata": {},
   "source": [
    "# urllib - HTTP POST - 沿用登入後Session取得內文"
   ]
  },
  {
   "cell_type": "code",
   "execution_count": 1,
   "metadata": {
    "collapsed": false
   },
   "outputs": [
    {
     "name": "stdout",
     "output_type": "stream",
     "text": [
      "Welcome, David!!<br><a href=\"content.php\">David's Paper.</a><br><a href=\"logout.php\">Logout</a><br>\n",
      "Convolutional Neural Networks (CNNs) have recently<br>been shown to achieve impressive results<br>on the practically important task of sentence categorization<br>(Kim, 2014; Kalchbrenner et al., 2014;<br>Wang et al., 2015; Goldberg, 2015; Iyyer et al.,<br>2015). CNNs can capitalize on distributed representations<br>of words by first converting the tokens<br>comprising each sentence into a vector, forming a<br>matrix to be used as input (e.g., see Fig. 1). The<br>models need not be complex to realize strong results:<br>Kim (2014), for example, proposed a simple<br>one-layer CNN that achieved state-of-the-art (or<br>comparable) results across several datasets. The<br>very strong results achieved with this comparatively<br>simple CNN architecture suggest that it may<br>serve as a drop-in replacement for well-established<br>baseline models, such as SVM (Joachims, 1998)<br>or logistic regression. While more complex deep<br>learning models for text classification will undoubtedly<br>continue to be developed, those deploying<br>such technologies in practice will likely be attracted<br>to simpler variants, which afford fast training<br>and prediction times.<br><br><a href=\"logout.php\">Logout</a><br>\n"
     ]
    }
   ],
   "source": [
    "import urllib.request, urllib.parse\n",
    "\n",
    "data = {\n",
    "  'name' : 'David',\n",
    "  'password' : '1234'\n",
    "}\n",
    "data = bytes( urllib.parse.urlencode( data ).encode() )\n",
    "\n",
    "req1 = urllib.request.Request('http://jumpin.cc/HelloForm/post.php')\n",
    "handler = urllib.request.urlopen(req1,data);\n",
    "cookie = handler.headers.get('Set-Cookie')\n",
    "print( handler.read().decode( 'utf-8' ) );\n",
    "\n",
    "req2 = urllib.request.Request('http://jumpin.cc/HelloForm/content.php')\n",
    "req2.add_header('cookie', cookie)\n",
    "handler = urllib.request.urlopen(req2);\n",
    "print( handler.read().decode( 'utf-8' ) );"
   ]
  },
  {
   "cell_type": "code",
   "execution_count": 2,
   "metadata": {},
   "outputs": [
    {
     "name": "stdout",
     "output_type": "stream",
     "text": [
      "Done\n"
     ]
    }
   ],
   "source": [
    "cookie = 'sb=P-XNXkN0RKq4mI4XP-9NV4DG; datr=P-XNXr30umFLC19ZqFui0nOO; dpr=1.25; c_user=100000346982673; xs=27%3A-24LQ4VzMYaOgw%3A2%3A1590568168%3A6261%3A11314; spin=r.1002164505_b.trunk_t.1590568169_s.1_v.2_; fr=0mOqnXmGO1xHVVggu.AWVGvHLh3m9e1cGP0-CjQbG5KO8.BezdYi.lQ.F7O.0.0.BeziTt.AWXHcQ3E; act=1590568179259%2F0; wd=1536x200; presence=EDvF3EtimeF1590568424EuserFA21B00346982673A2EstateFDutF1590568424365CEchF_7bCC'\n",
    "\n",
    "import urllib.request, urllib.parse\n",
    "\n",
    "req2 = urllib.request.Request('https://www.facebook.com/bi.b.ke.5')\n",
    "req2.add_header('cookie', cookie)\n",
    "handler = urllib.request.urlopen(req2);\n",
    "html_data = handler.read().decode( 'utf-8' )\n",
    "\n",
    "with open(\"myfb.txt\", \"w\", encoding=\"utf-8\") as my_file:\n",
    "    my_file.write(html_data)\n",
    "my_file.close()\n",
    "print(\"Done\")\n"
   ]
  },
  {
   "cell_type": "code",
   "execution_count": null,
   "metadata": {},
   "outputs": [],
   "source": []
  }
 ],
 "metadata": {
  "anaconda-cloud": {},
  "kernelspec": {
   "display_name": "Python 3",
   "language": "python",
   "name": "python3"
  },
  "language_info": {
   "codemirror_mode": {
    "name": "ipython",
    "version": 3
   },
   "file_extension": ".py",
   "mimetype": "text/x-python",
   "name": "python",
   "nbconvert_exporter": "python",
   "pygments_lexer": "ipython3",
   "version": "3.7.3"
  }
 },
 "nbformat": 4,
 "nbformat_minor": 2
}
