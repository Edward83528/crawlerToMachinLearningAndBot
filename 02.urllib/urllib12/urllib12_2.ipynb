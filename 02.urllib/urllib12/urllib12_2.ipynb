{
 "cells": [
  {
   "cell_type": "markdown",
   "metadata": {},
   "source": [
    "# urllib - HTTP POST - Facebook沿用登入後Session取得內文"
   ]
  },
  {
   "cell_type": "code",
   "execution_count": null,
   "metadata": {
    "collapsed": false
   },
   "outputs": [],
   "source": [
    "import urllib.request, urllib.parse\n",
    "\n",
    "data = {\n",
    "  'name' : 'David',\n",
    "  'password' : '1234'\n",
    "}\n",
    "data = bytes( urllib.parse.urlencode( data ).encode() )\n",
    "\n",
    "req1 = urllib.request.Request('http://jumpin.cc/HelloForm/post.php')\n",
    "handler = urllib.request.urlopen(req1,data);\n",
    "cookie = handler.headers.get('Set-Cookie')\n",
    "print( handler.read().decode( 'utf-8' ) );\n",
    "\n",
    "req2 = urllib.request.Request('http://jumpin.cc/HelloForm/content.php')\n",
    "req2.add_header('cookie', cookie)\n",
    "handler = urllib.request.urlopen(req2);\n",
    "print( handler.read().decode( 'utf-8' ) );"
   ]
  },
  {
   "cell_type": "code",
   "execution_count": null,
   "metadata": {},
   "outputs": [],
   "source": [
    "cookie = '你的fb cookie'\n",
    "\n",
    "import urllib.request, urllib.parse\n",
    "\n",
    "req2 = urllib.request.Request('https://www.facebook.com/bi.b.ke.5')\n",
    "req2.add_header('cookie', cookie) # 將 cookie加到header中\n",
    "handler = urllib.request.urlopen(req2);\n",
    "html_data = handler.read().decode( 'utf-8' )\n",
    "\n",
    "with open(\"myfb.txt\", \"w\", encoding=\"utf-8\") as my_file:\n",
    "    my_file.write(html_data)\n",
    "my_file.close()\n",
    "print(\"Done\")\n"
   ]
  }
 ],
 "metadata": {
  "anaconda-cloud": {},
  "kernelspec": {
   "display_name": "Python 3",
   "language": "python",
   "name": "python3"
  },
  "language_info": {
   "codemirror_mode": {
    "name": "ipython",
    "version": 3
   },
   "file_extension": ".py",
   "mimetype": "text/x-python",
   "name": "python",
   "nbconvert_exporter": "python",
   "pygments_lexer": "ipython3",
   "version": "3.7.3"
  }
 },
 "nbformat": 4,
 "nbformat_minor": 2
}
