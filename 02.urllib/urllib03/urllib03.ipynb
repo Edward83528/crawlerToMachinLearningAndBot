{
 "cells": [
  {
   "cell_type": "markdown",
   "metadata": {},
   "source": [
    "# urllib - split - mobile01 文章標題、文章連結"
   ]
  },
  {
   "cell_type": "code",
   "execution_count": 1,
   "metadata": {},
   "outputs": [
    {
     "name": "stdout",
     "output_type": "stream",
     "text": [
      "[公告] 智慧型與傳統手機各版面發文公告規則 (2017年09月14日更新)\n",
      "https://www.mobile01.com/topicdetail.php?f=61&amp;t=3036682\n",
      "華為運動穿戴持續推出  HUAWEI WATCH GT 2e、Band 4 Pro升級新品6月初上市\n",
      "https://www.mobile01.com/topicdetail.php?f=629&amp;t=6102624\n",
      "Xperia 1 II原來也不支援mmwave……\n",
      "https://www.mobile01.com/topicdetail.php?f=569&amp;t=6102003\n",
      "SONY XPERIA 1 II 90HZ MEMC技術展示與效能\n",
      "https://www.mobile01.com/topicdetail.php?f=569&amp;t=6102590\n",
      "Samsung Galaxy SII 更高規雙核心 順暢感受新體驗（新增看土豆網）\n",
      "https://www.mobile01.com/topicdetail.php?f=568&amp;t=2162143\n",
      "智慧家庭實際使用心得: Google Nest Mini 2, Chromecast v3, BroadLink RM mini3 /RM Pro+, Sonoff RF雙控版 智能雲端電源開關\n",
      "https://www.mobile01.com/topicdetail.php?f=565&amp;t=5995106\n",
      "S20+ 更新\n",
      "https://www.mobile01.com/topicdetail.php?f=568&amp;t=6101146\n",
      "詢問Pixel 4 真偽如何判斷？\n",
      "https://www.mobile01.com/topicdetail.php?f=565&amp;t=6102393\n",
      "ZenFone 6 vs Zenfone5Z vs ROG Phone 1\n",
      "https://www.mobile01.com/topicdetail.php?f=588&amp;t=6101966\n",
      "網速低於42M能叫做4G嗎？\n",
      "https://www.mobile01.com/topicdetail.php?f=18&amp;t=6102233\n",
      "V60大約何時上市\n",
      "https://www.mobile01.com/topicdetail.php?f=581&amp;t=6074305\n",
      "現在買XZ3 OK嗎\n",
      "https://www.mobile01.com/topicdetail.php?f=569&amp;t=6102687\n",
      "Xperia 1 II即將辦體驗會\n",
      "https://www.mobile01.com/topicdetail.php?f=569&amp;t=6101979\n",
      "台灣大哥大 優惠方案(攜碼)\n",
      "https://www.mobile01.com/topicdetail.php?f=18&amp;t=5799167\n",
      "vivo Y50 6/1台灣上市？官方粉絲專頁現蹤！\n",
      "https://www.mobile01.com/topicdetail.php?f=754&amp;t=6101417\n",
      "亞太電信魔術方塊2代\n",
      "https://www.mobile01.com/topicdetail.php?f=18&amp;t=6097667\n",
      "準備預備機~ 求推荐\n",
      "https://www.mobile01.com/topicdetail.php?f=393&amp;t=6100695\n",
      "Sony Xperia 10 II 台北八德店拍照測試\n",
      "https://www.mobile01.com/topicdetail.php?f=569&amp;t=6102618\n",
      "遠傳吃到飽319不降速電銷方案\n",
      "https://www.mobile01.com/topicdetail.php?f=18&amp;t=6008764\n",
      "20200526 CN~ Redmi 10X/Pro 系列 / 電視 , 筆電~ 直播線上發佈會(PM 14:00) ...\n",
      "https://www.mobile01.com/topicdetail.php?f=634&amp;t=6101932\n",
      "Redmi Note 9 Pro 沒人關注這支手機嗎??\n",
      "https://www.mobile01.com/topicdetail.php?f=634&amp;t=6101459\n",
      "求解:亞太電信有什麼優勢能在5G初期拚[穩定網路涵蓋]?\n",
      "https://www.mobile01.com/topicdetail.php?f=18&amp;t=6084039\n",
      "Note10 lite 裝玻璃貼指紋登入問題\n",
      "https://www.mobile01.com/topicdetail.php?f=568&amp;t=6038911\n",
      "台星U25直播99不限速吃到飽開箱！！\n",
      "https://www.mobile01.com/topicdetail.php?f=18&amp;t=6102073\n",
      "五大電信商 5G卡位戰開打\n",
      "https://www.mobile01.com/topicdetail.php?f=18&amp;t=6099145\n",
      "華米 stratos 3心率偵測問題\n",
      "https://www.mobile01.com/topicdetail.php?f=738&amp;t=6099472\n",
      "手機不裝防毒軟體真的沒問題? 當LG Q6 遇上  趨勢科技\n",
      "https://www.mobile01.com/topicdetail.php?f=581&amp;t=6102339\n",
      "Sony Xperia 1 II終於要上市了！ 台灣6/4發表 明起粉絲可報名體驗活動\n",
      "https://www.mobile01.com/topicdetail.php?f=569&amp;t=6101996\n",
      "小米9現在要去哪裡買?\n",
      "https://www.mobile01.com/topicdetail.php?f=634&amp;t=6102619\n",
      "Nokia 7 Plus搖晃機身有異音是正常的嗎?\n",
      "https://www.mobile01.com/topicdetail.php?f=742&amp;t=6100687\n",
      "Amazfit米動手錶青春版 使用與錶盤配置交流\n",
      "https://www.mobile01.com/topicdetail.php?f=634&amp;t=5315274\n"
     ]
    }
   ],
   "source": [
    "#coding:utf-8\n",
    "\n",
    "import urllib.request\n",
    "\n",
    "if __name__ == '__main__':\n",
    "    uri = \"https://www.mobile01.com/forumtopic.php?c=16&p=1\"\n",
    "    req = urllib.request.Request(\n",
    "        uri, \n",
    "        data=None, \n",
    "        headers={ #告訴server 我是瀏覽器\n",
    "            'User-Agent': 'Mozilla/5.0 (Macintosh; Intel Mac OS X 10_9_3) AppleWebKit/537.36 (KHTML, like Gecko) Chrome/35.0.1916.47 Safari/537.36'\n",
    "        }\n",
    "    )\n",
    "    handle = urllib.request.urlopen(req)\n",
    "    encoding = handle.headers.get_content_charset()\n",
    "    html_data =  handle.read().decode(encoding)\n",
    "    for a in html_data.split('c-listTableTd__title\">')[1:]:\n",
    "        link = 'https://www.mobile01.com/'+a.split('href=\"')[1].split('\"')[0]\n",
    "        title = a.split('c-link u-ellipsis\" >')[1].split('</')[0]\n",
    "        print(title)\n",
    "        print(link)"
   ]
  }
 ],
 "metadata": {
  "anaconda-cloud": {},
  "kernelspec": {
   "display_name": "Python 3",
   "language": "python",
   "name": "python3"
  },
  "language_info": {
   "codemirror_mode": {
    "name": "ipython",
    "version": 3
   },
   "file_extension": ".py",
   "mimetype": "text/x-python",
   "name": "python",
   "nbconvert_exporter": "python",
   "pygments_lexer": "ipython3",
   "version": "3.7.3"
  }
 },
 "nbformat": 4,
 "nbformat_minor": 2
}
