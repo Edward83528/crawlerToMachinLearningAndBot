{
 "cells": [
  {
   "cell_type": "markdown",
   "metadata": {},
   "source": [
    "# urllib - split - Mobile01 多頁 - 輸出JSON檔案"
   ]
  },
  {
   "cell_type": "code",
   "execution_count": 1,
   "metadata": {},
   "outputs": [
    {
     "name": "stdout",
     "output_type": "stream",
     "text": [
      "https://www.mobile01.com/forumtopic.php?c=16&p=1\n",
      "https://www.mobile01.com/forumtopic.php?c=16&p=2\n",
      "https://www.mobile01.com/forumtopic.php?c=16&p=3\n",
      "https://www.mobile01.com/forumtopic.php?c=16&p=4\n",
      "https://www.mobile01.com/forumtopic.php?c=16&p=5\n",
      "Done\n"
     ]
    }
   ],
   "source": [
    "#coding:utf-8\n",
    "#65001\n",
    "import urllib.request\n",
    "import json\n",
    "import codecs\n",
    "\n",
    "def start_requests():\n",
    "    urls = []\n",
    "    for i in range(1,6):\n",
    "        str_idx = ''+('%s' % i)\n",
    "        urls.append('https://www.mobile01.com/forumtopic.php?c=16&p='+str_idx+'')\n",
    "\n",
    "    for url in urls:\n",
    "        print (url)\n",
    "        parseMobile01(url)\n",
    "\n",
    "def parseMobile01(uri):\n",
    "    req = urllib.request.Request(\n",
    "        uri, \n",
    "        data=None, \n",
    "        headers={\n",
    "            'User-Agent': 'Mozilla/5.0 (Macintosh; Intel Mac OS X 10_9_3) AppleWebKit/537.36 (KHTML, like Gecko) Chrome/35.0.1916.47 Safari/537.36'\n",
    "        }\n",
    "    )\n",
    "    handle = urllib.request.urlopen(req)\n",
    "    encoding = handle.headers.get_content_charset()\n",
    "    html_data =  handle.read().decode(encoding)\n",
    "    title = ''\n",
    "    link = ''\n",
    "    items = []\n",
    "    for a in html_data.split('l-listTable__td\">')[1:]:\n",
    "        if 'o-hashtag is-mini is-default' in a:\n",
    "            # 公告\n",
    "            link = 'https://www.mobile01.com/'+a.split('href=\"')[1].split('\"')[0]\n",
    "            title = a.split('c-link u-ellipsis\" >')[1].split('</')[0]\n",
    "        if 'o-hashtag is-mini is-heightLight' in a:\n",
    "            # 置頂文\n",
    "            link = 'https://www.mobile01.com/'+a.split('href=\"')[1].split('\"')[0]\n",
    "            title = a.split('c-link u-ellipsis\" >')[1].split('</')[0]\n",
    "        elif 'l-listTable__tbody' not in a:\n",
    "            # 非置頂文, 中間有發現標頭的部分不處理\n",
    "            link = 'https://www.mobile01.com/'+a.split('href=\"')[1].split('\"')[0]\n",
    "            title = a.split('c-link u-ellipsis\" >')[1].split('</')[0]\n",
    "        if len(title)>0 and len(link)>0:\n",
    "            items.append([title, link])\n",
    "    row_json = json.dumps(dict(items), ensure_ascii=False)\n",
    "    file = codecs.open('out.json', 'w', encoding='utf-8')\n",
    "    file.write(row_json)\n",
    "    file.close()\n",
    "\n",
    "if __name__ == '__main__':\n",
    "    start_requests();\n",
    "    print(\"Done\")"
   ]
  }
 ],
 "metadata": {
  "anaconda-cloud": {},
  "kernelspec": {
   "display_name": "Python 3",
   "language": "python",
   "name": "python3"
  },
  "language_info": {
   "codemirror_mode": {
    "name": "ipython",
    "version": 3
   },
   "file_extension": ".py",
   "mimetype": "text/x-python",
   "name": "python",
   "nbconvert_exporter": "python",
   "pygments_lexer": "ipython3",
   "version": "3.6.7"
  }
 },
 "nbformat": 4,
 "nbformat_minor": 1
}
