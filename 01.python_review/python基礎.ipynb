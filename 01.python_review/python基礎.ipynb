{
 "cells": [
  {
   "cell_type": "markdown",
   "metadata": {
    "colab_type": "text",
    "id": "ZHTjTPQfFG6W"
   },
   "source": [
    "# Conda, IPython, and Jupyter Notebooks"
   ]
  },
  {
   "cell_type": "markdown",
   "metadata": {
    "colab_type": "text",
    "id": "bhhNsr6WFG6X"
   },
   "source": [
    "<a id=\"ipython\"></a>\n",
    "\n",
    "### Python 是什麼？\n",
    "\n",
    "Python 是一套功能強大、直譯式(透過Interpreter直譯器)並且物件導向的程式語言，這個程式語言有幾項特點：\n",
    "\n",
    "- 容易撰寫\n",
    "\n",
    "Python 具有物件導向(Object Oriented)的特性，但也可以不用物件導向的方式撰寫。撇開物件導向不談，Python 通常可以靠比較短的程式碼完成比較多的功能，或者可以寫得比較直覺易懂。\n",
    "\n",
    "- 功能強大\n",
    "\n",
    "Python 自 1990 年由 Guido van Rossum 在荷蘭的 CWI 開始發展以來，從 0.9 進步到今天的 3.7，不但累積了相當完整的標準程式庫 (模組)，更有大量的統計、數學、演算法模組可安裝，且絕大部分都是開放原始碼的。單以內建的模組來講，從簡單的數學運算、字串處理、網際網路連線(爬蟲)、各種壓縮格式功能等等，範圍非常地廣泛。\n",
    "\n",
    "- 跨平台\n",
    "\n",
    "各種主要的作業系統都支援 Python。Python 程式不需要修改，便可以同時在 Linux 、MacOS 與 Windows 平台上執行，同時也支援雲端 Web 介面(Jupyter Notebook) 直接執行。\n",
    "\n",
    "- 容易擴充\n",
    "\n",
    "Python 算是執行效率不錯的直譯式語言，但畢竟比不上 C 和 C++。 不過 Python 也可以整合其他程式語言，藉由呼叫 C/C++ 或 Java 撰寫 hub 樞紐的前導程式，這些模組的使用方式，與內建模組以及用 Python 撰寫的模組完全一樣，整合的方法並不困難。\n",
    "\n",
    "#### 在MacOS上安裝Anaconda\n",
    "- [參考MacOS上安裝Anaconda (Python 3.6) 的影片 ](https://www.youtube.com/watch?v=OUnQqlSIn3k)\n",
    "- [參考Windows上安裝Anaconda (Python 3.6) 的影片](https://www.youtube.com/watch?v=T8wK5loXkXg)\n",
    "\n",
    "#### Python command-line interpreter\n",
    "\n",
    "To open the Python interpreter, go to your terminal and type:\n",
    "\n",
    "```\n",
    "python\n",
    "```\n",
    "\n",
    "#### IPython command-line interpreter\n",
    "\n",
    "To open the IPython interpreter, go to your terminal and type:\n",
    "\n",
    "```\n",
    "ipython\n",
    "```\n",
    "\n",
    "#### Jupyter (IPython) notebooks\n",
    "\n",
    "For macOS and Linux users, to launch a Jupyter notebook, open Terminal and type:\n",
    "\n",
    "```\n",
    "jupyter notebook\n",
    "```\n",
    "\n",
    "For Windows users, to launch a Jupyter notebook, open Anaconda Prompt and type:\n",
    "\n",
    "```\n",
    "jupyter notebook\n",
    "```"
   ]
  },
  {
   "cell_type": "markdown",
   "metadata": {
    "colab_type": "text",
    "id": "yKLgYHTWFG6Y"
   },
   "source": [
    "<a id=\"syntax\"></a>\n",
    "\n",
    "## Python Hands-On\n",
    "\n",
    "In this tutorial we will cover some basic aspects of Python using IPython (Jupyter) notebooks. \n",
    "\n",
    "1. Syntax\n",
    "2. Data types\n",
    "3. Loops and control structures\n",
    "4. numpy, scipy, math"
   ]
  },
  {
   "cell_type": "code",
   "execution_count": 1,
   "metadata": {
    "colab": {
     "base_uri": "https://localhost:8080/",
     "height": 17
    },
    "colab_type": "code",
    "executionInfo": {
     "elapsed": 1578,
     "status": "ok",
     "timestamp": 1590548577046,
     "user": {
      "displayName": "張仲威",
      "photoUrl": "",
      "userId": "14727305247088321457"
     },
     "user_tz": -480
    },
    "id": "L6U3r4UoFG6Z",
    "outputId": "4bd2be46-76ec-4f6d-d087-27e130cd09e2"
   },
   "outputs": [
    {
     "data": {
      "text/html": [
       "<style>\n",
       "table {float:left}\n",
       "</style>\n"
      ],
      "text/plain": [
       "<IPython.core.display.HTML object>"
      ]
     },
     "metadata": {},
     "output_type": "display_data"
    }
   ],
   "source": [
    "%%html\n",
    "<style>\n",
    "table {float:left}\n",
    "</style>"
   ]
  },
  {
   "cell_type": "markdown",
   "metadata": {
    "colab_type": "text",
    "id": "uzw0AApXFG6e"
   },
   "source": [
    "| Operator | Name            | Example |\n",
    "|:--------:|:---------------:|:-------:|\n",
    "| +        | Addition        | a + b   |\n",
    "| -        | Subtraction     | a - b   |\n",
    "| *        | Multiplication  | a * b   |\n",
    "| /        | Division        | a / b   |\n",
    "| %        | Modulus         | a % b   |\n",
    "| **       | Exponentiation  | a ** b  |\n",
    "| //       | Floor division  | a // b  |\n",
    "| =        | Assign variable | a = b   |\n",
    "| ==       | Equals to       | a == b  |"
   ]
  },
  {
   "cell_type": "markdown",
   "metadata": {
    "colab_type": "text",
    "id": "iT7yZy62FG6f"
   },
   "source": [
    "### Syntax"
   ]
  },
  {
   "cell_type": "code",
   "execution_count": 2,
   "metadata": {
    "colab": {},
    "colab_type": "code",
    "id": "Rnw628RjFG6g"
   },
   "outputs": [],
   "source": [
    "# comment out 註解掉一行命令"
   ]
  },
  {
   "cell_type": "code",
   "execution_count": 3,
   "metadata": {
    "colab": {
     "base_uri": "https://localhost:8080/",
     "height": 34
    },
    "colab_type": "code",
    "executionInfo": {
     "elapsed": 1557,
     "status": "ok",
     "timestamp": 1590548577048,
     "user": {
      "displayName": "張仲威",
      "photoUrl": "",
      "userId": "14727305247088321457"
     },
     "user_tz": -480
    },
    "id": "40xJ3VWoFG6k",
    "outputId": "3f0df678-a04e-4323-9747-0b56d3d5c945"
   },
   "outputs": [
    {
     "data": {
      "text/plain": [
       "1"
      ]
     },
     "execution_count": 3,
     "metadata": {},
     "output_type": "execute_result"
    }
   ],
   "source": [
    "'''\n",
    "註解寫成了文章了\n",
    "還可以換行喔! 下面一行 1 是測試用的啦~\n",
    "'''\n",
    "1"
   ]
  },
  {
   "cell_type": "code",
   "execution_count": 4,
   "metadata": {
    "colab": {
     "base_uri": "https://localhost:8080/",
     "height": 34
    },
    "colab_type": "code",
    "executionInfo": {
     "elapsed": 751,
     "status": "ok",
     "timestamp": 1590548577049,
     "user": {
      "displayName": "張仲威",
      "photoUrl": "",
      "userId": "14727305247088321457"
     },
     "user_tz": -480
    },
    "id": "Y2QIxoE2FG6n",
    "outputId": "1b4e8379-c6b2-4861-9b65-73c2a6d3ef96"
   },
   "outputs": [
    {
     "data": {
      "text/plain": [
       "3"
      ]
     },
     "execution_count": 4,
     "metadata": {},
     "output_type": "execute_result"
    }
   ],
   "source": [
    "1 + 2"
   ]
  },
  {
   "cell_type": "code",
   "execution_count": 5,
   "metadata": {
    "colab": {
     "base_uri": "https://localhost:8080/",
     "height": 34
    },
    "colab_type": "code",
    "executionInfo": {
     "elapsed": 893,
     "status": "ok",
     "timestamp": 1590548577504,
     "user": {
      "displayName": "張仲威",
      "photoUrl": "",
      "userId": "14727305247088321457"
     },
     "user_tz": -480
    },
    "id": "Gnc9Mcc6FG6s",
    "outputId": "7e2b3aaa-4911-4bbe-a1ea-c69746e7406e"
   },
   "outputs": [
    {
     "data": {
      "text/plain": [
       "10"
      ]
     },
     "execution_count": 5,
     "metadata": {},
     "output_type": "execute_result"
    }
   ],
   "source": [
    "x = 2 # 將等號右邊的值，assign給等號左邊的變數 (variable)\n",
    "y = 5\n",
    "x * y"
   ]
  },
  {
   "cell_type": "code",
   "execution_count": 6,
   "metadata": {
    "colab": {
     "base_uri": "https://localhost:8080/",
     "height": 34
    },
    "colab_type": "code",
    "executionInfo": {
     "elapsed": 609,
     "status": "ok",
     "timestamp": 1590548577847,
     "user": {
      "displayName": "張仲威",
      "photoUrl": "",
      "userId": "14727305247088321457"
     },
     "user_tz": -480
    },
    "id": "--6Qw0bgFG6w",
    "outputId": "d89aaee3-136b-4914-f2a4-5dd546fb89aa"
   },
   "outputs": [
    {
     "data": {
      "text/plain": [
       "32"
      ]
     },
     "execution_count": 6,
     "metadata": {},
     "output_type": "execute_result"
    }
   ],
   "source": [
    "x ** y"
   ]
  },
  {
   "cell_type": "markdown",
   "metadata": {
    "colab_type": "text",
    "id": "iLkUzPGWFG60"
   },
   "source": [
    "$ x^y $"
   ]
  },
  {
   "cell_type": "code",
   "execution_count": 7,
   "metadata": {
    "colab": {
     "base_uri": "https://localhost:8080/",
     "height": 34
    },
    "colab_type": "code",
    "executionInfo": {
     "elapsed": 718,
     "status": "ok",
     "timestamp": 1590548578250,
     "user": {
      "displayName": "張仲威",
      "photoUrl": "",
      "userId": "14727305247088321457"
     },
     "user_tz": -480
    },
    "id": "2H49T2uAFG61",
    "outputId": "25533def-4938-4532-fa08-584047b065ed"
   },
   "outputs": [
    {
     "data": {
      "text/plain": [
       "0"
      ]
     },
     "execution_count": 7,
     "metadata": {},
     "output_type": "execute_result"
    }
   ],
   "source": [
    "# Floor Division則是直接忽略小數點以後的所有數字\n",
    "x // y"
   ]
  },
  {
   "cell_type": "markdown",
   "metadata": {
    "colab_type": "text",
    "id": "93WCNfPtFG64"
   },
   "source": [
    "### Data Types"
   ]
  },
  {
   "cell_type": "markdown",
   "metadata": {
    "colab_type": "text",
    "id": "hdY_43uGFG64"
   },
   "source": [
    "#### Integer"
   ]
  },
  {
   "cell_type": "code",
   "execution_count": 8,
   "metadata": {
    "colab": {
     "base_uri": "https://localhost:8080/",
     "height": 34
    },
    "colab_type": "code",
    "executionInfo": {
     "elapsed": 1090,
     "status": "ok",
     "timestamp": 1590548579081,
     "user": {
      "displayName": "張仲威",
      "photoUrl": "",
      "userId": "14727305247088321457"
     },
     "user_tz": -480
    },
    "id": "GSBIFXAEFG65",
    "outputId": "e7c495b1-6ec2-4a3a-d1a5-4abc85b02c76"
   },
   "outputs": [
    {
     "data": {
      "text/plain": [
       "int"
      ]
     },
     "execution_count": 8,
     "metadata": {},
     "output_type": "execute_result"
    }
   ],
   "source": [
    "a = 8\n",
    "type(8)"
   ]
  },
  {
   "cell_type": "code",
   "execution_count": 9,
   "metadata": {
    "colab": {
     "base_uri": "https://localhost:8080/",
     "height": 34
    },
    "colab_type": "code",
    "executionInfo": {
     "elapsed": 1004,
     "status": "ok",
     "timestamp": 1590548579554,
     "user": {
      "displayName": "張仲威",
      "photoUrl": "",
      "userId": "14727305247088321457"
     },
     "user_tz": -480
    },
    "id": "JoflmloUFG68",
    "outputId": "8b3b3e08-039e-4d2f-87d4-906abaf4a441"
   },
   "outputs": [
    {
     "data": {
      "text/plain": [
       "15"
      ]
     },
     "execution_count": 9,
     "metadata": {},
     "output_type": "execute_result"
    }
   ],
   "source": [
    "b = 7\n",
    "c = a + b\n",
    "c"
   ]
  },
  {
   "cell_type": "code",
   "execution_count": 10,
   "metadata": {
    "colab": {
     "base_uri": "https://localhost:8080/",
     "height": 34
    },
    "colab_type": "code",
    "executionInfo": {
     "elapsed": 708,
     "status": "ok",
     "timestamp": 1590548579556,
     "user": {
      "displayName": "張仲威",
      "photoUrl": "",
      "userId": "14727305247088321457"
     },
     "user_tz": -480
    },
    "id": "a2eS1V6LFG7A",
    "outputId": "b6c9ed0f-1f2f-4399-dc11-ff697045e329"
   },
   "outputs": [
    {
     "data": {
      "text/plain": [
       "int"
      ]
     },
     "execution_count": 10,
     "metadata": {},
     "output_type": "execute_result"
    }
   ],
   "source": [
    "type(c)"
   ]
  },
  {
   "cell_type": "code",
   "execution_count": 11,
   "metadata": {
    "colab": {
     "base_uri": "https://localhost:8080/",
     "height": 34
    },
    "colab_type": "code",
    "executionInfo": {
     "elapsed": 1271,
     "status": "ok",
     "timestamp": 1590548580440,
     "user": {
      "displayName": "張仲威",
      "photoUrl": "",
      "userId": "14727305247088321457"
     },
     "user_tz": -480
    },
    "id": "VpCnwTC5FG7E",
    "outputId": "f6a5988b-6079-41f1-8b1f-c8b3524c8d40"
   },
   "outputs": [
    {
     "data": {
      "text/plain": [
       "'15'"
      ]
     },
     "execution_count": 11,
     "metadata": {},
     "output_type": "execute_result"
    }
   ],
   "source": [
    "# Convert Integer to String\n",
    "d = str(c)\n",
    "d"
   ]
  },
  {
   "cell_type": "code",
   "execution_count": 12,
   "metadata": {
    "colab": {
     "base_uri": "https://localhost:8080/",
     "height": 34
    },
    "colab_type": "code",
    "executionInfo": {
     "elapsed": 834,
     "status": "ok",
     "timestamp": 1590548580441,
     "user": {
      "displayName": "張仲威",
      "photoUrl": "",
      "userId": "14727305247088321457"
     },
     "user_tz": -480
    },
    "id": "tj3x6-2pFG7H",
    "outputId": "ecb0dd29-8594-4aab-b8ed-dd004e4defd7"
   },
   "outputs": [
    {
     "data": {
      "text/plain": [
       "str"
      ]
     },
     "execution_count": 12,
     "metadata": {},
     "output_type": "execute_result"
    }
   ],
   "source": [
    "type(d)"
   ]
  },
  {
   "cell_type": "code",
   "execution_count": 13,
   "metadata": {
    "colab": {
     "base_uri": "https://localhost:8080/",
     "height": 34
    },
    "colab_type": "code",
    "executionInfo": {
     "elapsed": 1037,
     "status": "ok",
     "timestamp": 1590548580883,
     "user": {
      "displayName": "張仲威",
      "photoUrl": "",
      "userId": "14727305247088321457"
     },
     "user_tz": -480
    },
    "id": "c9UgKK-NFG7J",
    "outputId": "a090afa7-9277-4cc5-9197-3d66c21ff83b"
   },
   "outputs": [
    {
     "data": {
      "text/plain": [
       "15"
      ]
     },
     "execution_count": 13,
     "metadata": {},
     "output_type": "execute_result"
    }
   ],
   "source": [
    "e = int(d)\n",
    "e"
   ]
  },
  {
   "cell_type": "code",
   "execution_count": 14,
   "metadata": {
    "colab": {
     "base_uri": "https://localhost:8080/",
     "height": 34
    },
    "colab_type": "code",
    "executionInfo": {
     "elapsed": 655,
     "status": "ok",
     "timestamp": 1590548580885,
     "user": {
      "displayName": "張仲威",
      "photoUrl": "",
      "userId": "14727305247088321457"
     },
     "user_tz": -480
    },
    "id": "TQSs56SbFG7N",
    "outputId": "d596a075-63fb-412b-a4b0-d79bf010b4c0"
   },
   "outputs": [
    {
     "data": {
      "text/plain": [
       "int"
      ]
     },
     "execution_count": 14,
     "metadata": {},
     "output_type": "execute_result"
    }
   ],
   "source": [
    "type(e)"
   ]
  },
  {
   "cell_type": "code",
   "execution_count": 15,
   "metadata": {
    "colab": {},
    "colab_type": "code",
    "id": "B7jtPPtyFG7T"
   },
   "outputs": [],
   "source": [
    "# Error handling\n",
    "try:\n",
    "    f = \"1a2b\"\n",
    "    g = int(f)  \n",
    "except Exception as e:\n",
    "    pass"
   ]
  },
  {
   "cell_type": "markdown",
   "metadata": {
    "colab_type": "text",
    "id": "K1Lp3op5FG7X"
   },
   "source": [
    "#### Booleans\n",
    "\n",
    "'True' and 'False' have special meaning in Python."
   ]
  },
  {
   "cell_type": "code",
   "execution_count": 16,
   "metadata": {
    "colab": {},
    "colab_type": "code",
    "id": "8MbgrwcMFG7Y"
   },
   "outputs": [],
   "source": [
    "a = True\n",
    "b = False"
   ]
  },
  {
   "cell_type": "code",
   "execution_count": 17,
   "metadata": {
    "colab": {
     "base_uri": "https://localhost:8080/",
     "height": 34
    },
    "colab_type": "code",
    "executionInfo": {
     "elapsed": 779,
     "status": "ok",
     "timestamp": 1590548956865,
     "user": {
      "displayName": "張仲威",
      "photoUrl": "",
      "userId": "14727305247088321457"
     },
     "user_tz": -480
    },
    "id": "kqQNY37iFG7a",
    "outputId": "10cc3676-275e-4b72-a4a5-b701792d079b"
   },
   "outputs": [
    {
     "data": {
      "text/plain": [
       "True"
      ]
     },
     "execution_count": 17,
     "metadata": {},
     "output_type": "execute_result"
    }
   ],
   "source": [
    "# 輸出 a 是否等於 True的寫法，有兩個等號，是表格中的operator(運算子)\n",
    "a == True"
   ]
  },
  {
   "cell_type": "code",
   "execution_count": 18,
   "metadata": {
    "colab": {
     "base_uri": "https://localhost:8080/",
     "height": 34
    },
    "colab_type": "code",
    "executionInfo": {
     "elapsed": 582,
     "status": "ok",
     "timestamp": 1590548582805,
     "user": {
      "displayName": "張仲威",
      "photoUrl": "",
      "userId": "14727305247088321457"
     },
     "user_tz": -480
    },
    "id": "gj6Xcl3OFG7d",
    "outputId": "0b8c3a75-50af-4bbf-8955-43b667a7e16f"
   },
   "outputs": [
    {
     "data": {
      "text/plain": [
       "False"
      ]
     },
     "execution_count": 18,
     "metadata": {},
     "output_type": "execute_result"
    }
   ],
   "source": [
    "b == True  # 母丟喔"
   ]
  },
  {
   "cell_type": "code",
   "execution_count": 19,
   "metadata": {
    "colab": {
     "base_uri": "https://localhost:8080/",
     "height": 34
    },
    "colab_type": "code",
    "executionInfo": {
     "elapsed": 825,
     "status": "ok",
     "timestamp": 1590548583380,
     "user": {
      "displayName": "張仲威",
      "photoUrl": "",
      "userId": "14727305247088321457"
     },
     "user_tz": -480
    },
    "id": "3_sOsySWFG7f",
    "outputId": "9128798a-2edc-43e1-8fa7-f1575005eff1"
   },
   "outputs": [
    {
     "data": {
      "text/plain": [
       "True"
      ]
     },
     "execution_count": 19,
     "metadata": {},
     "output_type": "execute_result"
    }
   ],
   "source": [
    "a or b  # or 有一個是True就是True"
   ]
  },
  {
   "cell_type": "code",
   "execution_count": 20,
   "metadata": {
    "colab": {
     "base_uri": "https://localhost:8080/",
     "height": 34
    },
    "colab_type": "code",
    "executionInfo": {
     "elapsed": 908,
     "status": "ok",
     "timestamp": 1590548583858,
     "user": {
      "displayName": "張仲威",
      "photoUrl": "",
      "userId": "14727305247088321457"
     },
     "user_tz": -480
    },
    "id": "4bjJzg6GFG7i",
    "outputId": "6953b720-cd7e-4790-dd2d-83bb6a9dec90"
   },
   "outputs": [
    {
     "data": {
      "text/plain": [
       "True"
      ]
     },
     "execution_count": 20,
     "metadata": {},
     "output_type": "execute_result"
    }
   ],
   "source": [
    "b or a"
   ]
  },
  {
   "cell_type": "code",
   "execution_count": 21,
   "metadata": {
    "colab": {
     "base_uri": "https://localhost:8080/",
     "height": 34
    },
    "colab_type": "code",
    "executionInfo": {
     "elapsed": 818,
     "status": "ok",
     "timestamp": 1590548584187,
     "user": {
      "displayName": "張仲威",
      "photoUrl": "",
      "userId": "14727305247088321457"
     },
     "user_tz": -480
    },
    "id": "zv8EchV1FG7k",
    "outputId": "a6073a02-d3cd-42c6-d6ab-a9aa9387a468"
   },
   "outputs": [
    {
     "data": {
      "text/plain": [
       "False"
      ]
     },
     "execution_count": 21,
     "metadata": {},
     "output_type": "execute_result"
    }
   ],
   "source": [
    "a and b  # a 和 b 兩個都要是True才是True"
   ]
  },
  {
   "cell_type": "code",
   "execution_count": 22,
   "metadata": {
    "colab": {
     "base_uri": "https://localhost:8080/",
     "height": 34
    },
    "colab_type": "code",
    "executionInfo": {
     "elapsed": 732,
     "status": "ok",
     "timestamp": 1590548584468,
     "user": {
      "displayName": "張仲威",
      "photoUrl": "",
      "userId": "14727305247088321457"
     },
     "user_tz": -480
    },
    "id": "6GEQp8MhFG7m",
    "outputId": "ebd5221b-70a3-472b-c9a6-31f2bacc522d"
   },
   "outputs": [
    {
     "data": {
      "text/plain": [
       "False"
      ]
     },
     "execution_count": 22,
     "metadata": {},
     "output_type": "execute_result"
    }
   ],
   "source": [
    "b and a"
   ]
  },
  {
   "cell_type": "markdown",
   "metadata": {
    "colab_type": "text",
    "id": "MfqIAqX4FG7p"
   },
   "source": [
    "|  AND   |  True  |  False  |\n",
    "|:------:|:------:|:-------:|\n",
    "|  True  |  True  |  False  |\n",
    "|  False |  False |  False  |"
   ]
  },
  {
   "cell_type": "markdown",
   "metadata": {
    "colab_type": "text",
    "id": "REE7vYRWFG7q"
   },
   "source": [
    "|   OR   |  True  |  False  |\n",
    "|:------:|:------:|:-------:|\n",
    "|  True  |  True  |  True   |\n",
    "|  False |  True  |  False  |"
   ]
  },
  {
   "cell_type": "markdown",
   "metadata": {
    "colab_type": "text",
    "id": "Dp9dmbJZFG7q"
   },
   "source": [
    "#### Numbers: integers, floats and type\n",
    "\n",
    "Numbers are pretty straightforward, especially in Python 3."
   ]
  },
  {
   "cell_type": "code",
   "execution_count": 23,
   "metadata": {
    "colab": {
     "base_uri": "https://localhost:8080/",
     "height": 0
    },
    "colab_type": "code",
    "executionInfo": {
     "elapsed": 1025,
     "status": "ok",
     "timestamp": 1590548585016,
     "user": {
      "displayName": "張仲威",
      "photoUrl": "",
      "userId": "14727305247088321457"
     },
     "user_tz": -480
    },
    "id": "PSSka0KGFG7r",
    "outputId": "f61d5bf7-7087-455c-bef7-8cebf48e6347"
   },
   "outputs": [
    {
     "data": {
      "text/plain": [
       "3"
      ]
     },
     "execution_count": 23,
     "metadata": {},
     "output_type": "execute_result"
    }
   ],
   "source": [
    "1 + 2"
   ]
  },
  {
   "cell_type": "code",
   "execution_count": 24,
   "metadata": {
    "colab": {
     "base_uri": "https://localhost:8080/",
     "height": 0
    },
    "colab_type": "code",
    "executionInfo": {
     "elapsed": 1099,
     "status": "ok",
     "timestamp": 1590548585499,
     "user": {
      "displayName": "張仲威",
      "photoUrl": "",
      "userId": "14727305247088321457"
     },
     "user_tz": -480
    },
    "id": "hZjuOEpeFG7x",
    "outputId": "9486adc7-9f05-4f87-e2ee-04500eba0be4"
   },
   "outputs": [
    {
     "data": {
      "text/plain": [
       "3.0"
      ]
     },
     "execution_count": 24,
     "metadata": {},
     "output_type": "execute_result"
    }
   ],
   "source": [
    "1.0 + 2.0"
   ]
  },
  {
   "cell_type": "code",
   "execution_count": 25,
   "metadata": {
    "colab": {
     "base_uri": "https://localhost:8080/",
     "height": 0
    },
    "colab_type": "code",
    "executionInfo": {
     "elapsed": 813,
     "status": "ok",
     "timestamp": 1590548585839,
     "user": {
      "displayName": "張仲威",
      "photoUrl": "",
      "userId": "14727305247088321457"
     },
     "user_tz": -480
    },
    "id": "CKakcFDMFG71",
    "outputId": "2ad694ec-1cff-48f4-e90f-78beebf78d8a"
   },
   "outputs": [
    {
     "data": {
      "text/plain": [
       "0.5"
      ]
     },
     "execution_count": 25,
     "metadata": {},
     "output_type": "execute_result"
    }
   ],
   "source": [
    "1 / 2"
   ]
  },
  {
   "cell_type": "code",
   "execution_count": 26,
   "metadata": {
    "colab": {
     "base_uri": "https://localhost:8080/",
     "height": 0
    },
    "colab_type": "code",
    "executionInfo": {
     "elapsed": 889,
     "status": "ok",
     "timestamp": 1590548586192,
     "user": {
      "displayName": "張仲威",
      "photoUrl": "",
      "userId": "14727305247088321457"
     },
     "user_tz": -480
    },
    "id": "T3KKtiE-FG73",
    "outputId": "add0bd88-6714-4676-c64a-494692380e00"
   },
   "outputs": [
    {
     "data": {
      "text/plain": [
       "0.5"
      ]
     },
     "execution_count": 26,
     "metadata": {},
     "output_type": "execute_result"
    }
   ],
   "source": [
    "1.0 / 2.0"
   ]
  },
  {
   "cell_type": "code",
   "execution_count": 27,
   "metadata": {
    "colab": {
     "base_uri": "https://localhost:8080/",
     "height": 0
    },
    "colab_type": "code",
    "executionInfo": {
     "elapsed": 927,
     "status": "ok",
     "timestamp": 1590548586666,
     "user": {
      "displayName": "張仲威",
      "photoUrl": "",
      "userId": "14727305247088321457"
     },
     "user_tz": -480
    },
    "id": "c-TNC5mvFG76",
    "outputId": "f8b50286-841c-435f-ca34-08c67f1ecc81"
   },
   "outputs": [
    {
     "data": {
      "text/plain": [
       "int"
      ]
     },
     "execution_count": 27,
     "metadata": {},
     "output_type": "execute_result"
    }
   ],
   "source": [
    "type(1)"
   ]
  },
  {
   "cell_type": "code",
   "execution_count": 28,
   "metadata": {
    "colab": {
     "base_uri": "https://localhost:8080/",
     "height": 0
    },
    "colab_type": "code",
    "executionInfo": {
     "elapsed": 1101,
     "status": "ok",
     "timestamp": 1590548587128,
     "user": {
      "displayName": "張仲威",
      "photoUrl": "",
      "userId": "14727305247088321457"
     },
     "user_tz": -480
    },
    "id": "GIq7y-x5FG7-",
    "outputId": "6078abce-6647-4585-fc02-4f9de734f2f1"
   },
   "outputs": [
    {
     "data": {
      "text/plain": [
       "float"
      ]
     },
     "execution_count": 28,
     "metadata": {},
     "output_type": "execute_result"
    }
   ],
   "source": [
    "type(1/2)"
   ]
  },
  {
   "cell_type": "code",
   "execution_count": 29,
   "metadata": {
    "colab": {
     "base_uri": "https://localhost:8080/",
     "height": 0
    },
    "colab_type": "code",
    "executionInfo": {
     "elapsed": 849,
     "status": "ok",
     "timestamp": 1590548587521,
     "user": {
      "displayName": "張仲威",
      "photoUrl": "",
      "userId": "14727305247088321457"
     },
     "user_tz": -480
    },
    "id": "u3h5LCAKFG8B",
    "outputId": "286897d4-6e1d-42d3-b335-c474c86013db"
   },
   "outputs": [
    {
     "data": {
      "text/plain": [
       "str"
      ]
     },
     "execution_count": 29,
     "metadata": {},
     "output_type": "execute_result"
    }
   ],
   "source": [
    "type(\"字串\")"
   ]
  },
  {
   "cell_type": "markdown",
   "metadata": {
    "colab_type": "text",
    "id": "EEcLTq1qFG8E"
   },
   "source": [
    "#### Strings\n",
    "\n",
    "The next four data types -- strings, lists, tuples, arrays -- are all sequences.\n",
    "\n",
    "Strings are sequences of characters."
   ]
  },
  {
   "cell_type": "code",
   "execution_count": 30,
   "metadata": {
    "colab": {},
    "colab_type": "code",
    "id": "sephsNTyFG8E"
   },
   "outputs": [],
   "source": [
    "s1 = '嗨!'"
   ]
  },
  {
   "cell_type": "code",
   "execution_count": 31,
   "metadata": {
    "colab": {
     "base_uri": "https://localhost:8080/",
     "height": 0
    },
    "colab_type": "code",
    "executionInfo": {
     "elapsed": 1341,
     "status": "ok",
     "timestamp": 1590548588701,
     "user": {
      "displayName": "張仲威",
      "photoUrl": "",
      "userId": "14727305247088321457"
     },
     "user_tz": -480
    },
    "id": "oxCBKZCBFG8H",
    "outputId": "c3fa5319-7f51-45b2-b686-4a9ca12d4993"
   },
   "outputs": [
    {
     "data": {
      "text/plain": [
       "2"
      ]
     },
     "execution_count": 31,
     "metadata": {},
     "output_type": "execute_result"
    }
   ],
   "source": [
    "# len 函數，計算字串中有幾個字元，包含標點符號，中文字一個算是1個字元\n",
    "len(s1)"
   ]
  },
  {
   "cell_type": "code",
   "execution_count": 32,
   "metadata": {
    "colab": {},
    "colab_type": "code",
    "id": "df37CBogFG8J"
   },
   "outputs": [],
   "source": [
    "s2 = '大衛!'"
   ]
  },
  {
   "cell_type": "code",
   "execution_count": 33,
   "metadata": {
    "colab": {
     "base_uri": "https://localhost:8080/",
     "height": 0
    },
    "colab_type": "code",
    "executionInfo": {
     "elapsed": 543,
     "status": "ok",
     "timestamp": 1590548588702,
     "user": {
      "displayName": "張仲威",
      "photoUrl": "",
      "userId": "14727305247088321457"
     },
     "user_tz": -480
    },
    "id": "13Uh2HUQFG8L",
    "outputId": "a8cd766c-f6b5-49de-a984-a4ef5a23d763"
   },
   "outputs": [
    {
     "data": {
      "text/plain": [
       "'嗨!大衛!'"
      ]
     },
     "execution_count": 33,
     "metadata": {},
     "output_type": "execute_result"
    }
   ],
   "source": [
    "# 以 + operator 連接(concatenate)兩個字串\n",
    "s3 = s1 + s2\n",
    "s3"
   ]
  },
  {
   "cell_type": "code",
   "execution_count": 34,
   "metadata": {
    "colab": {
     "base_uri": "https://localhost:8080/",
     "height": 0
    },
    "colab_type": "code",
    "executionInfo": {
     "elapsed": 708,
     "status": "ok",
     "timestamp": 1590548589143,
     "user": {
      "displayName": "張仲威",
      "photoUrl": "",
      "userId": "14727305247088321457"
     },
     "user_tz": -480
    },
    "id": "vwpv2IAhFG8O",
    "outputId": "133fcc7a-1aab-4444-f1c3-6b4881d77217"
   },
   "outputs": [
    {
     "data": {
      "text/plain": [
       "5"
      ]
     },
     "execution_count": 34,
     "metadata": {},
     "output_type": "execute_result"
    }
   ],
   "source": [
    "len(s3)"
   ]
  },
  {
   "cell_type": "code",
   "execution_count": 35,
   "metadata": {
    "colab": {
     "base_uri": "https://localhost:8080/",
     "height": 0
    },
    "colab_type": "code",
    "executionInfo": {
     "elapsed": 776,
     "status": "ok",
     "timestamp": 1590548589466,
     "user": {
      "displayName": "張仲威",
      "photoUrl": "",
      "userId": "14727305247088321457"
     },
     "user_tz": -480
    },
    "id": "6_JeSQ77FG8R",
    "outputId": "6d7ee989-ca7a-4fb2-a059-c5ca5ed9130c"
   },
   "outputs": [
    {
     "data": {
      "text/plain": [
       "'嗨'"
      ]
     },
     "execution_count": 35,
     "metadata": {},
     "output_type": "execute_result"
    }
   ],
   "source": [
    "# Python中的字串，屬於list的型別(稍晚介紹)一種，可以中括號[]來取出某幾個字\n",
    "s3[0:1]"
   ]
  },
  {
   "cell_type": "code",
   "execution_count": 36,
   "metadata": {
    "colab": {
     "base_uri": "https://localhost:8080/",
     "height": 0
    },
    "colab_type": "code",
    "executionInfo": {
     "elapsed": 765,
     "status": "ok",
     "timestamp": 1590548589862,
     "user": {
      "displayName": "張仲威",
      "photoUrl": "",
      "userId": "14727305247088321457"
     },
     "user_tz": -480
    },
    "id": "Zn9671pXFG8W",
    "outputId": "b2dca552-9b57-4cd6-95a0-04920a938847"
   },
   "outputs": [
    {
     "data": {
      "text/plain": [
       "'!'"
      ]
     },
     "execution_count": 36,
     "metadata": {},
     "output_type": "execute_result"
    }
   ],
   "source": [
    "s3[1:2]"
   ]
  },
  {
   "cell_type": "code",
   "execution_count": 37,
   "metadata": {
    "colab": {
     "base_uri": "https://localhost:8080/",
     "height": 0
    },
    "colab_type": "code",
    "executionInfo": {
     "elapsed": 942,
     "status": "ok",
     "timestamp": 1590548590270,
     "user": {
      "displayName": "張仲威",
      "photoUrl": "",
      "userId": "14727305247088321457"
     },
     "user_tz": -480
    },
    "id": "hgIOzmN_FG8c",
    "outputId": "06df2977-acac-478b-b3e5-d26a1a464ce4"
   },
   "outputs": [
    {
     "data": {
      "text/plain": [
       "'!大衛!'"
      ]
     },
     "execution_count": 37,
     "metadata": {},
     "output_type": "execute_result"
    }
   ],
   "source": [
    "s3[1:]"
   ]
  },
  {
   "cell_type": "code",
   "execution_count": 38,
   "metadata": {
    "colab": {
     "base_uri": "https://localhost:8080/",
     "height": 0
    },
    "colab_type": "code",
    "executionInfo": {
     "elapsed": 828,
     "status": "ok",
     "timestamp": 1590548590677,
     "user": {
      "displayName": "張仲威",
      "photoUrl": "",
      "userId": "14727305247088321457"
     },
     "user_tz": -480
    },
    "id": "CuuWClMwFG8f",
    "outputId": "74b991a8-19fd-454a-a5fd-1d80e95f152b"
   },
   "outputs": [
    {
     "data": {
      "text/plain": [
       "'嗨'"
      ]
     },
     "execution_count": 38,
     "metadata": {},
     "output_type": "execute_result"
    }
   ],
   "source": [
    "s3[:1]"
   ]
  },
  {
   "cell_type": "markdown",
   "metadata": {
    "colab_type": "text",
    "id": "lxN6sYn2FG8i"
   },
   "source": [
    "#### print"
   ]
  },
  {
   "cell_type": "code",
   "execution_count": 39,
   "metadata": {
    "colab": {
     "base_uri": "https://localhost:8080/",
     "height": 0
    },
    "colab_type": "code",
    "executionInfo": {
     "elapsed": 759,
     "status": "ok",
     "timestamp": 1590548591006,
     "user": {
      "displayName": "張仲威",
      "photoUrl": "",
      "userId": "14727305247088321457"
     },
     "user_tz": -480
    },
    "id": "gb8RH33EFG8i",
    "outputId": "d60565a2-dbf1-45c4-cf0f-2e8f3326a211"
   },
   "outputs": [
    {
     "name": "stdout",
     "output_type": "stream",
     "text": [
      "嗨! 單引號字串!\n"
     ]
    }
   ],
   "source": [
    "# print => 印出文字在 console\n",
    "print('嗨! 單引號字串!')"
   ]
  },
  {
   "cell_type": "code",
   "execution_count": 40,
   "metadata": {
    "colab": {
     "base_uri": "https://localhost:8080/",
     "height": 0
    },
    "colab_type": "code",
    "executionInfo": {
     "elapsed": 796,
     "status": "ok",
     "timestamp": 1590548591373,
     "user": {
      "displayName": "張仲威",
      "photoUrl": "",
      "userId": "14727305247088321457"
     },
     "user_tz": -480
    },
    "id": "7085j6RjFG8l",
    "outputId": "9df3f201-e945-4e64-886b-36707497de82"
   },
   "outputs": [
    {
     "name": "stdout",
     "output_type": "stream",
     "text": [
      "雙引號字串 與 單引號字串輸出效果一樣，注意空格也會忠實輸出!\n"
     ]
    }
   ],
   "source": [
    "print(\"雙引號字串 與 單引號字串輸出效果一樣，注意空格也會忠實輸出!\")"
   ]
  },
  {
   "cell_type": "code",
   "execution_count": 41,
   "metadata": {
    "colab": {
     "base_uri": "https://localhost:8080/",
     "height": 0
    },
    "colab_type": "code",
    "executionInfo": {
     "elapsed": 788,
     "status": "ok",
     "timestamp": 1590548591675,
     "user": {
      "displayName": "張仲威",
      "photoUrl": "",
      "userId": "14727305247088321457"
     },
     "user_tz": -480
    },
    "id": "ExVZoMO5FG8n",
    "outputId": "116543c6-621f-4c51-8833-672dc0d98185"
   },
   "outputs": [
    {
     "name": "stdout",
     "output_type": "stream",
     "text": [
      "嗨!大衛!\n"
     ]
    }
   ],
   "source": [
    "# 將剛才的 s3 變數的內容輸出在 console\n",
    "print(s3)"
   ]
  },
  {
   "cell_type": "markdown",
   "metadata": {
    "colab_type": "text",
    "id": "VyZ_BWZYFG8q"
   },
   "source": [
    "**Option 1: %-formatting** — Original Python syntax."
   ]
  },
  {
   "cell_type": "code",
   "execution_count": 42,
   "metadata": {
    "colab": {
     "base_uri": "https://localhost:8080/",
     "height": 0
    },
    "colab_type": "code",
    "executionInfo": {
     "elapsed": 598,
     "status": "ok",
     "timestamp": 1590548592038,
     "user": {
      "displayName": "張仲威",
      "photoUrl": "",
      "userId": "14727305247088321457"
     },
     "user_tz": -480
    },
    "id": "6hxPpzxAFG8q",
    "outputId": "3a4d6ce5-b6fd-411b-af39-f214f634c49f"
   },
   "outputs": [
    {
     "name": "stdout",
     "output_type": "stream",
     "text": [
      "天氣真好，嗨! 大衛!\n"
     ]
    }
   ],
   "source": [
    "# 使用 %s 作為變數，將要組成的變數利用 % (\"\") 來動態傳入變數\n",
    "s4 = \"天氣真好，%s %s\" % (s1, s2)\n",
    "print( s4 )"
   ]
  },
  {
   "cell_type": "markdown",
   "metadata": {
    "colab_type": "text",
    "id": "xTMORZyoFG8t"
   },
   "source": [
    "**Option 2: str.format()** – Introduced in Python 2.6."
   ]
  },
  {
   "cell_type": "code",
   "execution_count": 43,
   "metadata": {
    "colab": {
     "base_uri": "https://localhost:8080/",
     "height": 0
    },
    "colab_type": "code",
    "executionInfo": {
     "elapsed": 1018,
     "status": "ok",
     "timestamp": 1590548592875,
     "user": {
      "displayName": "張仲威",
      "photoUrl": "",
      "userId": "14727305247088321457"
     },
     "user_tz": -480
    },
    "id": "3r1BQyKnFG8u",
    "outputId": "b71bf8b6-33cd-41ce-f2af-4f710dabd8cc"
   },
   "outputs": [
    {
     "name": "stdout",
     "output_type": "stream",
     "text": [
      "天氣真好，嗨! 大衛! \n"
     ]
    }
   ],
   "source": [
    "s4 = \"天氣真好，{} {} \".format(s1, s2)\n",
    "print( s4 )"
   ]
  },
  {
   "cell_type": "markdown",
   "metadata": {
    "colab_type": "text",
    "id": "UzZm9521FG8w"
   },
   "source": [
    "#### Lists (串列)\n",
    "\n",
    "Lists are _mutable_ sequences of anything."
   ]
  },
  {
   "cell_type": "code",
   "execution_count": 44,
   "metadata": {
    "colab": {},
    "colab_type": "code",
    "id": "g_0ZY2tpFG8w"
   },
   "outputs": [],
   "source": [
    "lst = [1, 3, 5, 7, 9, 11, 13]"
   ]
  },
  {
   "cell_type": "code",
   "execution_count": 45,
   "metadata": {
    "colab": {
     "base_uri": "https://localhost:8080/",
     "height": 0
    },
    "colab_type": "code",
    "executionInfo": {
     "elapsed": 766,
     "status": "ok",
     "timestamp": 1590548593268,
     "user": {
      "displayName": "張仲威",
      "photoUrl": "",
      "userId": "14727305247088321457"
     },
     "user_tz": -480
    },
    "id": "uSFNNy-tFG80",
    "outputId": "22e9b753-7450-4c44-9a54-ee877585295d"
   },
   "outputs": [
    {
     "data": {
      "text/plain": [
       "1"
      ]
     },
     "execution_count": 45,
     "metadata": {},
     "output_type": "execute_result"
    }
   ],
   "source": [
    "# list 中的第一個元素(element)，索引為0，值為1，索引為1，值為3，依此類推\n",
    "lst[0]"
   ]
  },
  {
   "cell_type": "code",
   "execution_count": 46,
   "metadata": {
    "colab": {
     "base_uri": "https://localhost:8080/",
     "height": 0
    },
    "colab_type": "code",
    "executionInfo": {
     "elapsed": 819,
     "status": "ok",
     "timestamp": 1590548594080,
     "user": {
      "displayName": "張仲威",
      "photoUrl": "",
      "userId": "14727305247088321457"
     },
     "user_tz": -480
    },
    "id": "UHOmaetmFG82",
    "outputId": "5a5f18b1-b98d-46fe-a5fd-8d14ae43d2df"
   },
   "outputs": [
    {
     "data": {
      "text/plain": [
       "[1, 3, 5]"
      ]
     },
     "execution_count": 46,
     "metadata": {},
     "output_type": "execute_result"
    }
   ],
   "source": [
    "# 取出 0 到 3 索引的值\n",
    "lst[0:3]"
   ]
  },
  {
   "cell_type": "code",
   "execution_count": 47,
   "metadata": {
    "colab": {},
    "colab_type": "code",
    "id": "Ks2cJywGFG85"
   },
   "outputs": [],
   "source": [
    "# list 裡可以放置多種資料型別的值，也可以是串列中放串列\n",
    "mlst = [9, 4, 'David', 'Lanz', True, [8, 7]]"
   ]
  },
  {
   "cell_type": "code",
   "execution_count": 48,
   "metadata": {
    "colab": {
     "base_uri": "https://localhost:8080/",
     "height": 0
    },
    "colab_type": "code",
    "executionInfo": {
     "elapsed": 1157,
     "status": "ok",
     "timestamp": 1590548594865,
     "user": {
      "displayName": "張仲威",
      "photoUrl": "",
      "userId": "14727305247088321457"
     },
     "user_tz": -480
    },
    "id": "BkPKJMI5FG89",
    "outputId": "70fbff45-7e99-4b44-fe19-57974a06a6ae"
   },
   "outputs": [
    {
     "data": {
      "text/plain": [
       "9"
      ]
     },
     "execution_count": 48,
     "metadata": {},
     "output_type": "execute_result"
    }
   ],
   "source": [
    "mlst[0]"
   ]
  },
  {
   "cell_type": "code",
   "execution_count": 49,
   "metadata": {
    "colab": {},
    "colab_type": "code",
    "id": "3XXKNC0LFG9D"
   },
   "outputs": [
    {
     "data": {
      "text/plain": [
       "4"
      ]
     },
     "execution_count": 49,
     "metadata": {},
     "output_type": "execute_result"
    }
   ],
   "source": [
    "mlst[1]"
   ]
  },
  {
   "cell_type": "code",
   "execution_count": 50,
   "metadata": {
    "colab": {},
    "colab_type": "code",
    "id": "xhUeXZ4nFG9K"
   },
   "outputs": [
    {
     "data": {
      "text/plain": [
       "[8, 7]"
      ]
     },
     "execution_count": 50,
     "metadata": {},
     "output_type": "execute_result"
    }
   ],
   "source": [
    "mlst[5]"
   ]
  },
  {
   "cell_type": "code",
   "execution_count": 51,
   "metadata": {
    "colab": {},
    "colab_type": "code",
    "id": "HoLJMxE6FG9N"
   },
   "outputs": [
    {
     "data": {
      "text/plain": [
       "[4, 'David', 'Lanz', True, [8, 7]]"
      ]
     },
     "execution_count": 51,
     "metadata": {},
     "output_type": "execute_result"
    }
   ],
   "source": [
    "# 第 1 個索引以後，當然包含 mlst[1]\n",
    "mlst[1:]"
   ]
  },
  {
   "cell_type": "code",
   "execution_count": 52,
   "metadata": {
    "colab": {
     "base_uri": "https://localhost:8080/",
     "height": 0
    },
    "colab_type": "code",
    "executionInfo": {
     "elapsed": 1021,
     "status": "ok",
     "timestamp": 1590548594866,
     "user": {
      "displayName": "張仲威",
      "photoUrl": "",
      "userId": "14727305247088321457"
     },
     "user_tz": -480
    },
    "id": "5caIS0RCFG9S",
    "outputId": "6dce4292-5934-4aae-e41d-edde697225c5"
   },
   "outputs": [
    {
     "data": {
      "text/plain": [
       "['a', 'b', 'c', '1', '2', '3']"
      ]
     },
     "execution_count": 52,
     "metadata": {},
     "output_type": "execute_result"
    }
   ],
   "source": [
    "# 兩個串列 list 整合成一個一個 串列 list\n",
    "lst1 = [\"a\", \"b\", \"c\"]\n",
    "lst2 = [\"1\", \"2\", \"3\"]\n",
    "lst3 = lst1 + lst2\n",
    "lst3"
   ]
  },
  {
   "cell_type": "code",
   "execution_count": 53,
   "metadata": {
    "colab": {
     "base_uri": "https://localhost:8080/",
     "height": 0
    },
    "colab_type": "code",
    "executionInfo": {
     "elapsed": 1000,
     "status": "ok",
     "timestamp": 1590548594867,
     "user": {
      "displayName": "張仲威",
      "photoUrl": "",
      "userId": "14727305247088321457"
     },
     "user_tz": -480
    },
    "id": "yJawc0fkFG9W",
    "outputId": "56caa886-5b1b-4770-dede-dd0ba30ebf5d"
   },
   "outputs": [
    {
     "data": {
      "text/plain": [
       "['a', 'b', 'c', '1', '2', '3', '4']"
      ]
     },
     "execution_count": 53,
     "metadata": {},
     "output_type": "execute_result"
    }
   ],
   "source": [
    "# 利用 append 附加於串列之後的新元素\n",
    "lst3.append(\"4\")\n",
    "lst3"
   ]
  },
  {
   "cell_type": "markdown",
   "metadata": {
    "colab_type": "text",
    "id": "YIMA2jlsFG9Z"
   },
   "source": [
    "#### Dictionaries\n",
    "\n",
    "Dictionaries or 'dicts' are hash tables, where a key points to a value."
   ]
  },
  {
   "cell_type": "code",
   "execution_count": 54,
   "metadata": {
    "colab": {},
    "colab_type": "code",
    "id": "uGI4Fj3YFG9a"
   },
   "outputs": [],
   "source": [
    "# name, age 與 birth 在 Dictionary 中稱之為 key，冒號後的稱之為 value，value可以為任何資料型別\n",
    "d = {'name': 'David', 'age': 25, 'birth': '10/10/1994'}"
   ]
  },
  {
   "cell_type": "code",
   "execution_count": 55,
   "metadata": {
    "colab": {},
    "colab_type": "code",
    "id": "uspSd4SkFG9e"
   },
   "outputs": [
    {
     "data": {
      "text/plain": [
       "'David'"
      ]
     },
     "execution_count": 55,
     "metadata": {},
     "output_type": "execute_result"
    }
   ],
   "source": [
    "d['name']"
   ]
  },
  {
   "cell_type": "code",
   "execution_count": 56,
   "metadata": {
    "colab": {},
    "colab_type": "code",
    "id": "ic36nsb9FG9h"
   },
   "outputs": [
    {
     "data": {
      "text/plain": [
       "25"
      ]
     },
     "execution_count": 56,
     "metadata": {},
     "output_type": "execute_result"
    }
   ],
   "source": [
    "d['age']"
   ]
  },
  {
   "cell_type": "markdown",
   "metadata": {
    "colab_type": "text",
    "id": "57iVYBRCFG9k"
   },
   "source": [
    "<a id=\"control\"></a>\n",
    "\n",
    "### Loops and Control Structures\n",
    "\n",
    "#### Boolean and comparison operations"
   ]
  },
  {
   "cell_type": "code",
   "execution_count": 57,
   "metadata": {
    "colab": {},
    "colab_type": "code",
    "id": "tv9r94UYFG9l"
   },
   "outputs": [
    {
     "data": {
      "text/plain": [
       "True"
      ]
     },
     "execution_count": 57,
     "metadata": {},
     "output_type": "execute_result"
    }
   ],
   "source": [
    "x = 5\n",
    "(x < 6) and (x > 4)"
   ]
  },
  {
   "cell_type": "code",
   "execution_count": 58,
   "metadata": {
    "colab": {
     "base_uri": "https://localhost:8080/",
     "height": 0
    },
    "colab_type": "code",
    "executionInfo": {
     "elapsed": 965,
     "status": "ok",
     "timestamp": 1590548594869,
     "user": {
      "displayName": "張仲威",
      "photoUrl": "",
      "userId": "14727305247088321457"
     },
     "user_tz": -480
    },
    "id": "fCQ3ybKAFG9n",
    "outputId": "b7a0ccef-252a-485c-80ed-bd820c93cf4f"
   },
   "outputs": [
    {
     "data": {
      "text/plain": [
       "True"
      ]
     },
     "execution_count": 58,
     "metadata": {},
     "output_type": "execute_result"
    }
   ],
   "source": [
    "# != 是不等於得意思，因為x現在是5，所以不等於4，結果為 真 (True)\n",
    "x != 4"
   ]
  },
  {
   "cell_type": "code",
   "execution_count": 59,
   "metadata": {
    "colab": {
     "base_uri": "https://localhost:8080/",
     "height": 0
    },
    "colab_type": "code",
    "executionInfo": {
     "elapsed": 947,
     "status": "ok",
     "timestamp": 1590548594871,
     "user": {
      "displayName": "張仲威",
      "photoUrl": "",
      "userId": "14727305247088321457"
     },
     "user_tz": -480
    },
    "id": "KZtsNLjGFG9q",
    "outputId": "1708bfd7-14b0-4ef2-d837-f8b1529bc57a"
   },
   "outputs": [
    {
     "data": {
      "text/plain": [
       "True"
      ]
     },
     "execution_count": 59,
     "metadata": {},
     "output_type": "execute_result"
    }
   ],
   "source": [
    "# 判斷某一個值是否在 串列 (list) 的值當中\n",
    "5 in [3, 4, 5]"
   ]
  },
  {
   "cell_type": "code",
   "execution_count": 60,
   "metadata": {
    "colab": {
     "base_uri": "https://localhost:8080/",
     "height": 0
    },
    "colab_type": "code",
    "executionInfo": {
     "elapsed": 929,
     "status": "ok",
     "timestamp": 1590548594872,
     "user": {
      "displayName": "張仲威",
      "photoUrl": "",
      "userId": "14727305247088321457"
     },
     "user_tz": -480
    },
    "id": "wj-tS3OkFG9r",
    "outputId": "e5c7e81e-2513-4730-81ef-b2c802046c66"
   },
   "outputs": [
    {
     "data": {
      "text/plain": [
       "True"
      ]
     },
     "execution_count": 60,
     "metadata": {},
     "output_type": "execute_result"
    }
   ],
   "source": [
    "'ell' in 'Hello'"
   ]
  },
  {
   "cell_type": "code",
   "execution_count": 61,
   "metadata": {
    "colab": {},
    "colab_type": "code",
    "id": "aQghgLqiFG9t"
   },
   "outputs": [
    {
     "data": {
      "text/plain": [
       "True"
      ]
     },
     "execution_count": 61,
     "metadata": {},
     "output_type": "execute_result"
    }
   ],
   "source": [
    "len('Hello') >= 5"
   ]
  },
  {
   "cell_type": "markdown",
   "metadata": {
    "colab_type": "text",
    "id": "iRNxEs41FG9v"
   },
   "source": [
    "#### if test\n",
    "\n",
    "\tif <test1>:                 # if test\n",
    "\t    <statements1>           # Associated block\n",
    "\telif <test2>:               # Optional elifs\n",
    "\t    <statements2>\n",
    "\telse:                       # Optional else\n",
    "\t    <statements3>\n"
   ]
  },
  {
   "cell_type": "code",
   "execution_count": 62,
   "metadata": {
    "colab": {
     "base_uri": "https://localhost:8080/",
     "height": 0
    },
    "colab_type": "code",
    "executionInfo": {
     "elapsed": 978,
     "status": "ok",
     "timestamp": 1590548594869,
     "user": {
      "displayName": "張仲威",
      "photoUrl": "",
      "userId": "14727305247088321457"
     },
     "user_tz": -480
    },
    "id": "1-2ibUPlFG9v",
    "outputId": "6c6c339f-a5f5-4235-f7fb-5af803ae4b41"
   },
   "outputs": [
    {
     "name": "stdout",
     "output_type": "stream",
     "text": [
      "The 'if' statement is true.\n"
     ]
    }
   ],
   "source": [
    "if 1 < 2:\n",
    "    print(\"The 'if' statement is true.\")"
   ]
  },
  {
   "cell_type": "code",
   "execution_count": 63,
   "metadata": {
    "colab": {
     "base_uri": "https://localhost:8080/",
     "height": 0
    },
    "colab_type": "code",
    "executionInfo": {
     "elapsed": 937,
     "status": "ok",
     "timestamp": 1590548594871,
     "user": {
      "displayName": "張仲威",
      "photoUrl": "",
      "userId": "14727305247088321457"
     },
     "user_tz": -480
    },
    "id": "EPbQkzo3FG9y",
    "outputId": "22acfc25-c6aa-4af1-d6bb-cba075821d9e"
   },
   "outputs": [
    {
     "name": "stdout",
     "output_type": "stream",
     "text": [
      "The 'if' statement is false.\n"
     ]
    }
   ],
   "source": [
    "if 3 < 2:\n",
    "    print(\"The 'if' statement is true.\")\n",
    "else:\n",
    "    print(\"The 'if' statement is false.\")"
   ]
  },
  {
   "cell_type": "code",
   "execution_count": 64,
   "metadata": {
    "colab": {},
    "colab_type": "code",
    "id": "8RIOQTH2FG90"
   },
   "outputs": [
    {
     "name": "stdout",
     "output_type": "stream",
     "text": [
      "找到 a 了\n",
      "Oh Ya!\n"
     ]
    }
   ],
   "source": [
    "# in operator 判斷是否在其中之用，有 in 就一定有 「冒號」結尾\n",
    "# 下述句為，如果 字串 'a ' 在 字串 'abc' 當中的話，就執行 「:」下面的敘述\n",
    "# 注意：if 之下的條件，都需要和if 空 4 格空格當作區塊\n",
    "if 'a' in 'abc':\n",
    "    print('找到 a 了')\n",
    "    print('Oh Ya!')"
   ]
  },
  {
   "cell_type": "code",
   "execution_count": 65,
   "metadata": {
    "colab": {},
    "colab_type": "code",
    "id": "W4Ppct3CFG92"
   },
   "outputs": [
    {
     "name": "stdout",
     "output_type": "stream",
     "text": [
      "gg，沒找到 d 耶...\n"
     ]
    }
   ],
   "source": [
    "if 'd' in 'abc':\n",
    "    print('找到 d 了')\n",
    "else:\n",
    "    print('gg，沒找到 d 耶...')"
   ]
  },
  {
   "cell_type": "code",
   "execution_count": 66,
   "metadata": {
    "colab": {},
    "colab_type": "code",
    "id": "Tx9CRGljFG96"
   },
   "outputs": [
    {
     "name": "stdout",
     "output_type": "stream",
     "text": [
      "答對，d 不在 abc 中\n"
     ]
    }
   ],
   "source": [
    "# not in -> 不在其中的時候，;xo4\n",
    "if 'd' not in 'abc':\n",
    "    print('答對，d 不在 abc 中')"
   ]
  },
  {
   "cell_type": "code",
   "execution_count": 67,
   "metadata": {
    "colab": {},
    "colab_type": "code",
    "id": "hgv8ETXiFG98"
   },
   "outputs": [
    {
     "name": "stdout",
     "output_type": "stream",
     "text": [
      "我在這\n"
     ]
    }
   ],
   "source": [
    "# 數學運算也可以加入判斷，最好加上 小括號 ()\n",
    "if (2 + 2 == 5):\n",
    "    print('你傻了嗎?')\n",
    "else: \n",
    "    print('我在這') "
   ]
  },
  {
   "cell_type": "markdown",
   "metadata": {
    "colab_type": "text",
    "id": "2KhZMochFG9_"
   },
   "source": [
    "<a id=\"loops\"></a>\n",
    "\n",
    "### Loops\n",
    "\n",
    "Loops and conditional tests are control structures that allow you to control flow through your program."
   ]
  },
  {
   "cell_type": "markdown",
   "metadata": {
    "colab_type": "text",
    "id": "S7al6UVqFG9_"
   },
   "source": [
    "#### for Loops\n",
    "\n",
    "\tfor <target> in <object>:   # Assign object items to target\n",
    "\t    <statements>            # Repeated loop body: use target\n",
    "\telse:\n",
    "\t    <statements>            # If we didn't hit a 'break'\n",
    "\t\n",
    "\tfor <target> in <object>:   # Assign object items to target\n",
    "\t    <statements>\n",
    "\t    if <test>: break        # Exit loop now, skip else\n",
    "\t    if <test>: continue     # Go to top of loop now\n",
    "\telse:\n",
    "\t    <statements>            # If we didn't hit a 'break'"
   ]
  },
  {
   "cell_type": "markdown",
   "metadata": {
    "colab_type": "text",
    "id": "POmB4I2ZFG-A"
   },
   "source": [
    "#### for loops"
   ]
  },
  {
   "cell_type": "code",
   "execution_count": 68,
   "metadata": {
    "colab": {},
    "colab_type": "code",
    "id": "C1Amo5ggFG-A"
   },
   "outputs": [
    {
     "name": "stdout",
     "output_type": "stream",
     "text": [
      "1\n",
      "2\n",
      "3\n",
      "4\n"
     ]
    }
   ],
   "source": [
    "# for 迴圈，從1開始，小於5的整數\n",
    "for i in range(1, 5):\n",
    "    print(i)"
   ]
  },
  {
   "cell_type": "code",
   "execution_count": 69,
   "metadata": {
    "colab": {},
    "colab_type": "code",
    "id": "a8jMiLjwFG-C"
   },
   "outputs": [
    {
     "name": "stdout",
     "output_type": "stream",
     "text": [
      "0\n",
      "1\n",
      "2\n",
      "3\n",
      "4\n"
     ]
    }
   ],
   "source": [
    "# 串列 list 型態的變數 lst，可以透過 for 迴圈，逐一取出資料\n",
    "lst = [0, 1, 2, 3, 4]\n",
    "for x in lst:\n",
    "    print(x)"
   ]
  },
  {
   "cell_type": "code",
   "execution_count": 70,
   "metadata": {
    "colab": {
     "base_uri": "https://localhost:8080/",
     "height": 0
    },
    "colab_type": "code",
    "executionInfo": {
     "elapsed": 1247,
     "status": "ok",
     "timestamp": 1590548595219,
     "user": {
      "displayName": "張仲威",
      "photoUrl": "",
      "userId": "14727305247088321457"
     },
     "user_tz": -480
    },
    "id": "zyt-YYgDFG-F",
    "outputId": "f699cf41-c6b2-4d36-d6b3-af9da0b91fb5"
   },
   "outputs": [
    {
     "name": "stdout",
     "output_type": "stream",
     "text": [
      "a\n",
      "b\n",
      "c\n",
      "d\n",
      "e\n"
     ]
    }
   ],
   "source": [
    "lst = ['a', 'b', 'c', 'd', 'e']\n",
    "for x in lst:\n",
    "    print(x)"
   ]
  },
  {
   "cell_type": "code",
   "execution_count": 71,
   "metadata": {
    "colab": {},
    "colab_type": "code",
    "id": "hQlqEPxoFG-H"
   },
   "outputs": [
    {
     "name": "stdout",
     "output_type": "stream",
     "text": [
      "0 a\n",
      "1 b\n",
      "2 c\n",
      "3 d\n",
      "4 e\n"
     ]
    }
   ],
   "source": [
    "lst = ['a', 'b', 'c', 'd', 'e']\n",
    "for k, v in enumerate(lst):\n",
    "    print(k, v)"
   ]
  },
  {
   "cell_type": "code",
   "execution_count": 72,
   "metadata": {
    "colab": {},
    "colab_type": "code",
    "id": "GS8xDA4qFG-J"
   },
   "outputs": [
    {
     "name": "stdout",
     "output_type": "stream",
     "text": [
      "['This is item:1', 'This is item:2', 'This is item:3', 'This is item:4']\n"
     ]
    }
   ],
   "source": [
    "# 宣告一個空串列 list，在迴圈中附加後更新串列\n",
    "lst = []\n",
    "for x in range(1, 5):\n",
    "    lst.append( \"This is item:\" + str(x) )\n",
    "print(lst)"
   ]
  },
  {
   "cell_type": "code",
   "execution_count": 73,
   "metadata": {
    "colab": {},
    "colab_type": "code",
    "id": "F8EQydmuFG-M"
   },
   "outputs": [
    {
     "name": "stdout",
     "output_type": "stream",
     "text": [
      "original list is empty: []\n",
      "new_lst is now: ['a', 'b', 'c', 'd', 'e']\n"
     ]
    }
   ],
   "source": [
    "# 複製別人的 list 串列資料 為 新串列的方法\n",
    "lst = ['a', 'b', 'c', 'd', 'e']\n",
    "new_lst = []\n",
    "print(\"original list is empty: %s\" % new_lst)\n",
    "for x in lst:\n",
    "    new_lst.append(x)\n",
    "print(\"new_lst is now: %s\" % new_lst)"
   ]
  },
  {
   "cell_type": "markdown",
   "metadata": {
    "colab_type": "text",
    "id": "BtUSI-RwFG-O"
   },
   "source": [
    "#### while loops\n",
    "\n",
    "\twhile <test>:               # Loop test\n",
    "\t    <statements1>           # Loop body\n",
    "\telse:                       # Optional else\n",
    "\t    <statements2>           # Run if didn't exit loop with break\n",
    "\t\n",
    "\twhile <test1>:\n",
    "\t    <statements1>\n",
    "\t    if <test2>: break       # Exit loop now, skip else\n",
    "\t    if <test3>: continue    # Go to top of loop now, to test1\n",
    "\telse:\n",
    "\t    <statements2>           # Run if we didn't hit a 'break'\n",
    "\t\n",
    "\tbreak -- Jumps out of the closest enclosing loop (past the entire loop \n",
    "\t  statement).\n",
    "\tcontinue -- Jumps to the top of the closest enclosing loop (to the loop’s \n",
    "\t  header line).\n",
    "\tpass -- Does nothing at all: it’s an empty statement placeholder.\n",
    "\telse (loop block) -- Runs if and only if the loop is exited normally \n",
    "\t  (i.e., without hitting a break)."
   ]
  },
  {
   "cell_type": "code",
   "execution_count": 74,
   "metadata": {
    "colab": {},
    "colab_type": "code",
    "id": "PuiB05M6FG-P"
   },
   "outputs": [
    {
     "name": "stdout",
     "output_type": "stream",
     "text": [
      "0\n",
      "1\n",
      "2\n",
      "3\n",
      "4\n"
     ]
    }
   ],
   "source": [
    "i = 0\n",
    "while (i < 5):\n",
    "    print(i)\n",
    "    i = i+1 #i += 1"
   ]
  },
  {
   "cell_type": "markdown",
   "metadata": {
    "colab_type": "text",
    "id": "FGygvNJ0FG-T"
   },
   "source": [
    "### Table of Contents\n",
    "\n",
    "* [Strings](#strings)\n",
    "* [Numbers and Math](#numbers)"
   ]
  },
  {
   "cell_type": "markdown",
   "metadata": {
    "colab_type": "text",
    "id": "MVkrIoB4FG-T"
   },
   "source": [
    "<a id=\"strings\"></a>\n",
    "\n",
    "### Strings"
   ]
  },
  {
   "cell_type": "markdown",
   "metadata": {
    "colab_type": "text",
    "id": "CaurU_FLFG-U"
   },
   "source": [
    "With IPython/Jupyter notebooks, we don't have to type `print()` as much as Shaw does in _LPTHW_, but we will use it for this first section."
   ]
  },
  {
   "cell_type": "code",
   "execution_count": 75,
   "metadata": {
    "colab": {},
    "colab_type": "code",
    "id": "-ZbnSQlmFG-U"
   },
   "outputs": [
    {
     "name": "stdout",
     "output_type": "stream",
     "text": [
      "你看過 David's 部落格了嗎?\n"
     ]
    }
   ],
   "source": [
    "# 雙引號 字串中，可以包含 單引號\n",
    "print(\"你看過 David's 部落格了嗎?\")"
   ]
  },
  {
   "cell_type": "code",
   "execution_count": 76,
   "metadata": {
    "colab": {},
    "colab_type": "code",
    "id": "cbbMbjm9FG-W"
   },
   "outputs": [
    {
     "name": "stdout",
     "output_type": "stream",
     "text": [
      "我看過 \"DavidLanz\" 的部落格了!\n"
     ]
    }
   ],
   "source": [
    "# 單引號 字串中，可以包含 雙引號\n",
    "print('我看過 \"DavidLanz\" 的部落格了!')"
   ]
  },
  {
   "cell_type": "code",
   "execution_count": 77,
   "metadata": {
    "colab": {},
    "colab_type": "code",
    "id": "9geeEMiQFG-a"
   },
   "outputs": [
    {
     "name": "stdout",
     "output_type": "stream",
     "text": [
      "你也看過 \"DavidLanz\" 的部落格了嗎?\n"
     ]
    }
   ],
   "source": [
    "# 如果要同時使用 雙引號 在字串中，可以利用 脫離字元的方式加上 \\ 符號\n",
    "print(\"你也看過 \\\"DavidLanz\\\" 的部落格了嗎?\")"
   ]
  },
  {
   "cell_type": "code",
   "execution_count": 78,
   "metadata": {
    "colab": {},
    "colab_type": "code",
    "id": "mMxzYrWNFG-c"
   },
   "outputs": [
    {
     "name": "stdout",
     "output_type": "stream",
     "text": [
      "\n",
      "莫辭更坐彈一曲，\n",
      "爲君翻作琵琶行，\n",
      "感我此言良久立，\n",
      "卻坐促弦弦轉急，\n",
      "作者：白居易\n",
      "\n"
     ]
    }
   ],
   "source": [
    "poem = \"\"\"\n",
    "莫辭更坐彈一曲，\n",
    "爲君翻作琵琶行，\n",
    "感我此言良久立，\n",
    "卻坐促弦弦轉急，\n",
    "作者：白居易\n",
    "\"\"\"\n",
    "print(poem)"
   ]
  },
  {
   "cell_type": "code",
   "execution_count": 79,
   "metadata": {
    "colab": {
     "base_uri": "https://localhost:8080/",
     "height": 195
    },
    "colab_type": "code",
    "executionInfo": {
     "elapsed": 1569,
     "status": "error",
     "timestamp": 1590548595555,
     "user": {
      "displayName": "張仲威",
      "photoUrl": "",
      "userId": "14727305247088321457"
     },
     "user_tz": -480
    },
    "id": "s0MyEXSfFG-d",
    "outputId": "39b1afaa-0cbb-4844-8433-f2a37f72b9f9"
   },
   "outputs": [
    {
     "name": "stdout",
     "output_type": "stream",
     "text": [
      "\n",
      "莫辭更坐彈一曲，\n",
      "爲君翻作琵琶行，\n",
      "感我此言良久立，\n",
      "卻坐促弦弦轉急，\n",
      "作者：David\n",
      "\n"
     ]
    }
   ],
   "source": [
    "# 以 replace 取代字串中 match 的文字\n",
    "poem_ = poem.replace(\"白居易\", \"David\")\n",
    "print(poem_)"
   ]
  },
  {
   "cell_type": "code",
   "execution_count": 80,
   "metadata": {
    "colab": {},
    "colab_type": "code",
    "id": "0suqI7AeFG-g"
   },
   "outputs": [
    {
     "name": "stdout",
     "output_type": "stream",
     "text": [
      "['人之初', '性本善', '性相近', '習相遠']\n"
     ]
    }
   ],
   "source": [
    "# 字串利用 split 轉成串列 list\n",
    "sss = \"人之初，性本善，性相近，習相遠\"\n",
    "lst = sss.split('，')\n",
    "print(lst)"
   ]
  },
  {
   "cell_type": "code",
   "execution_count": 81,
   "metadata": {
    "colab": {},
    "colab_type": "code",
    "id": "V3nWaJgBFG-h"
   },
   "outputs": [
    {
     "name": "stdout",
     "output_type": "stream",
     "text": [
      "人之初\n",
      "性本善\n",
      "性相近\n",
      "習相遠\n"
     ]
    }
   ],
   "source": [
    "for x in lst:\n",
    "    print(x)"
   ]
  },
  {
   "cell_type": "code",
   "execution_count": 82,
   "metadata": {
    "colab": {},
    "colab_type": "code",
    "id": "Lpd34hWWFG-k"
   },
   "outputs": [
    {
     "name": "stdout",
     "output_type": "stream",
     "text": [
      "['\\n莫辭更坐彈一曲', '\\n爲君翻作琵琶行', '\\n感我此言良久立', '\\n卻坐促弦弦轉急', '\\n作者：白居易\\n']\n"
     ]
    }
   ],
   "source": [
    "lst = poem.split('，')\n",
    "print(lst)"
   ]
  },
  {
   "cell_type": "code",
   "execution_count": 83,
   "metadata": {
    "colab": {},
    "colab_type": "code",
    "id": "aIT48cyAFG-m"
   },
   "outputs": [
    {
     "data": {
      "text/plain": [
       "['莫辭更坐彈一曲', '爲君翻作琵琶行', '感我此言良久立', '卻坐促弦弦轉急', '作者：白居易']"
      ]
     },
     "execution_count": 83,
     "metadata": {},
     "output_type": "execute_result"
    }
   ],
   "source": [
    "clean_list = []\n",
    "for x in lst:\n",
    "    clean_list.append(x.replace(\"\\n\", \"\"))\n",
    "clean_list"
   ]
  },
  {
   "cell_type": "markdown",
   "metadata": {
    "colab_type": "text",
    "id": "t3x0X_3WFG-o"
   },
   "source": [
    "<a id=\"numbers\"></a>\n",
    "\n",
    "### Numbers and Math"
   ]
  },
  {
   "cell_type": "code",
   "execution_count": 84,
   "metadata": {
    "colab": {},
    "colab_type": "code",
    "id": "gRcARmOIFG-o"
   },
   "outputs": [
    {
     "data": {
      "text/plain": [
       "0.6"
      ]
     },
     "execution_count": 84,
     "metadata": {},
     "output_type": "execute_result"
    }
   ],
   "source": [
    "2 / 4 + 0.1"
   ]
  },
  {
   "cell_type": "code",
   "execution_count": 85,
   "metadata": {
    "colab": {},
    "colab_type": "code",
    "id": "R-FKZ2wjFG-q"
   },
   "outputs": [
    {
     "data": {
      "text/plain": [
       "8"
      ]
     },
     "execution_count": 85,
     "metadata": {},
     "output_type": "execute_result"
    }
   ],
   "source": [
    "(1 + 1) * (2 + 2)"
   ]
  },
  {
   "cell_type": "markdown",
   "metadata": {
    "colab_type": "text",
    "id": "1zBLf-FCFG-s"
   },
   "source": [
    "##### a, b, c, d, and e are variables (with numbers assigned to them)"
   ]
  },
  {
   "cell_type": "code",
   "execution_count": 86,
   "metadata": {
    "colab": {},
    "colab_type": "code",
    "id": "Yhj7HAklFG-t"
   },
   "outputs": [],
   "source": [
    "a = 123 + 222\n",
    "b = 1.5 * 4\n",
    "c = 2 ** 100\n",
    "d = 1.0\n",
    "e = 4"
   ]
  },
  {
   "cell_type": "code",
   "execution_count": 87,
   "metadata": {
    "colab": {},
    "colab_type": "code",
    "id": "OoV9LI5gFG-u"
   },
   "outputs": [
    {
     "name": "stdout",
     "output_type": "stream",
     "text": [
      "a = 345\n",
      "b = 6.0\n",
      "c = 1267650600228229401496703205376\n"
     ]
    }
   ],
   "source": [
    "# \\n 字元為表示換行符號\n",
    "print(\"a = {}\\nb = {}\\nc = {}\".format(a, b, c))"
   ]
  },
  {
   "cell_type": "markdown",
   "metadata": {
    "colab_type": "text",
    "id": "AFxowsRTFG-w"
   },
   "source": [
    "##### Let's import the `math` module"
   ]
  },
  {
   "cell_type": "code",
   "execution_count": 88,
   "metadata": {
    "colab": {},
    "colab_type": "code",
    "id": "sq24g7KoFG-w"
   },
   "outputs": [],
   "source": [
    "import math"
   ]
  },
  {
   "cell_type": "code",
   "execution_count": 89,
   "metadata": {
    "colab": {},
    "colab_type": "code",
    "id": "hFX6IcWdFG-y"
   },
   "outputs": [
    {
     "data": {
      "text/plain": [
       "4"
      ]
     },
     "execution_count": 89,
     "metadata": {},
     "output_type": "execute_result"
    }
   ],
   "source": [
    "# 無條件捨去為整數\n",
    "math.floor(4.22)"
   ]
  },
  {
   "cell_type": "code",
   "execution_count": 90,
   "metadata": {
    "colab": {},
    "colab_type": "code",
    "id": "-T1itPiLFG-1"
   },
   "outputs": [
    {
     "data": {
      "text/plain": [
       "5"
      ]
     },
     "execution_count": 90,
     "metadata": {},
     "output_type": "execute_result"
    }
   ],
   "source": [
    "# 取得不小於 x 的最小整數\n",
    "math.ceil(4.22)"
   ]
  },
  {
   "cell_type": "code",
   "execution_count": 91,
   "metadata": {
    "colab": {},
    "colab_type": "code",
    "id": "tMsmi0a5FG-5"
   },
   "outputs": [
    {
     "data": {
      "text/plain": [
       "120"
      ]
     },
     "execution_count": 91,
     "metadata": {},
     "output_type": "execute_result"
    }
   ],
   "source": [
    "# factorial 階層, 5! = 5*4*3*2*1 = 120\n",
    "math.factorial(5)"
   ]
  },
  {
   "cell_type": "code",
   "execution_count": 92,
   "metadata": {
    "colab": {},
    "colab_type": "code",
    "id": "vG7hW6jeFG-7"
   },
   "outputs": [
    {
     "data": {
      "text/plain": [
       "3.141592653589793"
      ]
     },
     "execution_count": 92,
     "metadata": {},
     "output_type": "execute_result"
    }
   ],
   "source": [
    "math.pi"
   ]
  },
  {
   "cell_type": "code",
   "execution_count": 93,
   "metadata": {
    "colab": {},
    "colab_type": "code",
    "id": "465DwjV0FG-8"
   },
   "outputs": [
    {
     "data": {
      "text/plain": [
       "2.0"
      ]
     },
     "execution_count": 93,
     "metadata": {},
     "output_type": "execute_result"
    }
   ],
   "source": [
    "# 開平方根\n",
    "math.sqrt(4)"
   ]
  },
  {
   "cell_type": "markdown",
   "metadata": {
    "colab_type": "text",
    "id": "Y4DJp8jTFG--"
   },
   "source": [
    "##### Now let's import the `random` module"
   ]
  },
  {
   "cell_type": "code",
   "execution_count": 94,
   "metadata": {
    "colab": {},
    "colab_type": "code",
    "id": "z-FgvJHYFG--"
   },
   "outputs": [],
   "source": [
    "import random"
   ]
  },
  {
   "cell_type": "code",
   "execution_count": 95,
   "metadata": {
    "colab": {},
    "colab_type": "code",
    "id": "ekwGNvQxFG-_"
   },
   "outputs": [],
   "source": [
    "# 以一個整數88作為參數，稱為seed，“偽亂數是以相同的機率從一組受限的數值中選取，即亂數的產生是從種子值開始\n",
    "random.seed(88)"
   ]
  },
  {
   "cell_type": "code",
   "execution_count": 96,
   "metadata": {
    "colab": {},
    "colab_type": "code",
    "id": "XdMrYmS2FG_C"
   },
   "outputs": [
    {
     "data": {
      "text/plain": [
       "0.3974888769814575"
      ]
     },
     "execution_count": 96,
     "metadata": {},
     "output_type": "execute_result"
    }
   ],
   "source": [
    "# 這個 cell 多執行幾次看看\n",
    "random.random()"
   ]
  },
  {
   "cell_type": "code",
   "execution_count": 97,
   "metadata": {
    "colab": {},
    "colab_type": "code",
    "id": "Vg-LJZW3FG_F"
   },
   "outputs": [
    {
     "data": {
      "text/plain": [
       "2"
      ]
     },
     "execution_count": 97,
     "metadata": {},
     "output_type": "execute_result"
    }
   ],
   "source": [
    "# 從現有的串列 list 中任意取一數值出來\n",
    "lst = [1, 2, 3, 4]\n",
    "random.choice(lst)"
   ]
  },
  {
   "cell_type": "code",
   "execution_count": 98,
   "metadata": {
    "colab": {},
    "colab_type": "code",
    "id": "u_uyWJjEFG_H"
   },
   "outputs": [
    {
     "data": {
      "text/plain": [
       "'Sean'"
      ]
     },
     "execution_count": 98,
     "metadata": {},
     "output_type": "execute_result"
    }
   ],
   "source": [
    "# 從現有的串列 list 中任意取一數值出來\n",
    "lst = [\"David\", \"Hippo\", \"Sean\", \"Kendy\", \"Emily\"]\n",
    "random.choice(lst)"
   ]
  },
  {
   "cell_type": "code",
   "execution_count": 99,
   "metadata": {
    "colab": {},
    "colab_type": "code",
    "id": "HlexsPYgFG_I"
   },
   "outputs": [
    {
     "data": {
      "text/plain": [
       "2"
      ]
     },
     "execution_count": 99,
     "metadata": {},
     "output_type": "execute_result"
    }
   ],
   "source": [
    "# 取 0~9 之間的數\n",
    "random.choice(range(10))"
   ]
  },
  {
   "cell_type": "code",
   "execution_count": 100,
   "metadata": {
    "colab": {},
    "colab_type": "code",
    "id": "DDdMzC8aFG_K"
   },
   "outputs": [
    {
     "name": "stdin",
     "output_type": "stream",
     "text": [
      " hi\n"
     ]
    },
    {
     "data": {
      "text/plain": [
       "'hi'"
      ]
     },
     "execution_count": 100,
     "metadata": {},
     "output_type": "execute_result"
    }
   ],
   "source": [
    "# 輸入方塊\n",
    "input()"
   ]
  },
  {
   "cell_type": "code",
   "execution_count": 101,
   "metadata": {
    "colab": {},
    "colab_type": "code",
    "id": "1-shsyp9FG_N"
   },
   "outputs": [
    {
     "name": "stdin",
     "output_type": "stream",
     "text": [
      " 8\n"
     ]
    },
    {
     "name": "stdout",
     "output_type": "stream",
     "text": [
      "you guess: 8\n"
     ]
    }
   ],
   "source": [
    "guessNum = eval(input())\n",
    "print(\"you guess: %s\" % guessNum)"
   ]
  },
  {
   "cell_type": "markdown",
   "metadata": {
    "colab_type": "text",
    "id": "h8lHEWLxFG_P"
   },
   "source": [
    "### random guess game"
   ]
  },
  {
   "cell_type": "code",
   "execution_count": 102,
   "metadata": {
    "colab": {},
    "colab_type": "code",
    "id": "_pCMHyXYFG_P"
   },
   "outputs": [
    {
     "name": "stdin",
     "output_type": "stream",
     "text": [
      " a\n"
     ]
    },
    {
     "name": "stdout",
     "output_type": "stream",
     "text": [
      "you guess: 345, correct is: 0\n"
     ]
    }
   ],
   "source": [
    "import random\n",
    "\n",
    "answer = random.choice(range(10))\n",
    "guessNum = eval(input())\n",
    "if guessNum == answer:\n",
    "    print(\"You got me!\")\n",
    "else:\n",
    "    print(\"you guess: %s, correct is: %s\" % (guessNum, answer) )"
   ]
  },
  {
   "cell_type": "markdown",
   "metadata": {
    "colab_type": "text",
    "id": "SEmxvzAmFG_Q"
   },
   "source": [
    "### Recap"
   ]
  },
  {
   "cell_type": "markdown",
   "metadata": {
    "colab_type": "text",
    "id": "ss7HC4aQFG_Q"
   },
   "source": [
    "- Install Anaconda in your environment\n",
    "- Python Syntax (comment out, data type)\n",
    "- Variable data type (String, List and Dictinday)\n",
    "- Python logical operators and condition switch (if, for)\n",
    "- Usage of Strings, Numbers and Math"
   ]
  },
  {
   "cell_type": "markdown",
   "metadata": {
    "colab_type": "text",
    "id": "qh1r-pNVFG_T"
   },
   "source": [
    "### Homework: Guess what I'm thinking?"
   ]
  },
  {
   "cell_type": "markdown",
   "metadata": {
    "colab_type": "text",
    "id": "XlfCwy_BFG_T"
   },
   "source": [
    "Rules:\n",
    "1. set an number between 1 to 20 as answer\n",
    "2. let user input number to guess from 1 to 20\n",
    "3. calculate how many times user guess\n",
    "4. when answer is wrong, output the range of the correct answer"
   ]
  },
  {
   "cell_type": "code",
   "execution_count": 103,
   "metadata": {
    "colab": {},
    "colab_type": "code",
    "id": "T9cER0RQFG_T"
   },
   "outputs": [
    {
     "name": "stdout",
     "output_type": "stream",
     "text": [
      "0 < ? < 21\n"
     ]
    },
    {
     "name": "stdin",
     "output_type": "stream",
     "text": [
      " 4\n"
     ]
    },
    {
     "name": "stdout",
     "output_type": "stream",
     "text": [
      "再大一點\n",
      "已猜次數:  1\n",
      "4 < ? < 21\n"
     ]
    },
    {
     "name": "stdin",
     "output_type": "stream",
     "text": [
      " 4\n"
     ]
    },
    {
     "name": "stdout",
     "output_type": "stream",
     "text": [
      "超出範圍了啦><\"\n",
      "4 < ? < 21\n"
     ]
    },
    {
     "name": "stdin",
     "output_type": "stream",
     "text": [
      " 21\n"
     ]
    },
    {
     "name": "stdout",
     "output_type": "stream",
     "text": [
      "超出範圍了啦><\"\n",
      "4 < ? < 21\n"
     ]
    },
    {
     "name": "stdin",
     "output_type": "stream",
     "text": [
      " 1\n"
     ]
    },
    {
     "name": "stdout",
     "output_type": "stream",
     "text": [
      "超出範圍了啦><\"\n",
      "4 < ? < 21\n"
     ]
    },
    {
     "name": "stdin",
     "output_type": "stream",
     "text": [
      " 5\n"
     ]
    },
    {
     "name": "stdout",
     "output_type": "stream",
     "text": [
      "再大一點\n",
      "已猜次數:  5\n",
      "5 < ? < 21\n"
     ]
    },
    {
     "name": "stdin",
     "output_type": "stream",
     "text": [
      " 5\n"
     ]
    },
    {
     "name": "stdout",
     "output_type": "stream",
     "text": [
      "超出範圍了啦><\"\n",
      "5 < ? < 21\n"
     ]
    },
    {
     "name": "stdin",
     "output_type": "stream",
     "text": [
      " 8\n"
     ]
    },
    {
     "name": "stdout",
     "output_type": "stream",
     "text": [
      "再大一點\n",
      "已猜次數:  7\n",
      "8 < ? < 21\n"
     ]
    },
    {
     "name": "stdin",
     "output_type": "stream",
     "text": [
      " 10\n"
     ]
    },
    {
     "name": "stdout",
     "output_type": "stream",
     "text": [
      "再大一點\n",
      "已猜次數:  8\n",
      "10 < ? < 21\n"
     ]
    },
    {
     "name": "stdin",
     "output_type": "stream",
     "text": [
      " 16\n"
     ]
    },
    {
     "name": "stdout",
     "output_type": "stream",
     "text": [
      "賓果猜對了!! 9\n"
     ]
    }
   ],
   "source": [
    "import random\n",
    "\n",
    "ansMax = 21\n",
    "ansMin = 0\n",
    "guessCount = 0\n",
    "guessAnswer = random.randint(ansMin, ansMax)\n",
    "guessNum= 0\n",
    "\n",
    "while guessNum != guessAnswer:\n",
    "    print(ansMin, '< ? <',ansMax)\n",
    "    guessNum = eval(input())\n",
    "    guessCount +=1\n",
    "    if guessNum > ansMin and guessNum < ansMax:\n",
    "        if guessNum > guessAnswer:\n",
    "            print('再小一點')\n",
    "            print('已猜次數: ', guessCount)\n",
    "            ansMax = guessNum\n",
    "        elif guessNum < guessAnswer:\n",
    "            print('再大一點')\n",
    "            print('已猜次數: ',guessCount)\n",
    "            ansMin = guessNum\n",
    "        else:\n",
    "            print('賓果猜對了!!',guessCount)\n",
    "    else:\n",
    "        print('超出範圍了啦><\"')"
   ]
  }
 ],
 "metadata": {
  "colab": {
   "name": "lesson01.ipynb",
   "provenance": []
  },
  "kernelspec": {
   "display_name": "Python 3",
   "language": "python",
   "name": "python3"
  },
  "language_info": {
   "codemirror_mode": {
    "name": "ipython",
    "version": 3
   },
   "file_extension": ".py",
   "mimetype": "text/x-python",
   "name": "python",
   "nbconvert_exporter": "python",
   "pygments_lexer": "ipython3",
   "version": "3.7.3"
  }
 },
 "nbformat": 4,
 "nbformat_minor": 2
}
