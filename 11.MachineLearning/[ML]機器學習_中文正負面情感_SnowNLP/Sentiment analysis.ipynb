{
 "cells": [
  {
   "cell_type": "code",
   "execution_count": null,
   "metadata": {
    "collapsed": false
   },
   "outputs": [],
   "source": [
    "# pip install snownlp\n",
    "import jieba\n",
    "from snownlp import SnowNLP"
   ]
  },
  {
   "cell_type": "code",
   "execution_count": null,
   "metadata": {
    "collapsed": false
   },
   "outputs": [],
   "source": [
    "jieba.initialize()\n",
    "jieba.set_dictionary('dict/dict.big.txt')\n",
    "\n",
    "def haschinese(text):\n",
    "    for t in text:\n",
    "        if '\\u4e00' <= t <= '\\u9fff':\n",
    "            return True\n",
    "    return False\n",
    "\n",
    "def toChinese(text):\n",
    "    txt = \"\"\n",
    "    for t in text:\n",
    "        if ('\\u4e00' <= t <= '\\u9fff') or (t in ['，','、','。', ',', '.' ]):\n",
    "            txt += t\n",
    "    return txt\n",
    "\n",
    "text_source = '''都這時代了，難道不知道有「監視器」這種產物，專門對付貪小便宜的人嗎？\n",
    " \n",
    "有網友在《爆廢公社》分享一段影片，寫道「看得我都痛」。\n",
    " \n",
    "原來影片中身穿西裝褲、白襯衫看起來模樣斯文的男子，竟然疑似為了得到夾娃娃機裡的獎品，對著搖桿區「狂頂猛頂」，最後靠著振動讓禮物掉下來！\n",
    " \n",
    "不少網友看了傻眼，紛紛留言「金剛棒」、「什麼不好幹，你幹機台？」、「努力，就會有收穫。」、「空幹王 哈哈哈哈」、「花了23秒看他幹機台」\"'''\n",
    "\n",
    "text_source = toChinese(text_source)\n",
    "print(text_source)\n",
    "\n",
    "words = [word for word in jieba.cut(text_source, cut_all=False) if (len(word.strip()) >= 2) and (haschinese(word.strip()))]\n",
    "text = \" \".join(words)\n",
    "print(text)"
   ]
  },
  {
   "cell_type": "code",
   "execution_count": null,
   "metadata": {
    "collapsed": true
   },
   "outputs": [],
   "source": [
    "def getSentiments(text):\n",
    "    s=SnowNLP(text)\n",
    "    results = []\n",
    "    sentences = []\n",
    "    scores = []\n",
    "    n = 5\n",
    "    for sentence in s.sentences:\n",
    "        sentences.append(sentence)\n",
    "        s = SnowNLP(sentence)\n",
    "        s_summary = s.summary(n)\n",
    "        #s2 = SnowNLP(sentence)\n",
    "        scores.append(s.sentiments)\n",
    "        results.append({\"sentence\":sentence,\"score\":s.sentiments,\"tf\":s.tf,\"idf\":s.idf,\"keywords\":s.keywords(n),\"summary\":s.summary(n)})\n",
    "    return results\n",
    "\n",
    "results = getSentiments(text)"
   ]
  },
  {
   "cell_type": "code",
   "execution_count": null,
   "metadata": {
    "collapsed": false
   },
   "outputs": [],
   "source": [
    "results = getSentiments(text_source)\n",
    "# print(results)\n",
    "score = 0.0\n",
    "for k in results:\n",
    "    #print(k)\n",
    "    print(k['sentence'])\n",
    "    print(k['score'])\n",
    "    score = score + float(k['score'])\n",
    "    #print(k['tf'])\n",
    "    #print(k['idf'])\n",
    "    #print(k['keywords'])\n",
    "    print(\"summary=\"+\" \".join(k['summary']))\n",
    "print(score/len(results))"
   ]
  },
  {
   "cell_type": "code",
   "execution_count": null,
   "metadata": {
    "collapsed": false
   },
   "outputs": [],
   "source": [
    "text = \"我要快樂，我希望能永遠幸福\"\n",
    "s=SnowNLP(text)\n",
    "\n",
    "for sentence in s.sentences:\n",
    "    print(sentence)\n",
    "\n",
    "print(s.sentences[0])\n",
    "s1 = SnowNLP(s.sentences[0])\n",
    "print(s1.sentiments)\n",
    "\n",
    "print(s.sentences[1])\n",
    "s2 = SnowNLP(s.sentences[1])\n",
    "print(s2.sentiments)\n",
    "\n",
    "print(\"=\"*20)\n",
    "text = '''都這時代了，難道不知道有「監視器」這種產物，專門對付貪小便宜的人嗎？'''\n",
    "s=SnowNLP(text)\n",
    "for sentence in s.sentences:\n",
    "    print(sentence)\n",
    "\n",
    "print(s.sentences[0])\n",
    "s1 = SnowNLP(s.sentences[0])\n",
    "print(s1.sentiments)\n",
    "\n",
    "print(s.sentences[1])\n",
    "s2 = SnowNLP(s.sentences[1])\n",
    "print(s2.sentiments)"
   ]
  },
  {
   "cell_type": "code",
   "execution_count": null,
   "metadata": {
    "collapsed": true
   },
   "outputs": [],
   "source": []
  }
 ],
 "metadata": {
  "kernelspec": {
   "display_name": "Python [default]",
   "language": "python",
   "name": "python3"
  },
  "language_info": {
   "codemirror_mode": {
    "name": "ipython",
    "version": 3
   },
   "file_extension": ".py",
   "mimetype": "text/x-python",
   "name": "python",
   "nbconvert_exporter": "python",
   "pygments_lexer": "ipython3",
   "version": "3.5.2"
  }
 },
 "nbformat": 4,
 "nbformat_minor": 2
}
