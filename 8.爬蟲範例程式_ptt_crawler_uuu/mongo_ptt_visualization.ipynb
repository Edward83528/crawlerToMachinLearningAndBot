{
 "cells": [
  {
   "cell_type": "markdown",
   "metadata": {
    "collapsed": true
   },
   "source": [
    "# 統計PTT每日"
   ]
  },
  {
   "cell_type": "code",
   "execution_count": 1,
   "metadata": {},
   "outputs": [
    {
     "name": "stdout",
     "output_type": "stream",
     "text": [
      "distinct 7057 records found.\n",
      "['2019-09-26', '2019-09-27', '2019-09-28', '2019-09-29']\n",
      "[1820, 1668, 1644, 1925]\n"
     ]
    }
   ],
   "source": [
    "# -*- coding: utf-8 -*-\n",
    "#https://plot.ly/python/ipython-notebook-tutorial/\n",
    "# pip install plotly\n",
    "# conda install -c anaconda nbformat\n",
    "# conda install -c conda-forge nbformat\n",
    "\n",
    "import pymongo as mg\n",
    "import datetime\n",
    "import plotly\n",
    "from datetime import datetime, timedelta\n",
    "\n",
    "%config IPCompleter.greedy=True\n",
    "\n",
    "#ECHO ptt Start ====================================\n",
    "fetchdays = 1\n",
    "yesterday_temp = datetime.now() - timedelta(days = fetchdays)\n",
    "yesterday_date = yesterday_temp.strftime(\"%Y-%m-%d\")\n",
    "today_date = datetime.now().strftime(\"%Y-%m-%d\")\n",
    "ary1 = str(yesterday_date).split(\"-\")\n",
    "start = datetime(int(ary1[0]),int(ary1[1]),int(ary1[2]), 0, 0, 0)\n",
    "ary1 = str(today_date).split(\"-\")\n",
    "end =  datetime(int(ary1[0]),int(ary1[1]),int(ary1[2]), 23, 59, 59)\n",
    "#debug\n",
    "start = datetime(2019, 9, 26, 0, 0, 0)\n",
    "end = datetime(2019, 9, 29, 23, 59, 59)\n",
    "client = mg.MongoClient('127.0.0.1:27017')\n",
    "db = client[\"ptt\"]\n",
    "col = db['Gossiping']\n",
    "sort = [(\"date\", -1)]\n",
    "result = col.find({\"date\":{'$gte': start, '$lte': end}})\n",
    "#result = col.find({\"date\":{'$gte': start, '$lte': end}}).limit(100)\n",
    "#result = col.find({\"date\":{'$gte': start, '$lte': end}}).sort(sort).limit(100)\n",
    "# result = col.find({\"date\":{'$gte': start, '$lte': end}})\n",
    "# result = col.find({\"url\":\"https://www.ptt.cc/bbs/Gossiping/M.1507319547.A.8CF.html\",\"date\":{'$gte': start, '$lte': end} })\n",
    "result  =  list(result)\n",
    "#ECHO ptt End ====================================\n",
    "\n",
    "\n",
    "#Own ptt Start ====================================\n",
    "# client = mg.MongoClient('127.0.0.1:27017')\n",
    "# db = client['ptt'] #DBName: ptt\n",
    "# start = datetime(2017, 9, 14, 0, 0, 0)\n",
    "# end = datetime(2017, 9, 19, 23, 59, 59)\n",
    "# result = db['Gossiping'].find({ 'date':{'$gte':start,'$lte':end } })\n",
    "# result  =  list(result)\n",
    "#Own ptt End ====================================\n",
    "\n",
    "temp_dict = {}\n",
    "date_dict = {}\n",
    "for x in result:\n",
    "    temp_dict[ x['url'] ] = x\n",
    "\n",
    "print (\"distinct %s records found.\" % (len(temp_dict) ) )\n",
    "\n",
    "post_dict = {}\n",
    "post_counter = 0\n",
    "last_sum = 0\n",
    "for x in temp_dict:\n",
    "    last_sum = 0\n",
    "    post_counter = 0\n",
    "    dt = temp_dict[x][\"date\"].strftime(\"%Y-%m-%d\")\n",
    "    try:\n",
    "        last_sum = post_dict[dt]['counter']\n",
    "        post_dict[dt]={'counter':last_sum+1}\n",
    "    except Exception as e:\n",
    "        post_counter = post_counter+1\n",
    "        post_dict[dt]={'counter':post_counter}\n",
    "        pass\n",
    "\n",
    "x_axis = []\n",
    "y_axis = []\n",
    "for x in post_dict:\n",
    "    x_axis.append(x)\n",
    "    y_axis.append(post_dict[x]['counter'])\n",
    "\n",
    "zipped = zip(x_axis, y_axis)\n",
    "x_axis = []\n",
    "y_axis = []\n",
    "zipped = sorted(zipped, key=lambda x: x[0])\n",
    "for x in zipped:\n",
    "    x_axis.append(x[0])\n",
    "    y_axis.append(x[1])\n",
    "print(x_axis)\n",
    "print(y_axis)"
   ]
  },
  {
   "cell_type": "code",
   "execution_count": 2,
   "metadata": {},
   "outputs": [
    {
     "data": {
      "text/html": [
       "<script>requirejs.config({paths: { 'plotly': ['https://cdn.plot.ly/plotly-latest.min']},});if(!window.Plotly) {{require(['plotly'],function(plotly) {window.Plotly=plotly;});}}</script>"
      ],
      "text/vnd.plotly.v1+html": [
       "<script>requirejs.config({paths: { 'plotly': ['https://cdn.plot.ly/plotly-latest.min']},});if(!window.Plotly) {{require(['plotly'],function(plotly) {window.Plotly=plotly;});}}</script>"
      ]
     },
     "metadata": {},
     "output_type": "display_data"
    },
    {
     "data": {
      "application/vnd.plotly.v1+json": {
       "data": [
        {
         "x": [
          "2019-09-26",
          "2019-09-27",
          "2019-09-28",
          "2019-09-29"
         ],
         "y": [
          1820,
          1668,
          1644,
          1925
         ]
        }
       ],
       "layout": {
        "title": "David PTT 八卦版每日發文數統計"
       }
      },
      "text/html": [
       "<div id=\"12a45065-edd6-44db-b9eb-f7190979eff4\" style=\"height: 525px; width: 100%;\" class=\"plotly-graph-div\"></div><script type=\"text/javascript\">require([\"plotly\"], function(Plotly) { window.PLOTLYENV=window.PLOTLYENV || {};window.PLOTLYENV.BASE_URL=\"https://plot.ly\";Plotly.newPlot(\"12a45065-edd6-44db-b9eb-f7190979eff4\", [{\"x\": [\"2019-09-26\", \"2019-09-27\", \"2019-09-28\", \"2019-09-29\"], \"y\": [1820, 1668, 1644, 1925]}], {\"title\": \"David PTT \\u516b\\u5366\\u7248\\u6bcf\\u65e5\\u767c\\u6587\\u6578\\u7d71\\u8a08\"}, {\"showLink\": true, \"linkText\": \"Export to plot.ly\"})});</script>"
      ],
      "text/vnd.plotly.v1+html": [
       "<div id=\"12a45065-edd6-44db-b9eb-f7190979eff4\" style=\"height: 525px; width: 100%;\" class=\"plotly-graph-div\"></div><script type=\"text/javascript\">require([\"plotly\"], function(Plotly) { window.PLOTLYENV=window.PLOTLYENV || {};window.PLOTLYENV.BASE_URL=\"https://plot.ly\";Plotly.newPlot(\"12a45065-edd6-44db-b9eb-f7190979eff4\", [{\"x\": [\"2019-09-26\", \"2019-09-27\", \"2019-09-28\", \"2019-09-29\"], \"y\": [1820, 1668, 1644, 1925]}], {\"title\": \"David PTT \\u516b\\u5366\\u7248\\u6bcf\\u65e5\\u767c\\u6587\\u6578\\u7d71\\u8a08\"}, {\"showLink\": true, \"linkText\": \"Export to plot.ly\"})});</script>"
      ]
     },
     "metadata": {},
     "output_type": "display_data"
    }
   ],
   "source": [
    "plotly.offline.init_notebook_mode(connected=True)\n",
    "plotly.offline.iplot({\n",
    "        \"data\": [{\n",
    "                \"x\": x_axis,\n",
    "                \"y\": y_axis\n",
    "            }],\n",
    "        \"layout\": {\n",
    "            \"title\": \"David PTT 八卦版每日發文數統計\"\n",
    "        }\n",
    "    })"
   ]
  },
  {
   "cell_type": "code",
   "execution_count": 3,
   "metadata": {},
   "outputs": [
    {
     "name": "stdout",
     "output_type": "stream",
     "text": [
      "['2019-09-26', '2019-09-27', '2019-09-28', '2019-09-29']\n",
      "[22524, 18984, 18113, 24817]\n"
     ]
    }
   ],
   "source": [
    "tmp_score = 0\n",
    "lastSumScore = 0\n",
    "for x in temp_dict:\n",
    "    dt = temp_dict[x][\"date\"].strftime(\"%Y-%m-%d\")\n",
    "    #print(dt)\n",
    "    try:\n",
    "        #print(temp_dict[x]['comments'])\n",
    "        score = 0\n",
    "        for y in list(temp_dict[x]['comments']):\n",
    "            try:\n",
    "                lastSumScore = date_dict[dt]['score']\n",
    "                score = lastSumScore+y['score']\n",
    "                date_dict[dt]={'date':dt,'score':score}\n",
    "            except Exception as e:\n",
    "                score = y['score']\n",
    "                date_dict[dt]={'date':dt,'score':score}\n",
    "                pass\n",
    "    except Exception as e:\n",
    "        #print('Exception:'+str(e))\n",
    "        pass\n",
    "#print(date_dict)\n",
    "x_axis = []\n",
    "y_axis = []\n",
    "for x in date_dict:\n",
    "    x_axis.append(x)\n",
    "    y_axis.append(date_dict[x]['score'])\n",
    "\n",
    "zipped = zip(x_axis, y_axis)\n",
    "x_axis = []\n",
    "y_axis = []\n",
    "zipped = sorted(zipped, key=lambda x: x[0])\n",
    "for x in zipped:\n",
    "    x_axis.append(x[0])\n",
    "    y_axis.append(x[1])\n",
    "print(x_axis)\n",
    "print(y_axis)"
   ]
  },
  {
   "cell_type": "code",
   "execution_count": 4,
   "metadata": {},
   "outputs": [
    {
     "data": {
      "text/html": [
       "<script>requirejs.config({paths: { 'plotly': ['https://cdn.plot.ly/plotly-latest.min']},});if(!window.Plotly) {{require(['plotly'],function(plotly) {window.Plotly=plotly;});}}</script>"
      ],
      "text/vnd.plotly.v1+html": [
       "<script>requirejs.config({paths: { 'plotly': ['https://cdn.plot.ly/plotly-latest.min']},});if(!window.Plotly) {{require(['plotly'],function(plotly) {window.Plotly=plotly;});}}</script>"
      ]
     },
     "metadata": {},
     "output_type": "display_data"
    },
    {
     "data": {
      "application/vnd.plotly.v1+json": {
       "data": [
        {
         "x": [
          "2019-09-26",
          "2019-09-27",
          "2019-09-28",
          "2019-09-29"
         ],
         "y": [
          22524,
          18984,
          18113,
          24817
         ]
        }
       ],
       "layout": {
        "title": "David PTT 八卦版每日互動(推-噓)觀察"
       }
      },
      "text/html": [
       "<div id=\"1a7c2c91-7f21-4789-ad33-f061048a1c99\" style=\"height: 525px; width: 100%;\" class=\"plotly-graph-div\"></div><script type=\"text/javascript\">require([\"plotly\"], function(Plotly) { window.PLOTLYENV=window.PLOTLYENV || {};window.PLOTLYENV.BASE_URL=\"https://plot.ly\";Plotly.newPlot(\"1a7c2c91-7f21-4789-ad33-f061048a1c99\", [{\"x\": [\"2019-09-26\", \"2019-09-27\", \"2019-09-28\", \"2019-09-29\"], \"y\": [22524, 18984, 18113, 24817]}], {\"title\": \"David PTT \\u516b\\u5366\\u7248\\u6bcf\\u65e5\\u4e92\\u52d5(\\u63a8-\\u5653)\\u89c0\\u5bdf\"}, {\"showLink\": true, \"linkText\": \"Export to plot.ly\"})});</script>"
      ],
      "text/vnd.plotly.v1+html": [
       "<div id=\"1a7c2c91-7f21-4789-ad33-f061048a1c99\" style=\"height: 525px; width: 100%;\" class=\"plotly-graph-div\"></div><script type=\"text/javascript\">require([\"plotly\"], function(Plotly) { window.PLOTLYENV=window.PLOTLYENV || {};window.PLOTLYENV.BASE_URL=\"https://plot.ly\";Plotly.newPlot(\"1a7c2c91-7f21-4789-ad33-f061048a1c99\", [{\"x\": [\"2019-09-26\", \"2019-09-27\", \"2019-09-28\", \"2019-09-29\"], \"y\": [22524, 18984, 18113, 24817]}], {\"title\": \"David PTT \\u516b\\u5366\\u7248\\u6bcf\\u65e5\\u4e92\\u52d5(\\u63a8-\\u5653)\\u89c0\\u5bdf\"}, {\"showLink\": true, \"linkText\": \"Export to plot.ly\"})});</script>"
      ]
     },
     "metadata": {},
     "output_type": "display_data"
    }
   ],
   "source": [
    "plotly.offline.init_notebook_mode(connected=True)\n",
    "plotly.offline.iplot({\n",
    "        \"data\": [{\n",
    "                \"x\": x_axis,\n",
    "                \"y\": y_axis\n",
    "            }],\n",
    "        \"layout\": {\n",
    "            \"title\": \"David PTT 八卦版每日互動(推-噓)觀察\"\n",
    "        }\n",
    "    })\n"
   ]
  },
  {
   "cell_type": "markdown",
   "metadata": {},
   "source": [
    "## Visualization"
   ]
  },
  {
   "cell_type": "code",
   "execution_count": 5,
   "metadata": {},
   "outputs": [
    {
     "data": {
      "text/plain": [
       "[{'_id': ObjectId('5d92a5b60f2f4071511d3a93'),\n",
       "  'author': 'lovecorn',\n",
       "  'board': 'Gossiping',\n",
       "  'comments': [{'content': ': 換',\n",
       "    'ip': '223.141.203.117',\n",
       "    'score': 1,\n",
       "    'time': '09/30 00:00',\n",
       "    'user': 'leito'},\n",
       "   {'content': ': 為什麼不去',\n",
       "    'ip': '122.30.201.175',\n",
       "    'score': 1,\n",
       "    'time': '09/30 00:00',\n",
       "    'user': 'cena0605'},\n",
       "   {'content': ': 小颱風而已 當然換 恭喜你',\n",
       "    'ip': '39.8.62.38',\n",
       "    'score': 1,\n",
       "    'time': '09/30 00:00',\n",
       "    'user': 'lfk'},\n",
       "   {'content': ': 換阿 why not',\n",
       "    'ip': '220.132.191.60',\n",
       "    'score': 1,\n",
       "    'time': '09/30 00:00',\n",
       "    'user': 'Ericz7000'},\n",
       "   {'content': ': 換到他破產',\n",
       "    'ip': '1.161.139.24',\n",
       "    'score': 1,\n",
       "    'time': '09/30 00:00',\n",
       "    'user': 'snsdakb48'},\n",
       "   {'content': ': 時薪1000還不錯啊',\n",
       "    'ip': '59.127.1.217',\n",
       "    'score': 0,\n",
       "    'time': '09/30 00:00',\n",
       "    'user': 's902131'},\n",
       "   {'content': ': 時薪一千 要幹嘛？',\n",
       "    'ip': '114.27.210.26',\n",
       "    'score': 1,\n",
       "    'time': '09/30 00:00',\n",
       "    'user': 'r66'},\n",
       "   {'content': ': 可以',\n",
       "    'ip': '1.168.127.92',\n",
       "    'score': 1,\n",
       "    'time': '09/30 00:01',\n",
       "    'user': 'darkdogoblin'},\n",
       "   {'content': ': 看差事 跟肛門有關至少60萬',\n",
       "    'ip': '110.50.185.249',\n",
       "    'score': 1,\n",
       "    'time': '09/30 00:01',\n",
       "    'user': 'r025876'},\n",
       "   {'content': ': 別去，給老闆臉色看',\n",
       "    'ip': '124.218.147.4',\n",
       "    'score': -1,\n",
       "    'time': '09/30 00:01',\n",
       "    'user': 'fulongb210f'},\n",
       "   {'content': ': 當然換 魯魯沒這機會只能在家睡覺 呵呵',\n",
       "    'ip': '1.34.233.213',\n",
       "    'score': 1,\n",
       "    'time': '09/30 00:01',\n",
       "    'user': 'monar'},\n",
       "   {'content': ': 不會...6萬就考慮一下',\n",
       "    'ip': '1.161.53.219',\n",
       "    'score': -1,\n",
       "    'time': '09/30 00:01',\n",
       "    'user': 'HeavensCloud'},\n",
       "   {'content': ': 不去 跟老闆說我不缺這點錢',\n",
       "    'ip': '223.136.97.243',\n",
       "    'score': 0,\n",
       "    'time': '09/30 00:02',\n",
       "    'user': 'chanceperson'},\n",
       "   {'content': ': 不會 六千太少',\n",
       "    'ip': '180.177.33.135',\n",
       "    'score': 0,\n",
       "    'time': '09/30 00:02',\n",
       "    'user': 'a27588679'},\n",
       "   {'content': ': 去',\n",
       "    'ip': '36.227.111.34',\n",
       "    'score': 0,\n",
       "    'time': '09/30 00:02',\n",
       "    'user': 'palapalanhu'},\n",
       "   {'content': ': 反正平常星期一本來就要上班幹嘛不去',\n",
       "    'ip': '220.137.59.137',\n",
       "    'score': 0,\n",
       "    'time': '09/30 00:03',\n",
       "    'user': 'Xhocer'},\n",
       "   {'content': ': Ptt的大家都是日入六萬的 你在這問不',\n",
       "    'ip': '1.160.93.225',\n",
       "    'score': 1,\n",
       "    'time': '09/30 00:03',\n",
       "    'user': 'adslme123'},\n",
       "   {'content': ': 準',\n",
       "    'ip': '1.160.93.225',\n",
       "    'score': 0,\n",
       "    'time': '09/30 00:03',\n",
       "    'user': 'adslme123'},\n",
       "   {'content': ': 宅待在家也只是打手槍還只能一發就軟了',\n",
       "    'ip': '220.137.59.137',\n",
       "    'score': 0,\n",
       "    'time': '09/30 00:04',\n",
       "    'user': 'Xhocer'},\n",
       "   {'content': ': 換一次6k小模跟在家睡覺 自己選',\n",
       "    'ip': '110.50.139.177',\n",
       "    'score': 0,\n",
       "    'time': '09/30 00:04',\n",
       "    'user': 'The5F'},\n",
       "   {'content': ': 換啊',\n",
       "    'ip': '36.230.31.181',\n",
       "    'score': 1,\n",
       "    'time': '09/30 00:10',\n",
       "    'user': 'if2'},\n",
       "   {'content': ': = =幹累得半死 小模真好賺......',\n",
       "    'ip': '123.192.229.80',\n",
       "    'score': 0,\n",
       "    'time': '09/30 00:10',\n",
       "    'user': 'leotompp'},\n",
       "   {'content': ': 大家真有錢 跟TOEIC 人人999一樣',\n",
       "    'ip': '49.217.129.16',\n",
       "    'score': 1,\n",
       "    'time': '09/30 00:11',\n",
       "    'user': 'silentence'},\n",
       "   {'content': ': 白痴才不去',\n",
       "    'ip': '27.242.10.215',\n",
       "    'score': 1,\n",
       "    'time': '09/30 00:15',\n",
       "    'user': 'cx3373'},\n",
       "   {'content': ': 當然會啊',\n",
       "    'ip': '220.133.134.54',\n",
       "    'score': 1,\n",
       "    'time': '09/30 00:18',\n",
       "    'user': 'kakyou10'},\n",
       "   {'content': ': 換阿 放假一時爽 其實還滿空虛的',\n",
       "    'ip': '123.194.83.73',\n",
       "    'score': 1,\n",
       "    'time': '09/30 00:22',\n",
       "    'user': 'clamperni'},\n",
       "   {'content': ': 換阿 超多的',\n",
       "    'ip': '59.115.37.46',\n",
       "    'score': 1,\n",
       "    'time': '09/30 00:23',\n",
       "    'user': 'jay484848200'},\n",
       "   {'content': ': 不要去，老闆會再加錢',\n",
       "    'ip': '1.200.220.168',\n",
       "    'score': 1,\n",
       "    'time': '09/30 00:24',\n",
       "    'user': 'milkyway168'},\n",
       "   {'content': ': 去啊',\n",
       "    'ip': '49.217.66.50',\n",
       "    'score': 0,\n",
       "    'time': '09/30 00:29',\n",
       "    'user': 'wwvvkai'},\n",
       "   {'content': ': 換啊',\n",
       "    'ip': '101.15.216.94',\n",
       "    'score': 1,\n",
       "    'time': '09/30 00:30',\n",
       "    'user': 'maxst'},\n",
       "   {'content': ': 放假一時爽蠻空虛的..... 你生活有多可憐',\n",
       "    'ip': '39.11.70.113',\n",
       "    'score': 1,\n",
       "    'time': '09/30 00:33',\n",
       "    'user': 'kevabc1'},\n",
       "   {'content': ': ...????',\n",
       "    'ip': '39.11.70.113',\n",
       "    'score': 0,\n",
       "    'time': '09/30 00:33',\n",
       "    'user': 'kevabc1'},\n",
       "   {'content': ': 換阿，上班沒危險的話幹嗎不賺',\n",
       "    'ip': '111.250.35.37',\n",
       "    'score': 1,\n",
       "    'time': '09/30 00:35',\n",
       "    'user': 'bluezero000'},\n",
       "   {'content': ': 當然會，反正那天本來就該上班',\n",
       "    'ip': '223.137.86.6',\n",
       "    'score': 1,\n",
       "    'time': '09/30 00:36',\n",
       "    'user': 'cheaptool'},\n",
       "   {'content': ': 6K當然出門啊',\n",
       "    'ip': '111.242.106.88',\n",
       "    'score': 1,\n",
       "    'time': '09/30 00:39',\n",
       "    'user': 'OOQ'},\n",
       "   {'content': ': 當然換啊 又沒事',\n",
       "    'ip': '36.226.249.247',\n",
       "    'score': 1,\n",
       "    'time': '09/30 00:43',\n",
       "    'user': 'Gossiking'},\n",
       "   {'content': ': 6k當然換 不然正常日一天才一千多',\n",
       "    'ip': '114.43.213.153',\n",
       "    'score': 1,\n",
       "    'time': '09/30 00:51',\n",
       "    'user': 'ms0545173'},\n",
       "   {'content': ': 是我就需去了',\n",
       "    'ip': '220.132.71.145',\n",
       "    'score': 1,\n",
       "    'time': '09/30 00:51',\n",
       "    'user': 'kimula01'},\n",
       "   {'content': ': 把基本薪資調到10萬,就不需要加班費了',\n",
       "    'ip': '36.231.240.218',\n",
       "    'score': 1,\n",
       "    'time': '09/30 00:52',\n",
       "    'user': 'alladult'},\n",
       "   {'content': ': 沒事雨又沒大到見鬼 會考慮去',\n",
       "    'ip': '1.34.113.210',\n",
       "    'score': 1,\n",
       "    'time': '09/30 00:58',\n",
       "    'user': 'seemoon2000'},\n",
       "   {'content': ': 換',\n",
       "    'ip': '223.136.9.232',\n",
       "    'score': 1,\n",
       "    'time': '09/30 01:06',\n",
       "    'user': 'claymath'},\n",
       "   {'content': ': 當然去賺啊，股市又沒開門',\n",
       "    'ip': '223.137.153.89',\n",
       "    'score': 1,\n",
       "    'time': '09/30 01:06',\n",
       "    'user': 'GodOfGods'},\n",
       "   {'content': ': 去洗大樓嗎？',\n",
       "    'ip': '180.218.173.99',\n",
       "    'score': 1,\n",
       "    'time': '09/30 01:42',\n",
       "    'user': 'kevin05233'},\n",
       "   {'content': ': 先看要不要賭命',\n",
       "    'ip': '111.253.56.194',\n",
       "    'score': 1,\n",
       "    'time': '09/30 01:54',\n",
       "    'user': 'drinkmuffin'},\n",
       "   {'content': ': 修電塔的話不要',\n",
       "    'ip': '118.169.208.252',\n",
       "    'score': 0,\n",
       "    'time': '09/30 01:58',\n",
       "    'user': 'lulocke'},\n",
       "   {'content': ': 臨時放一天這種真的蠻空虛的',\n",
       "    'ip': '1.169.117.240',\n",
       "    'score': 1,\n",
       "    'time': '09/30 02:16',\n",
       "    'user': 'AWNESS'},\n",
       "   {'content': ': 附近縣市也玩到不知道玩什麼了',\n",
       "    'ip': '1.169.117.240',\n",
       "    'score': 0,\n",
       "    'time': '09/30 02:17',\n",
       "    'user': 'AWNESS'},\n",
       "   {'content': ': 在家又無聊 電視電腦也不知道要玩啥',\n",
       "    'ip': '1.169.117.240',\n",
       "    'score': 0,\n",
       "    'time': '09/30 02:17',\n",
       "    'user': 'AWNESS'},\n",
       "   {'content': ': 6小6000有颱風我也去上班好嗎',\n",
       "    'ip': '180.176.62.27',\n",
       "    'score': 1,\n",
       "    'time': '09/30 02:25',\n",
       "    'user': 'guogu'},\n",
       "   {'content': ': 會',\n",
       "    'ip': '36.227.20.155',\n",
       "    'score': 0,\n",
       "    'time': '09/30 02:43',\n",
       "    'user': 'wulaw5566'},\n",
       "   {'content': ': 換',\n",
       "    'ip': '223.136.133.131',\n",
       "    'score': 1,\n",
       "    'time': '09/30 03:01',\n",
       "    'user': 'hunder31'},\n",
       "   {'content': ': 換，除非是外勤就別了',\n",
       "    'ip': '150.116.255.66',\n",
       "    'score': 1,\n",
       "    'time': '09/30 03:10',\n",
       "    'user': 'nbcb'},\n",
       "   {'content': ': 爽耶',\n",
       "    'ip': '220.143.161.189',\n",
       "    'score': 0,\n",
       "    'time': '09/30 04:26',\n",
       "    'user': 'x7834210'},\n",
       "   {'content': ': 我4000就做',\n",
       "    'ip': '220.143.161.189',\n",
       "    'score': 0,\n",
       "    'time': '09/30 04:26',\n",
       "    'user': 'x7834210'},\n",
       "   {'content': ': 外勤的話看業種',\n",
       "    'ip': '220.143.161.189',\n",
       "    'score': 0,\n",
       "    'time': '09/30 04:26',\n",
       "    'user': 'x7834210'},\n",
       "   {'content': ': 不要順便探老闆底限會加到多少',\n",
       "    'ip': '42.73.54.36',\n",
       "    'score': 1,\n",
       "    'time': '09/30 07:47',\n",
       "    'user': 'op520ptt'},\n",
       "   {'content': ': 換',\n",
       "    'ip': '101.12.101.249',\n",
       "    'score': 1,\n",
       "    'time': '09/30 08:09',\n",
       "    'user': 'h4352635'},\n",
       "   {'content': ': 換 6000值得',\n",
       "    'ip': '42.77.95.74',\n",
       "    'score': 0,\n",
       "    'time': '09/30 09:05',\n",
       "    'user': 'ohlong'},\n",
       "   {'content': ': 去  直得',\n",
       "    'ip': '60.250.200.85',\n",
       "    'score': 1,\n",
       "    'time': '09/30 09:17',\n",
       "    'user': 'yesyesyesyes'},\n",
       "   {'content': ': 去啊，然後路上被路樹打中',\n",
       "    'ip': '101.136.205.78',\n",
       "    'score': 1,\n",
       "    'time': '09/30 09:42',\n",
       "    'user': 'huabandd'},\n",
       "   {'content': ': 換阿',\n",
       "    'ip': '58.114.155.67',\n",
       "    'score': 0,\n",
       "    'time': '09/30 10:07',\n",
       "    'user': 'done1011'},\n",
       "   {'content': ': 換阿6小時而已，下班的時間還是很多',\n",
       "    'ip': '110.50.134.128',\n",
       "    'score': 1,\n",
       "    'time': '09/30 10:48',\n",
       "    'user': 'VitaminR'},\n",
       "   {'content': ': 換啊',\n",
       "    'ip': '39.9.44.27',\n",
       "    'score': 1,\n",
       "    'time': '09/30 10:50',\n",
       "    'user': 'ewjfd'},\n",
       "   {'content': ': 換啊，又不用顧小孩。',\n",
       "    'ip': '111.71.46.118',\n",
       "    'score': 0,\n",
       "    'time': '09/30 11:41',\n",
       "    'user': 'boyo78'},\n",
       "   {'content': ': 換啊',\n",
       "    'ip': '39.9.72.164',\n",
       "    'score': 1,\n",
       "    'time': '09/30 13:21',\n",
       "    'user': 'guepard'}],\n",
       "  'content': '\\n明天放颱風假,\\n\\n但老闆有一件急事要辦,\\n\\n開出明天上6個小時班,\\n\\n換6000台幣的加班費,\\n\\n是你, 你會換嗎?\\n\\n我會耶~\\n\\n--\\n',\n",
       "  'date': datetime.datetime(2019, 9, 29, 23, 59, 42),\n",
       "  'ip': '59.102.148.166',\n",
       "  'locale': '(臺灣)',\n",
       "  'score': 40,\n",
       "  'title': '[問卦] 沒颱風的颱風假,一天6小換6000台幣,換嗎?',\n",
       "  'updatetime': datetime.datetime(2019, 10, 1, 9, 2, 46, 587000),\n",
       "  'url': 'https://www.ptt.cc/bbs/Gossiping/M.1569772785.A.5F9.html'}]"
      ]
     },
     "execution_count": 5,
     "metadata": {},
     "output_type": "execute_result"
    }
   ],
   "source": [
    "result[:1]"
   ]
  },
  {
   "cell_type": "code",
   "execution_count": 6,
   "metadata": {},
   "outputs": [
    {
     "data": {
      "text/html": [
       "<div>\n",
       "<style scoped>\n",
       "    .dataframe tbody tr th:only-of-type {\n",
       "        vertical-align: middle;\n",
       "    }\n",
       "\n",
       "    .dataframe tbody tr th {\n",
       "        vertical-align: top;\n",
       "    }\n",
       "\n",
       "    .dataframe thead th {\n",
       "        text-align: right;\n",
       "    }\n",
       "</style>\n",
       "<table border=\"1\" class=\"dataframe\">\n",
       "  <thead>\n",
       "    <tr style=\"text-align: right;\">\n",
       "      <th></th>\n",
       "      <th>_id</th>\n",
       "      <th>author</th>\n",
       "      <th>board</th>\n",
       "      <th>comments</th>\n",
       "      <th>content</th>\n",
       "      <th>date</th>\n",
       "      <th>ip</th>\n",
       "      <th>locale</th>\n",
       "      <th>score</th>\n",
       "      <th>title</th>\n",
       "      <th>updatetime</th>\n",
       "      <th>url</th>\n",
       "    </tr>\n",
       "  </thead>\n",
       "  <tbody>\n",
       "    <tr>\n",
       "      <th>0</th>\n",
       "      <td>5d92a5b60f2f4071511d3a93</td>\n",
       "      <td>lovecorn</td>\n",
       "      <td>Gossiping</td>\n",
       "      <td>[{'user': 'leito', 'content': ': 換', 'score': ...</td>\n",
       "      <td>\\n明天放颱風假,\\n\\n但老闆有一件急事要辦,\\n\\n開出明天上6個小時班,\\n\\n換60...</td>\n",
       "      <td>2019-09-29 23:59:42</td>\n",
       "      <td>59.102.148.166</td>\n",
       "      <td>(臺灣)</td>\n",
       "      <td>40</td>\n",
       "      <td>[問卦] 沒颱風的颱風假,一天6小換6000台幣,換嗎?</td>\n",
       "      <td>2019-10-01 09:02:46.587</td>\n",
       "      <td>https://www.ptt.cc/bbs/Gossiping/M.1569772785....</td>\n",
       "    </tr>\n",
       "  </tbody>\n",
       "</table>\n",
       "</div>"
      ],
      "text/plain": [
       "                        _id    author      board  \\\n",
       "0  5d92a5b60f2f4071511d3a93  lovecorn  Gossiping   \n",
       "\n",
       "                                            comments  \\\n",
       "0  [{'user': 'leito', 'content': ': 換', 'score': ...   \n",
       "\n",
       "                                             content                date  \\\n",
       "0  \\n明天放颱風假,\\n\\n但老闆有一件急事要辦,\\n\\n開出明天上6個小時班,\\n\\n換60... 2019-09-29 23:59:42   \n",
       "\n",
       "               ip locale  score                         title  \\\n",
       "0  59.102.148.166   (臺灣)     40  [問卦] 沒颱風的颱風假,一天6小換6000台幣,換嗎?   \n",
       "\n",
       "               updatetime                                                url  \n",
       "0 2019-10-01 09:02:46.587  https://www.ptt.cc/bbs/Gossiping/M.1569772785....  "
      ]
     },
     "execution_count": 6,
     "metadata": {},
     "output_type": "execute_result"
    }
   ],
   "source": [
    "import pandas as pd\n",
    "\n",
    "df = pd.DataFrame(result)\n",
    "df.head(1)"
   ]
  },
  {
   "cell_type": "code",
   "execution_count": 7,
   "metadata": {},
   "outputs": [],
   "source": [
    "from datetime import datetime as dt\n",
    "\n",
    "def weekday(posts):\n",
    "    weekdays = []\n",
    "    for post in posts:\n",
    "        weekdays.append(dt.strptime(post, \"%Y-%m-%d %H:%M:%S\").weekday()+1)\n",
    "    return weekdays\n",
    "\n",
    "def hour(posts):\n",
    "    hours = []\n",
    "    for post in posts:\n",
    "        hours.append(dt.strptime(post, \"%Y-%m-%d %H:%M:%S\").hour)\n",
    "    return hours\n",
    "\n",
    "def day(posts):\n",
    "    days = []\n",
    "    for post in posts:\n",
    "        days.append(dt.strptime(post, \"%Y-%m-%d %H:%M:%S\").strftime('%Y-%m-%d'))\n",
    "    return days"
   ]
  },
  {
   "cell_type": "code",
   "execution_count": 8,
   "metadata": {},
   "outputs": [
    {
     "data": {
      "text/html": [
       "<div>\n",
       "<style scoped>\n",
       "    .dataframe tbody tr th:only-of-type {\n",
       "        vertical-align: middle;\n",
       "    }\n",
       "\n",
       "    .dataframe tbody tr th {\n",
       "        vertical-align: top;\n",
       "    }\n",
       "\n",
       "    .dataframe thead th {\n",
       "        text-align: right;\n",
       "    }\n",
       "</style>\n",
       "<table border=\"1\" class=\"dataframe\">\n",
       "  <thead>\n",
       "    <tr style=\"text-align: right;\">\n",
       "      <th></th>\n",
       "      <th>_id</th>\n",
       "      <th>author</th>\n",
       "      <th>board</th>\n",
       "      <th>comments</th>\n",
       "      <th>content</th>\n",
       "      <th>date</th>\n",
       "      <th>ip</th>\n",
       "      <th>locale</th>\n",
       "      <th>score</th>\n",
       "      <th>title</th>\n",
       "      <th>updatetime</th>\n",
       "      <th>url</th>\n",
       "      <th>hour</th>\n",
       "      <th>weekday</th>\n",
       "      <th>post_date</th>\n",
       "    </tr>\n",
       "  </thead>\n",
       "  <tbody>\n",
       "    <tr>\n",
       "      <th>0</th>\n",
       "      <td>5d92a5b60f2f4071511d3a93</td>\n",
       "      <td>lovecorn</td>\n",
       "      <td>Gossiping</td>\n",
       "      <td>[{'user': 'leito', 'content': ': 換', 'score': ...</td>\n",
       "      <td>\\n明天放颱風假,\\n\\n但老闆有一件急事要辦,\\n\\n開出明天上6個小時班,\\n\\n換60...</td>\n",
       "      <td>2019-09-29 23:59:42</td>\n",
       "      <td>59.102.148.166</td>\n",
       "      <td>(臺灣)</td>\n",
       "      <td>40</td>\n",
       "      <td>[問卦] 沒颱風的颱風假,一天6小換6000台幣,換嗎?</td>\n",
       "      <td>2019-10-01 09:02:46.587</td>\n",
       "      <td>https://www.ptt.cc/bbs/Gossiping/M.1569772785....</td>\n",
       "      <td>23</td>\n",
       "      <td>7</td>\n",
       "      <td>2019-09-29</td>\n",
       "    </tr>\n",
       "  </tbody>\n",
       "</table>\n",
       "</div>"
      ],
      "text/plain": [
       "                        _id    author      board  \\\n",
       "0  5d92a5b60f2f4071511d3a93  lovecorn  Gossiping   \n",
       "\n",
       "                                            comments  \\\n",
       "0  [{'user': 'leito', 'content': ': 換', 'score': ...   \n",
       "\n",
       "                                             content                date  \\\n",
       "0  \\n明天放颱風假,\\n\\n但老闆有一件急事要辦,\\n\\n開出明天上6個小時班,\\n\\n換60... 2019-09-29 23:59:42   \n",
       "\n",
       "               ip locale  score                         title  \\\n",
       "0  59.102.148.166   (臺灣)     40  [問卦] 沒颱風的颱風假,一天6小換6000台幣,換嗎?   \n",
       "\n",
       "               updatetime                                                url  \\\n",
       "0 2019-10-01 09:02:46.587  https://www.ptt.cc/bbs/Gossiping/M.1569772785....   \n",
       "\n",
       "   hour  weekday   post_date  \n",
       "0    23        7  2019-09-29  "
      ]
     },
     "execution_count": 8,
     "metadata": {},
     "output_type": "execute_result"
    }
   ],
   "source": [
    "df['hour'] = hour(df['date'].astype(str))\n",
    "df['weekday'] = weekday(df['date'].astype(str))\n",
    "df['post_date'] = day(df['date'].astype(str))\n",
    "df.head(1)"
   ]
  },
  {
   "cell_type": "markdown",
   "metadata": {
    "collapsed": true
   },
   "source": [
    "## 周間、24小時鄉民 發文 的熱度"
   ]
  },
  {
   "cell_type": "code",
   "execution_count": 9,
   "metadata": {},
   "outputs": [],
   "source": [
    "import matplotlib.pyplot as plt\n",
    "import json\n",
    "%matplotlib inline"
   ]
  },
  {
   "cell_type": "code",
   "execution_count": 10,
   "metadata": {},
   "outputs": [
    {
     "data": {
      "image/png": "[encoded data removed]",
      "text/plain": [
       "<Figure size 1728x504 with 2 Axes>"
      ]
     },
     "metadata": {
      "needs_background": "light"
     },
     "output_type": "display_data"
    }
   ],
   "source": [
    "plt.figure(figsize=(24,7))\n",
    "plt.hist2d(df['hour'], df['weekday'],bins=[24,7], label=['hi','hi'],cmap=plt.cm.plasma)\n",
    "plt.colorbar()\n",
    "plt.show()"
   ]
  },
  {
   "cell_type": "markdown",
   "metadata": {},
   "source": [
    "### scatter by followers count and post count"
   ]
  },
  {
   "cell_type": "code",
   "execution_count": 11,
   "metadata": {},
   "outputs": [
    {
     "data": {
      "text/html": [
       "<div>\n",
       "<style scoped>\n",
       "    .dataframe tbody tr th:only-of-type {\n",
       "        vertical-align: middle;\n",
       "    }\n",
       "\n",
       "    .dataframe tbody tr th {\n",
       "        vertical-align: top;\n",
       "    }\n",
       "\n",
       "    .dataframe thead th {\n",
       "        text-align: right;\n",
       "    }\n",
       "</style>\n",
       "<table border=\"1\" class=\"dataframe\">\n",
       "  <thead>\n",
       "    <tr style=\"text-align: right;\">\n",
       "      <th></th>\n",
       "      <th>_id</th>\n",
       "      <th>author</th>\n",
       "      <th>board</th>\n",
       "      <th>comments</th>\n",
       "      <th>content</th>\n",
       "      <th>date</th>\n",
       "      <th>ip</th>\n",
       "      <th>locale</th>\n",
       "      <th>score</th>\n",
       "      <th>title</th>\n",
       "      <th>updatetime</th>\n",
       "      <th>url</th>\n",
       "      <th>hour</th>\n",
       "      <th>weekday</th>\n",
       "      <th>post_date</th>\n",
       "      <th>reaction</th>\n",
       "    </tr>\n",
       "  </thead>\n",
       "  <tbody>\n",
       "    <tr>\n",
       "      <th>0</th>\n",
       "      <td>5d92a5b60f2f4071511d3a93</td>\n",
       "      <td>lovecorn</td>\n",
       "      <td>Gossiping</td>\n",
       "      <td>[{'user': 'leito', 'content': ': 換', 'score': ...</td>\n",
       "      <td>\\n明天放颱風假,\\n\\n但老闆有一件急事要辦,\\n\\n開出明天上6個小時班,\\n\\n換60...</td>\n",
       "      <td>2019-09-29 23:59:42</td>\n",
       "      <td>59.102.148.166</td>\n",
       "      <td>(臺灣)</td>\n",
       "      <td>40</td>\n",
       "      <td>[問卦] 沒颱風的颱風假,一天6小換6000台幣,換嗎?</td>\n",
       "      <td>2019-10-01 09:02:46.587</td>\n",
       "      <td>https://www.ptt.cc/bbs/Gossiping/M.1569772785....</td>\n",
       "      <td>23</td>\n",
       "      <td>7</td>\n",
       "      <td>2019-09-29</td>\n",
       "      <td>65</td>\n",
       "    </tr>\n",
       "  </tbody>\n",
       "</table>\n",
       "</div>"
      ],
      "text/plain": [
       "                        _id    author      board  \\\n",
       "0  5d92a5b60f2f4071511d3a93  lovecorn  Gossiping   \n",
       "\n",
       "                                            comments  \\\n",
       "0  [{'user': 'leito', 'content': ': 換', 'score': ...   \n",
       "\n",
       "                                             content                date  \\\n",
       "0  \\n明天放颱風假,\\n\\n但老闆有一件急事要辦,\\n\\n開出明天上6個小時班,\\n\\n換60... 2019-09-29 23:59:42   \n",
       "\n",
       "               ip locale  score                         title  \\\n",
       "0  59.102.148.166   (臺灣)     40  [問卦] 沒颱風的颱風假,一天6小換6000台幣,換嗎?   \n",
       "\n",
       "               updatetime                                                url  \\\n",
       "0 2019-10-01 09:02:46.587  https://www.ptt.cc/bbs/Gossiping/M.1569772785....   \n",
       "\n",
       "   hour  weekday   post_date  reaction  \n",
       "0    23        7  2019-09-29        65  "
      ]
     },
     "execution_count": 11,
     "metadata": {},
     "output_type": "execute_result"
    }
   ],
   "source": [
    "import json\n",
    "\n",
    "# display all comments from ptt post\n",
    "# pd.set_option('display.max_colwidth', -1)\n",
    "\n",
    "df[\"reaction\"] = df[\"comments\"].apply(lambda x: len(x))\n",
    "#df[\"comment_word_count\"] = df[\"comments\"].apply(lambda x: len(x))\n",
    "df.head(1)"
   ]
  },
  {
   "cell_type": "code",
   "execution_count": 19,
   "metadata": {},
   "outputs": [
    {
     "data": {
      "text/html": [
       "<div>\n",
       "<style scoped>\n",
       "    .dataframe tbody tr th:only-of-type {\n",
       "        vertical-align: middle;\n",
       "    }\n",
       "\n",
       "    .dataframe tbody tr th {\n",
       "        vertical-align: top;\n",
       "    }\n",
       "\n",
       "    .dataframe thead th {\n",
       "        text-align: right;\n",
       "    }\n",
       "</style>\n",
       "<table border=\"1\" class=\"dataframe\">\n",
       "  <thead>\n",
       "    <tr style=\"text-align: right;\">\n",
       "      <th></th>\n",
       "      <th>_id</th>\n",
       "      <th>author</th>\n",
       "      <th>board</th>\n",
       "      <th>comments</th>\n",
       "      <th>content</th>\n",
       "      <th>date</th>\n",
       "      <th>ip</th>\n",
       "      <th>locale</th>\n",
       "      <th>score</th>\n",
       "      <th>title</th>\n",
       "      <th>updatetime</th>\n",
       "      <th>url</th>\n",
       "      <th>hour</th>\n",
       "      <th>weekday</th>\n",
       "      <th>post_date</th>\n",
       "      <th>reaction</th>\n",
       "      <th>comment_raw</th>\n",
       "      <th>comment_length</th>\n",
       "      <th>comment_avg_length</th>\n",
       "    </tr>\n",
       "  </thead>\n",
       "  <tbody>\n",
       "    <tr>\n",
       "      <th>0</th>\n",
       "      <td>5d92a5b60f2f4071511d3a93</td>\n",
       "      <td>lovecorn</td>\n",
       "      <td>Gossiping</td>\n",
       "      <td>[{'user': 'leito', 'content': ': 換', 'score': ...</td>\n",
       "      <td>\\n明天放颱風假,\\n\\n但老闆有一件急事要辦,\\n\\n開出明天上6個小時班,\\n\\n換60...</td>\n",
       "      <td>2019-09-29 23:59:42</td>\n",
       "      <td>59.102.148.166</td>\n",
       "      <td>(臺灣)</td>\n",
       "      <td>40</td>\n",
       "      <td>[問卦] 沒颱風的颱風假,一天6小換6000台幣,換嗎?</td>\n",
       "      <td>2019-10-01 09:02:46.587</td>\n",
       "      <td>https://www.ptt.cc/bbs/Gossiping/M.1569772785....</td>\n",
       "      <td>23</td>\n",
       "      <td>7</td>\n",
       "      <td>2019-09-29</td>\n",
       "      <td>65</td>\n",
       "      <td>換 為什麼不去 小颱風而已 當然換 恭喜你 換阿 why not 換到他破產 時薪1000還...</td>\n",
       "      <td>674</td>\n",
       "      <td>10</td>\n",
       "    </tr>\n",
       "  </tbody>\n",
       "</table>\n",
       "</div>"
      ],
      "text/plain": [
       "                        _id    author      board  \\\n",
       "0  5d92a5b60f2f4071511d3a93  lovecorn  Gossiping   \n",
       "\n",
       "                                            comments  \\\n",
       "0  [{'user': 'leito', 'content': ': 換', 'score': ...   \n",
       "\n",
       "                                             content                date  \\\n",
       "0  \\n明天放颱風假,\\n\\n但老闆有一件急事要辦,\\n\\n開出明天上6個小時班,\\n\\n換60... 2019-09-29 23:59:42   \n",
       "\n",
       "               ip locale  score                         title  \\\n",
       "0  59.102.148.166   (臺灣)     40  [問卦] 沒颱風的颱風假,一天6小換6000台幣,換嗎?   \n",
       "\n",
       "               updatetime                                                url  \\\n",
       "0 2019-10-01 09:02:46.587  https://www.ptt.cc/bbs/Gossiping/M.1569772785....   \n",
       "\n",
       "   hour  weekday   post_date  reaction  \\\n",
       "0    23        7  2019-09-29        65   \n",
       "\n",
       "                                         comment_raw  comment_length  \\\n",
       "0  換 為什麼不去 小颱風而已 當然換 恭喜你 換阿 why not 換到他破產 時薪1000還...             674   \n",
       "\n",
       "   comment_avg_length  \n",
       "0                  10  "
      ]
     },
     "execution_count": 19,
     "metadata": {},
     "output_type": "execute_result"
    }
   ],
   "source": [
    "df[\"comment_raw\"] = df[\"comments\"].apply(lambda x: \" \".join([word['content'].strip(': ') for word in x]))\n",
    "df['comment_length'] = df[\"comment_raw\"].apply(len)\n",
    "df['comment_avg_length'] = (df[\"comment_length\"]/df[\"reaction\"])\n",
    "df['comment_avg_length'].fillna(0, inplace=True)\n",
    "df['comment_avg_length'] = df['comment_avg_length'].astype(int)\n",
    "df.head(1)"
   ]
  },
  {
   "cell_type": "code",
   "execution_count": 26,
   "metadata": {},
   "outputs": [
    {
     "data": {
      "text/html": [
       "<div>\n",
       "<style scoped>\n",
       "    .dataframe tbody tr th:only-of-type {\n",
       "        vertical-align: middle;\n",
       "    }\n",
       "\n",
       "    .dataframe tbody tr th {\n",
       "        vertical-align: top;\n",
       "    }\n",
       "\n",
       "    .dataframe thead th {\n",
       "        text-align: right;\n",
       "    }\n",
       "</style>\n",
       "<table border=\"1\" class=\"dataframe\">\n",
       "  <thead>\n",
       "    <tr style=\"text-align: right;\">\n",
       "      <th></th>\n",
       "      <th>_id</th>\n",
       "      <th>author</th>\n",
       "      <th>board</th>\n",
       "      <th>comments</th>\n",
       "      <th>content</th>\n",
       "      <th>date</th>\n",
       "      <th>ip</th>\n",
       "      <th>locale</th>\n",
       "      <th>score</th>\n",
       "      <th>title</th>\n",
       "      <th>updatetime</th>\n",
       "      <th>url</th>\n",
       "      <th>hour</th>\n",
       "      <th>weekday</th>\n",
       "      <th>post_date</th>\n",
       "      <th>reaction</th>\n",
       "      <th>comment_raw</th>\n",
       "      <th>comment_length</th>\n",
       "      <th>comment_avg_length</th>\n",
       "    </tr>\n",
       "  </thead>\n",
       "  <tbody>\n",
       "    <tr>\n",
       "      <th>930</th>\n",
       "      <td>5d92a8180f2f4071511d4959</td>\n",
       "      <td>alod1023</td>\n",
       "      <td>Gossiping</td>\n",
       "      <td>[{'user': 'lymyuming', 'content': ': 肥菊2.0,給12...</td>\n",
       "      <td>\\n</td>\n",
       "      <td>2019-09-29 16:10:58</td>\n",
       "      <td>118.168.94.93</td>\n",
       "      <td>(臺灣)</td>\n",
       "      <td>1</td>\n",
       "      <td>Re: [新聞] 蔡英文參訪桃園農博展 稱讚全台首創福菜</td>\n",
       "      <td>2019-10-01 09:12:56.028</td>\n",
       "      <td>https://www.ptt.cc/bbs/Gossiping/M.1569744661....</td>\n",
       "      <td>16</td>\n",
       "      <td>7</td>\n",
       "      <td>2019-09-29</td>\n",
       "      <td>1</td>\n",
       "      <td>肥菊2.0,給12年負債會破2000億嗎??</td>\n",
       "      <td>22</td>\n",
       "      <td>22</td>\n",
       "    </tr>\n",
       "    <tr>\n",
       "      <th>1828</th>\n",
       "      <td>5d92aa680f2f4071511d57a7</td>\n",
       "      <td>mother</td>\n",
       "      <td>Gossiping</td>\n",
       "      <td>[{'user': 'AppleMan', 'content': ':  /|||\\    ...</td>\n",
       "      <td>\\n</td>\n",
       "      <td>2019-09-29 01:14:27</td>\n",
       "      <td>219.91.2.54</td>\n",
       "      <td>(臺灣)</td>\n",
       "      <td>0</td>\n",
       "      <td>Re: [問卦] 不小心有太多地怎麼辦？</td>\n",
       "      <td>2019-10-01 09:22:48.133</td>\n",
       "      <td>https://www.ptt.cc/bbs/Gossiping/M.1569690870....</td>\n",
       "      <td>1</td>\n",
       "      <td>7</td>\n",
       "      <td>2019-09-29</td>\n",
       "      <td>1</td>\n",
       "      <td>/|||\\      /|||\\      /|||\\</td>\n",
       "      <td>27</td>\n",
       "      <td>27</td>\n",
       "    </tr>\n",
       "    <tr>\n",
       "      <th>1842</th>\n",
       "      <td>5d92aa6e0f2f4071511d57cf</td>\n",
       "      <td>mother</td>\n",
       "      <td>Gossiping</td>\n",
       "      <td>[{'user': 'AppleMan', 'content': ': /|||\\  /||...</td>\n",
       "      <td>\\n</td>\n",
       "      <td>2019-09-29 01:03:48</td>\n",
       "      <td>219.91.2.54</td>\n",
       "      <td>(臺灣)</td>\n",
       "      <td>1</td>\n",
       "      <td>Re: [問卦] 樂團唱現場忘詞怎麼辦</td>\n",
       "      <td>2019-10-01 09:22:54.940</td>\n",
       "      <td>https://www.ptt.cc/bbs/Gossiping/M.1569690233....</td>\n",
       "      <td>1</td>\n",
       "      <td>7</td>\n",
       "      <td>2019-09-29</td>\n",
       "      <td>2</td>\n",
       "      <td>/|||\\  /|||\\  /|||\\  /|||\\  /|||\\ 老木還沒睡~(@</td>\n",
       "      <td>42</td>\n",
       "      <td>21</td>\n",
       "    </tr>\n",
       "    <tr>\n",
       "      <th>6391</th>\n",
       "      <td>5d92b62b0f2f4071511da021</td>\n",
       "      <td>widec</td>\n",
       "      <td>Gossiping</td>\n",
       "      <td>[{'user': 'gk1329', 'content': ': co2要500以下吧 p...</td>\n",
       "      <td>\\n</td>\n",
       "      <td>2019-09-26 12:26:11</td>\n",
       "      <td>111.253.56.23</td>\n",
       "      <td>(臺灣)</td>\n",
       "      <td>1</td>\n",
       "      <td>Re: [問卦] 圖書館內pM2.5和CO2濃度沒有優良 求解</td>\n",
       "      <td>2019-10-01 10:12:59.467</td>\n",
       "      <td>https://www.ptt.cc/bbs/Gossiping/M.1569471973....</td>\n",
       "      <td>12</td>\n",
       "      <td>4</td>\n",
       "      <td>2019-09-26</td>\n",
       "      <td>8</td>\n",
       "      <td>co2要500以下吧 pm2.5要15以下  我記得 戶外co2一般都400左右 100年前...</td>\n",
       "      <td>168</td>\n",
       "      <td>21</td>\n",
       "    </tr>\n",
       "  </tbody>\n",
       "</table>\n",
       "</div>"
      ],
      "text/plain": [
       "                           _id    author      board  \\\n",
       "930   5d92a8180f2f4071511d4959  alod1023  Gossiping   \n",
       "1828  5d92aa680f2f4071511d57a7    mother  Gossiping   \n",
       "1842  5d92aa6e0f2f4071511d57cf    mother  Gossiping   \n",
       "6391  5d92b62b0f2f4071511da021     widec  Gossiping   \n",
       "\n",
       "                                               comments content  \\\n",
       "930   [{'user': 'lymyuming', 'content': ': 肥菊2.0,給12...      \\n   \n",
       "1828  [{'user': 'AppleMan', 'content': ':  /|||\\    ...      \\n   \n",
       "1842  [{'user': 'AppleMan', 'content': ': /|||\\  /||...      \\n   \n",
       "6391  [{'user': 'gk1329', 'content': ': co2要500以下吧 p...      \\n   \n",
       "\n",
       "                    date             ip locale  score  \\\n",
       "930  2019-09-29 16:10:58  118.168.94.93   (臺灣)      1   \n",
       "1828 2019-09-29 01:14:27    219.91.2.54   (臺灣)      0   \n",
       "1842 2019-09-29 01:03:48    219.91.2.54   (臺灣)      1   \n",
       "6391 2019-09-26 12:26:11  111.253.56.23   (臺灣)      1   \n",
       "\n",
       "                                title              updatetime  \\\n",
       "930      Re: [新聞] 蔡英文參訪桃園農博展 稱讚全台首創福菜 2019-10-01 09:12:56.028   \n",
       "1828             Re: [問卦] 不小心有太多地怎麼辦？ 2019-10-01 09:22:48.133   \n",
       "1842              Re: [問卦] 樂團唱現場忘詞怎麼辦 2019-10-01 09:22:54.940   \n",
       "6391  Re: [問卦] 圖書館內pM2.5和CO2濃度沒有優良 求解 2019-10-01 10:12:59.467   \n",
       "\n",
       "                                                    url  hour  weekday  \\\n",
       "930   https://www.ptt.cc/bbs/Gossiping/M.1569744661....    16        7   \n",
       "1828  https://www.ptt.cc/bbs/Gossiping/M.1569690870....     1        7   \n",
       "1842  https://www.ptt.cc/bbs/Gossiping/M.1569690233....     1        7   \n",
       "6391  https://www.ptt.cc/bbs/Gossiping/M.1569471973....    12        4   \n",
       "\n",
       "       post_date  reaction                                        comment_raw  \\\n",
       "930   2019-09-29         1                             肥菊2.0,給12年負債會破2000億嗎??   \n",
       "1828  2019-09-29         1                        /|||\\      /|||\\      /|||\\   \n",
       "1842  2019-09-29         2         /|||\\  /|||\\  /|||\\  /|||\\  /|||\\ 老木還沒睡~(@   \n",
       "6391  2019-09-26         8  co2要500以下吧 pm2.5要15以下  我記得 戶外co2一般都400左右 100年前...   \n",
       "\n",
       "      comment_length  comment_avg_length  \n",
       "930               22                  22  \n",
       "1828              27                  27  \n",
       "1842              42                  21  \n",
       "6391             168                  21  "
      ]
     },
     "execution_count": 26,
     "metadata": {},
     "output_type": "execute_result"
    }
   ],
   "source": [
    "df.loc[df['comment_avg_length'] > 20]"
   ]
  },
  {
   "cell_type": "code",
   "execution_count": 24,
   "metadata": {},
   "outputs": [],
   "source": [
    "groupbyUsermMean = df.groupby('author').mean()"
   ]
  },
  {
   "cell_type": "code",
   "execution_count": 14,
   "metadata": {},
   "outputs": [
    {
     "data": {
      "image/png": "[encoded data removed]",
      "text/plain": [
       "<Figure size 1440x720 with 1 Axes>"
      ]
     },
     "metadata": {
      "needs_background": "light"
     },
     "output_type": "display_data"
    }
   ],
   "source": [
    "ax = plt.subplots(ncols=1,figsize=(20,10))\n",
    "ax[1].title.set_text('Linear Scale')\n",
    "groupbyUsermMean.plot.scatter(x='reaction',y='score',c='DarkBlue',ax=ax[1], s=15)\n",
    "plt.show()"
   ]
  },
  {
   "cell_type": "code",
   "execution_count": 15,
   "metadata": {},
   "outputs": [
    {
     "data": {
      "image/png": "[encoded data removed]",
      "text/plain": [
       "<Figure size 1440x720 with 1 Axes>"
      ]
     },
     "metadata": {
      "needs_background": "light"
     },
     "output_type": "display_data"
    }
   ],
   "source": [
    "ax = plt.subplots(ncols=1,figsize=(20,10))\n",
    "ax[1].title.set_text('Linear Scale')\n",
    "groupbyUsermMean.plot.scatter(x='reaction',y='comment_avg_length',c='DarkBlue',ax=ax[1], s=15)\n",
    "plt.show()"
   ]
  },
  {
   "cell_type": "code",
   "execution_count": 16,
   "metadata": {},
   "outputs": [
    {
     "data": {
      "image/png": "[encoded data removed]",
      "text/plain": [
       "<Figure size 1080x360 with 1 Axes>"
      ]
     },
     "metadata": {
      "needs_background": "light"
     },
     "output_type": "display_data"
    }
   ],
   "source": [
    "plot = groupbyUsermMean[['score','reaction', 'hour']].plot.box(figsize=(15,5), vert=False, showfliers=False)"
   ]
  },
  {
   "cell_type": "code",
   "execution_count": 17,
   "metadata": {},
   "outputs": [
    {
     "data": {
      "image/png": "[encoded data removed]",
      "text/plain": [
       "<Figure size 1080x360 with 1 Axes>"
      ]
     },
     "metadata": {
      "needs_background": "light"
     },
     "output_type": "display_data"
    }
   ],
   "source": [
    "plot = groupbyUsermMean[['score','reaction', 'comment_avg_length']].plot.box(figsize=(15,5), vert=False, showfliers=False)"
   ]
  },
  {
   "cell_type": "code",
   "execution_count": 18,
   "metadata": {},
   "outputs": [
    {
     "data": {
      "text/plain": [
       "<matplotlib.axes._subplots.AxesSubplot at 0x211ed3e2668>"
      ]
     },
     "execution_count": 18,
     "metadata": {},
     "output_type": "execute_result"
    },
    {
     "data": {
      "image/png": "[encoded data removed]",
      "text/plain": [
       "<Figure size 432x288 with 1 Axes>"
      ]
     },
     "metadata": {
      "needs_background": "light"
     },
     "output_type": "display_data"
    }
   ],
   "source": [
    "# 平均單則留言字數在 10 字左右\n",
    "df['comment_avg_length'].value_counts().plot(kind=\"bar\", rot=0)"
   ]
  },
  {
   "cell_type": "code",
   "execution_count": 28,
   "metadata": {},
   "outputs": [
    {
     "data": {
      "text/plain": [
       "<matplotlib.axes._subplots.AxesSubplot at 0x211ed67ae10>"
      ]
     },
     "execution_count": 28,
     "metadata": {},
     "output_type": "execute_result"
    },
    {
     "data": {
      "image/png": "[encoded data removed]",
      "text/plain": [
       "<Figure size 432x288 with 2 Axes>"
      ]
     },
     "metadata": {
      "needs_background": "light"
     },
     "output_type": "display_data"
    }
   ],
   "source": [
    "import seaborn as sns\n",
    "%matplotlib inline\n",
    "\n",
    "sns.heatmap(df.corr(), cmap='coolwarm', annot=True)"
   ]
  }
 ],
 "metadata": {
  "anaconda-cloud": {},
  "kernelspec": {
   "display_name": "Python 3",
   "language": "python",
   "name": "python3"
  },
  "language_info": {
   "codemirror_mode": {
    "name": "ipython",
    "version": 3
   },
   "file_extension": ".py",
   "mimetype": "text/x-python",
   "name": "python",
   "nbconvert_exporter": "python",
   "pygments_lexer": "ipython3",
   "version": "3.6.4"
  }
 },
 "nbformat": 4,
 "nbformat_minor": 1
}
