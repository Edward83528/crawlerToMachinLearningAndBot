{
 "cells": [
  {
   "cell_type": "code",
   "execution_count": 1,
   "metadata": {},
   "outputs": [
    {
     "name": "stdout",
     "output_type": "stream",
     "text": [
      "===\n",
      "open the browser\n",
      "===\n",
      "\n",
      "\n",
      "\n",
      "Waiting 10 sec\n",
      "Google\n",
      "DavidLanz - Google 搜尋\n"
     ]
    }
   ],
   "source": [
    "from selenium import webdriver\n",
    "from selenium.webdriver.chrome.options import Options\n",
    "from selenium.common.exceptions import TimeoutException\n",
    " \n",
    "# available since 2.4.0\n",
    "from selenium.webdriver.support.ui import WebDriverWait\n",
    " \n",
    "# available since 2.26.0\n",
    "from selenium.webdriver.support import expected_conditions as EC\n",
    "\n",
    "\n",
    "# open the browser\n",
    "print(\"===\\nopen the browser\\n===\\n\\n\\n\")\n",
    "driver = webdriver.Chrome('assets/chromedriver.exe')\n",
    "# makes sure slower connections work as well        \n",
    "print (\"Waiting 10 sec\")\n",
    "driver.implicitly_wait(10)\n",
    "\n",
    "# 開啟 google\n",
    "driver.get(\"http://www.google.com\")\n",
    " \n",
    "# 顯示標題\n",
    "print(driver.title)\n",
    " \n",
    "# 找到搜尋框\n",
    "inputElement = driver.find_element_by_name(\"q\")\n",
    " \n",
    "# 搜尋框輸入字\n",
    "inputElement.send_keys(\"DavidLanz\")\n",
    "#inputElement.send_keys(\"DavidLanz site:jumpin.cc\")\n",
    " \n",
    "# 送出查詢\n",
    "inputElement.submit()\n",
    " \n",
    "try:\n",
    "    # 直到標題有 DavidLanz\n",
    "    WebDriverWait(driver, 10).until(EC.title_contains(\"DavidLanz\"))\n",
    " \n",
    "    # 顯示標題，可看到 DavidLanz\n",
    "    print(driver.title)\n",
    "except TimeoutException:\n",
    "    print('time out')\n",
    "finally:\n",
    "    #driver.quit()\n",
    "    pass\n"
   ]
  },
  {
   "cell_type": "code",
   "execution_count": null,
   "metadata": {},
   "outputs": [],
   "source": []
  }
 ],
 "metadata": {
  "kernelspec": {
   "display_name": "Python 3",
   "language": "python",
   "name": "python3"
  },
  "language_info": {
   "codemirror_mode": {
    "name": "ipython",
    "version": 3
   },
   "file_extension": ".py",
   "mimetype": "text/x-python",
   "name": "python",
   "nbconvert_exporter": "python",
   "pygments_lexer": "ipython3",
   "version": "3.7.3"
  }
 },
 "nbformat": 4,
 "nbformat_minor": 2
}
