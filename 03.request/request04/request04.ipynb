{
 "cells": [
  {
   "cell_type": "markdown",
   "metadata": {},
   "source": [
    "# requests - HTTP POST - 登入成功，利用Session取得Content"
   ]
  },
  {
   "cell_type": "code",
   "execution_count": 1,
   "metadata": {
    "collapsed": false
   },
   "outputs": [
    {
     "name": "stdout",
     "output_type": "stream",
     "text": [
      "Convolutional Neural Networks (CNNs) have recently<br>been shown to achieve impressive results<br>on the practically important task of sentence categorization<br>(Kim, 2014; Kalchbrenner et al., 2014;<br>Wang et al., 2015; Goldberg, 2015; Iyyer et al.,<br>2015). CNNs can capitalize on distributed representations<br>of words by first converting the tokens<br>comprising each sentence into a vector, forming a<br>matrix to be used as input (e.g., see Fig. 1). The<br>models need not be complex to realize strong results:<br>Kim (2014), for example, proposed a simple<br>one-layer CNN that achieved state-of-the-art (or<br>comparable) results across several datasets. The<br>very strong results achieved with this comparatively<br>simple CNN architecture suggest that it may<br>serve as a drop-in replacement for well-established<br>baseline models, such as SVM (Joachims, 1998)<br>or logistic regression. While more complex deep<br>learning models for text classification will undoubtedly<br>continue to be developed, those deploying<br>such technologies in practice will likely be attracted<br>to simpler variants, which afford fast training<br>and prediction times.<br><br><a href=\"logout.php\">Logout</a><br>\n",
      "Done\n"
     ]
    }
   ],
   "source": [
    "#!/usr/bin/env python\n",
    "# -*- coding: utf-8 -*-\n",
    "#65001\n",
    "import requests\n",
    "\n",
    "def request_uri(uri,name,password):\n",
    "    html_data = ''\n",
    "    try:\n",
    "        header = {\"User-Agent\": 'Mozilla/5.0 (Windows NT 10.0; WOW64; rv:51.0) Gecko/20100101 Firefox/51.0'}\n",
    "        data = {\"name\":name,\"password\":password}\n",
    "        rs = requests.session()\n",
    "        res = rs.post(uri, data=data, headers=header)\n",
    "        res = rs.get('http://jumpin.cc/HelloForm/content.php')\n",
    "        html_data =  res.text\n",
    "    except Exception as e:\n",
    "        print(str(e))\n",
    "        pass\n",
    "    return html_data\n",
    "\n",
    "\n",
    "def start_requests(uri,name,password):\n",
    "    html_data =  request_uri(uri,name,password)\n",
    "    print(html_data)\n",
    "\n",
    "\n",
    "if __name__ == '__main__':\n",
    "    start_requests('http://jumpin.cc/HelloForm/post.php','David','1234');\n",
    "    print(\"Done\")\n",
    "\n"
   ]
  }
 ],
 "metadata": {
  "anaconda-cloud": {},
  "kernelspec": {
   "display_name": "Python [conda root]",
   "language": "python",
   "name": "conda-root-py"
  },
  "language_info": {
   "codemirror_mode": {
    "name": "ipython",
    "version": 3
   },
   "file_extension": ".py",
   "mimetype": "text/x-python",
   "name": "python",
   "nbconvert_exporter": "python",
   "pygments_lexer": "ipython3",
   "version": "3.5.2"
  }
 },
 "nbformat": 4,
 "nbformat_minor": 1
}
