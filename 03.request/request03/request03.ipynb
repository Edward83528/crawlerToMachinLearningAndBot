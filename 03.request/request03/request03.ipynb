{
 "cells": [
  {
   "cell_type": "markdown",
   "metadata": {},
   "source": [
    "# requests - HTTP POST - 無登入或登入失敗，無法取得content"
   ]
  },
  {
   "cell_type": "code",
   "execution_count": 1,
   "metadata": {
    "collapsed": false
   },
   "outputs": [
    {
     "name": "stdout",
     "output_type": "stream",
     "text": [
      "You need to login first.<br><a href=\"index.php\">Go back</a><br>\n",
      "Done\n"
     ]
    }
   ],
   "source": [
    "#!/usr/bin/env python\n",
    "# -*- coding: utf-8 -*-\n",
    "#65001\n",
    "import requests\n",
    "\n",
    "def request_post_uri(uri,name,password):\n",
    "    html_data = ''\n",
    "    try:\n",
    "        header = {\"User-Agent\": 'Mozilla/5.0 (Windows NT 10.0; WOW64; rv:51.0) Gecko/20100101 Firefox/51.0'}\n",
    "        data = {\"name\":name,\"password\":password}\n",
    "        res = requests.post(uri, data=data, headers=header)\n",
    "        html_data =  res.text\n",
    "    except Exception as e:\n",
    "        print(str(e))\n",
    "        pass\n",
    "    return html_data\n",
    "\n",
    "\n",
    "def request_get_uri(uri):\n",
    "    html_data = ''\n",
    "    try:\n",
    "        header = {\"User-Agent\": 'User-Agent=Mozilla/5.0 (Windows NT 10.0; WOW64; rv:51.0) Gecko/20100101 Firefox/51.0'}\n",
    "        res = requests.get(uri, headers=header)\n",
    "        html_data =  res.text\n",
    "    except Exception as e:\n",
    "        print(str(e))\n",
    "        pass\n",
    "    return html_data\n",
    "\n",
    "\n",
    "def start_requests(uri,name,password):\n",
    "    html_data =  request_post_uri(uri,name,password)\n",
    "    html_data =  request_get_uri('http://jumpin.cc/HelloForm/content.php')\n",
    "    print(html_data)\n",
    "\n",
    "\n",
    "if __name__ == '__main__':\n",
    "    start_requests('http://jumpin.cc/HelloForm/post.php','David','1234');\n",
    "    print(\"Done\")\n",
    "\n"
   ]
  }
 ],
 "metadata": {
  "anaconda-cloud": {},
  "kernelspec": {
   "display_name": "Python 3",
   "language": "python",
   "name": "python3"
  },
  "language_info": {
   "codemirror_mode": {
    "name": "ipython",
    "version": 3
   },
   "file_extension": ".py",
   "mimetype": "text/x-python",
   "name": "python",
   "nbconvert_exporter": "python",
   "pygments_lexer": "ipython3",
   "version": "3.7.3"
  }
 },
 "nbformat": 4,
 "nbformat_minor": 2
}
