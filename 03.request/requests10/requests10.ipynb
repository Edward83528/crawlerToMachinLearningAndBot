{
 "cells": [
  {
   "cell_type": "markdown",
   "metadata": {},
   "source": [
    "# 利用 Requests 拆解法 - LD+JSON"
   ]
  },
  {
   "cell_type": "code",
   "execution_count": 2,
   "metadata": {
    "collapsed": false
   },
   "outputs": [
    {
     "name": "stdout",
     "output_type": "stream",
     "text": [
      "{\"mainEntityOfPage\": {\"@type\": \"WebPage\", \"@id\": \"https://tw.appledaily.com/headline/daily/20190416/38310684/\"}, \"dateCreated\": \"2019-04-16T06:00+08:00\", \"datePublished\": \"2019-04-16T05:00:00+08:00\", \"image\": {\"@type\": \"ImageObject\", \"url\": \"https://img.appledaily.com.tw/images/twapple/640pix/20190416/LA01/LA01_004.jpg\"}, \"author\": {\"name\": \"蘋果新聞網\", \"@type\": \"Organization\"}, \"description\": \"《蘋果》獨家 第2波對比式民調 對決 柯蔡賴 韓國瑜變更強 柯若不選 韓對戰賴清德 只領先6百分點\", \"hasPart\": [{\"@type\": \"WebPageElement\", \"cssSelector\": \".ndAritcle_headPic\", \"isAccessibleForFree\": \"False\"}, {\"@type\": \"WebPageElement\", \"cssSelector\": \".ndArticle_margin\", \"isAccessibleForFree\": \"False\"}, {\"@type\": \"WebPageElement\", \"cssSelector\": \".thoracis\", \"isAccessibleForFree\": \"False\"}, {\"@type\": \"WebPageElement\", \"cssSelector\": \".mediabox\", \"isAccessibleForFree\": \"False\"}], \"dateModified\": \"2019-04-16T05:00:00+08:00\", \"thumbnailUrl\": \"https://img.appledaily.com.tw/images/twapple/640pix/20190416/LA01/LA01_004.jpg\", \"headline\": \"《蘋果》獨家 第2波對比式民調 對決 柯蔡賴 韓國瑜變更強 柯若不選 韓對戰賴清德 只領先6百分點\", \"keywords\": [\"頭條要聞\"], \"@type\": \"NewsArticle\", \"creator\": \"蘋果新聞網\", \"articleSection\": \"蘋果_頭條要聞\", \"publisher\": {\"logo\": {\"width\": 232, \"height\": 90, \"@type\": \"ImageObject\", \"url\": \"https://img.appledaily.com.tw/appledaily/images/core/logo_bg.png\"}, \"name\": \"蘋果新聞網\", \"@type\": \"Organization\"}, \"@context\": \"http://schema.org\", \"isAccessibleForFree\": \"False\", \"url\": \"https://tw.appledaily.com/headline/daily/20190416/38310684/\"}\n",
      "Done\n"
     ]
    }
   ],
   "source": [
    "import json\n",
    "import requests\n",
    "import codecs\n",
    "\n",
    "rs = requests.session()\n",
    "\n",
    "def start_requests(uri):\n",
    "    html_data = request_get(uri)\n",
    "    l = html_data.split('<script type=\"application/ld+json\">')[1].split('</script>')[0]\n",
    "    j = json.dumps(json.loads(l), ensure_ascii=False)\n",
    "    return j\n",
    "\n",
    "def request_get(uri):\n",
    "    header = {'User-Agent': 'Mozilla/5.0 (Windows NT 10.0; WOW64; rv:53.0) Gecko/20100101 Firefox/53.0'}\n",
    "    res = rs.get(uri, headers=header)\n",
    "    html_data =  res.text\n",
    "    return html_data\n",
    "\n",
    "if __name__ == '__main__':\n",
    "    items = []\n",
    "    uri = 'https://tw.news.appledaily.com/headline/daily/20190416/38310684'\n",
    "    row_json = start_requests(uri)\n",
    "    print(row_json)\n",
    "    file = codecs.open('ldjson.json', 'w', encoding='utf-8')\n",
    "    file.write(row_json)\n",
    "    file.close()\n",
    "    r = requests.get(url=uri, headers={'Connection':'close'})\n",
    "\n",
    "    print(\"Done\")"
   ]
  }
 ],
 "metadata": {
  "anaconda-cloud": {},
  "kernelspec": {
   "display_name": "Python 3",
   "language": "python",
   "name": "python3"
  },
  "language_info": {
   "codemirror_mode": {
    "name": "ipython",
    "version": 3
   },
   "file_extension": ".py",
   "mimetype": "text/x-python",
   "name": "python",
   "nbconvert_exporter": "python",
   "pygments_lexer": "ipython3",
   "version": "3.7.3"
  }
 },
 "nbformat": 4,
 "nbformat_minor": 2
}
