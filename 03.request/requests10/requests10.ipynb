{
 "cells": [
  {
   "cell_type": "markdown",
   "metadata": {},
   "source": [
    "# 利用 Requests 拆解法 - LD+JSON"
   ]
  },
  {
   "cell_type": "code",
   "execution_count": null,
   "metadata": {
    "collapsed": false
   },
   "outputs": [],
   "source": [
    "import json\n",
    "import requests\n",
    "import codecs\n",
    "\n",
    "rs = requests.session()\n",
    "\n",
    "def start_requests(uri):\n",
    "    html_data = request_get(uri)\n",
    "    l = html_data.split('<script type=\"application/ld+json\">')[1].split('</script>')[0]\n",
    "    j = json.dumps(json.loads(l), ensure_ascii=False)\n",
    "    return j\n",
    "\n",
    "def request_get(uri):\n",
    "    header = {'User-Agent': 'Mozilla/5.0 (Windows NT 10.0; WOW64; rv:53.0) Gecko/20100101 Firefox/53.0'}\n",
    "    res = rs.get(uri, headers=header)\n",
    "    html_data =  res.text\n",
    "    return html_data\n",
    "\n",
    "if __name__ == '__main__':\n",
    "    items = []\n",
    "    uri = 'https://tw.news.appledaily.com/headline/daily/20190416/38310684'\n",
    "    row_json = start_requests(uri)\n",
    "    print(row_json)\n",
    "    file = codecs.open('ldjson.json', 'w', encoding='utf-8')\n",
    "    file.write(row_json)\n",
    "    file.close()\n",
    "    r = requests.get(url=uri, headers={'Connection':'close'})\n",
    "\n",
    "    print(\"Done\")"
   ]
  }
 ],
 "metadata": {
  "anaconda-cloud": {},
  "kernelspec": {
   "display_name": "Python 3",
   "language": "python",
   "name": "python3"
  },
  "language_info": {
   "codemirror_mode": {
    "name": "ipython",
    "version": 3
   },
   "file_extension": ".py",
   "mimetype": "text/x-python",
   "name": "python",
   "nbconvert_exporter": "python",
   "pygments_lexer": "ipython3",
   "version": "3.7.3"
  }
 },
 "nbformat": 4,
 "nbformat_minor": 2
}
